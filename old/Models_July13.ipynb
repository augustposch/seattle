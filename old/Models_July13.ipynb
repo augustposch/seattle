{
 "cells": [
  {
   "cell_type": "markdown",
   "id": "2b3faa5b-fc05-4b9f-ba47-b46767b5529e",
   "metadata": {},
   "source": [
    "### Model fitting"
   ]
  },
  {
   "cell_type": "code",
   "execution_count": 4,
   "id": "77d3532f-6fef-4245-a182-6cac6381a33a",
   "metadata": {},
   "outputs": [],
   "source": [
    "%matplotlib inline\n",
    "import numpy as np\n",
    "import pandas as pd\n",
    "import matplotlib.pyplot as plt\n",
    "import seaborn as sns"
   ]
  },
  {
   "cell_type": "markdown",
   "id": "667d0cea-331a-407d-a097-e1519cd4a1f7",
   "metadata": {},
   "source": [
    "### Read and clean dataset"
   ]
  },
  {
   "cell_type": "code",
   "execution_count": 5,
   "id": "14bbd591-eae9-4f6f-bfa1-f8e3fa43489f",
   "metadata": {},
   "outputs": [],
   "source": [
    "#data2021 = pd.read_csv('2021_RAW_APC_Data.csv')\n",
    "data2019 = pd.read_csv('2019_RAW_APC_Data.csv')"
   ]
  },
  {
   "cell_type": "code",
   "execution_count": 6,
   "id": "3c820e7f-e1b7-4365-8e28-71098c283f6b",
   "metadata": {},
   "outputs": [],
   "source": [
    "for col in ['route finish time','route start time','stop arrival time']:\n",
    "    data2019[col] = pd.to_datetime(data2019[col])"
   ]
  },
  {
   "cell_type": "code",
   "execution_count": null,
   "id": "64ea1815-91c0-4589-88b0-994e16c1461c",
   "metadata": {},
   "outputs": [],
   "source": []
  },
  {
   "cell_type": "code",
   "execution_count": 7,
   "id": "bf6b07a3-b478-4a02-b914-6d9ce2b56341",
   "metadata": {},
   "outputs": [],
   "source": [
    "df = data2019\n",
    "\n",
    "df['Crowded'] = df['passwithin']>74\n",
    "df['Supercrowded'] = df['passwithin']>134\n",
    "df['Capacity'] = df['passwithin']>194\n",
    "df['UnderNeg5'] = df['passwithin']<-5\n",
    "df['NegAFew'] = df['passwithin'].between(-5,-1)\n",
    "df['Over250'] = df['passwithin']>250\n",
    "\n",
    "df['Crowded000'] = df['passwithin']>0\n",
    "df['Crowded010'] = df['passwithin']>10\n",
    "df['Crowded020'] = df['passwithin']>20\n",
    "df['Crowded030'] = df['passwithin']>30\n",
    "df['Crowded040'] = df['passwithin']>40\n",
    "df['Crowded050'] = df['passwithin']>50\n",
    "df['Crowded060'] = df['passwithin']>60\n",
    "df['Crowded070'] = df['passwithin']>70\n",
    "df['Crowded080'] = df['passwithin']>80\n",
    "df['Crowded090'] = df['passwithin']>90\n",
    "df['Crowded100'] = df['passwithin']>100\n",
    "df['Crowded110'] = df['passwithin']>110\n",
    "df['Crowded120'] = df['passwithin']>120\n",
    "df['Crowded130'] = df['passwithin']>130\n",
    "df['Crowded140'] = df['passwithin']>140\n",
    "df['Crowded150'] = df['passwithin']>150\n",
    "df['Crowded160'] = df['passwithin']>160\n",
    "df['Crowded170'] = df['passwithin']>170\n",
    "df['Crowded180'] = df['passwithin']>180\n",
    "df['Crowded190'] = df['passwithin']>190\n",
    "df['Crowded200'] = df['passwithin']>200\n",
    "df['Crowded210'] = df['passwithin']>210\n",
    "df['Crowded220'] = df['passwithin']>220\n",
    "df['Crowded230'] = df['passwithin']>230\n",
    "df['Crowded240'] = df['passwithin']>240"
   ]
  },
  {
   "cell_type": "code",
   "execution_count": 8,
   "id": "f6a01b37-fc73-45c4-b8f5-b7f00690cc51",
   "metadata": {},
   "outputs": [],
   "source": [
    "df = data2019\n",
    "\n",
    "df['TOD'] = df['stop arrival time'].dt.time\n",
    "df['DOW'] = df['stop arrival time'].dt.dayofweek # 0 is Monday, 6 is Sunday\n",
    "df['DOW_name'] = df['stop arrival time'].dt.day_name()\n",
    "df['Date'] = df['stop arrival time'].dt.date\n",
    "df['Hour'] = df['stop arrival time'].dt.hour\n",
    "df['Minute'] = df['stop arrival time'].dt.minute\n",
    "df['Minute_od'] = df['Hour'] * 60 + df['Minute']\n",
    "df['Month'] = df['stop arrival time'].dt.month\n",
    "df['Month_name'] = df['stop arrival time'].dt.month_name()"
   ]
  },
  {
   "cell_type": "code",
   "execution_count": 9,
   "id": "92246314-ffba-49a9-a3fa-2134996db894",
   "metadata": {},
   "outputs": [],
   "source": [
    "# First, just see how many rows are in each routedone\n",
    "rtd = data2019.groupby('routedone').count()['railcar ID']\n",
    "\n",
    "rtd.name = 'count'\n",
    "\n",
    "overmuch = rtd[rtd>20]\n",
    "\n",
    "df01 = data2019[~data2019['routedone'].isin(overmuch.index)]"
   ]
  },
  {
   "cell_type": "code",
   "execution_count": 10,
   "id": "926e1cef-e591-4fd2-992c-bd59506e34cd",
   "metadata": {},
   "outputs": [],
   "source": [
    "# df02 is df01 but without >210 observations\n",
    "df02 = df01[~df01['Crowded210']]"
   ]
  },
  {
   "cell_type": "markdown",
   "id": "c659e513-1be7-404b-a19d-264df66b51db",
   "metadata": {},
   "source": [
    "Work with df02"
   ]
  },
  {
   "cell_type": "markdown",
   "id": "32b650e7-5070-4694-96b4-aa5653754eba",
   "metadata": {},
   "source": [
    "Add DOW, TOD, Time of year, and station"
   ]
  },
  {
   "cell_type": "markdown",
   "id": "ad5013a2-b5cd-4345-9857-aebca8796aec",
   "metadata": {},
   "source": [
    "Create ML dataset\n",
    "\n",
    "Need to create test/train sets**\n",
    "\n",
    "Readout: need precision and recall.\n",
    "\n",
    "Precision is TP / (TP+FP). Of all times we predicted the train was crowded, how often was the train crowded?\n",
    "\n",
    "Recall is TP / (TP+FN). Of all times the train was crowded, how often did we predict that the train was crowded?\n",
    "\n",
    "F1-score is a weighted average of the two.\n"
   ]
  },
  {
   "cell_type": "code",
   "execution_count": null,
   "id": "fff81e90-3e22-4679-9208-ae6c41038d5c",
   "metadata": {},
   "outputs": [],
   "source": []
  },
  {
   "cell_type": "code",
   "execution_count": 19,
   "id": "c902b73b-bd9e-46f1-a591-69ef04445d7b",
   "metadata": {},
   "outputs": [],
   "source": [
    "from sklearn.utils import shuffle\n",
    "from sklearn.metrics import precision_score, recall_score, f1_score\n",
    "from sklearn.model_selection import train_test_split, cross_val_score, cross_validate"
   ]
  },
  {
   "cell_type": "code",
   "execution_count": 20,
   "id": "c8038569-1779-4ae9-9c41-dabb4b5f012f",
   "metadata": {},
   "outputs": [],
   "source": [
    "# doesn't even take into account station\n",
    "feats01 = ['Minute_od','DOW','Month']"
   ]
  },
  {
   "cell_type": "code",
   "execution_count": 21,
   "id": "80847516-736e-456f-ac00-6069f6ad2d88",
   "metadata": {},
   "outputs": [],
   "source": [
    "df = df02\n",
    "feats = feats01"
   ]
  },
  {
   "cell_type": "code",
   "execution_count": 22,
   "id": "24f44051-0b28-4253-8a48-6a92038df96d",
   "metadata": {},
   "outputs": [],
   "source": [
    "X = df.loc[:,feats]\n",
    "\n",
    "y = df.loc[:,'Crowded'].astype(int)\n",
    "\n",
    "X, y = shuffle(X, y, random_state=19)"
   ]
  },
  {
   "cell_type": "code",
   "execution_count": 23,
   "id": "50a9d84b-2970-4ba0-a958-395dabc8c2e4",
   "metadata": {},
   "outputs": [],
   "source": [
    "from sklearn.linear_model import LogisticRegression\n",
    "from sklearn.ensemble import RandomForestClassifier\n",
    "from sklearn.ensemble import ExtraTreesClassifier\n",
    "from sklearn.svm import SVC\n",
    "from sklearn.svm import LinearSVC\n",
    "from sklearn.naive_bayes import CategoricalNB\n",
    "from sklearn.naive_bayes import GaussianNB\n",
    "from sklearn.neighbors import KNeighborsClassifier"
   ]
  },
  {
   "cell_type": "code",
   "execution_count": 24,
   "id": "9baefefe-bbdf-481c-8bd2-56feb6c8e267",
   "metadata": {},
   "outputs": [],
   "source": [
    "X_train, X_test, y_train, y_test = train_test_split(X,\n",
    "                                                    y,\n",
    "                                                    test_size=0.2,\n",
    "                                                    random_state=19)"
   ]
  },
  {
   "cell_type": "code",
   "execution_count": 44,
   "id": "bdfe40cb-b3f8-42bb-a572-0a982e50977b",
   "metadata": {},
   "outputs": [],
   "source": [
    "# Code adapted from sklearn user guide 3.3.1.4\n",
    "\n",
    "\n",
    "def all_inclusive_scorer(clf, X, y):\n",
    "    print('Starting work on a new fold...')\n",
    "    y_pred = clf.predict(X)\n",
    "    cm = confusion_matrix(y, y_pred)\n",
    "    pr = precision_score(y, y_pred)\n",
    "    re = recall_score(y, y_pred)\n",
    "    f1 = f1_score(y, y_pred)\n",
    "    return {'tn': cm[0, 0], 'fp': cm[0, 1],\n",
    "            'fn': cm[1, 0], 'tp': cm[1, 1],\n",
    "            'precision': pr,\n",
    "            'recall': re,\n",
    "            'f1': f1}"
   ]
  },
  {
   "cell_type": "code",
   "execution_count": 29,
   "id": "f2013a43-1fe7-4a6d-88dc-dae94162adff",
   "metadata": {},
   "outputs": [],
   "source": [
    "# Code from sklearn user guide 3.3.1.4\n",
    "\n",
    "from sklearn.metrics import confusion_matrix\n",
    "# A sample toy binary classification dataset\n",
    "#X, y = datasets.make_classification(n_classes=2, random_state=0)\n",
    "#svm = LinearSVC(random_state=0)\n",
    "def confusion_matrix_scorer(clf, X, y):\n",
    "     y_pred = clf.predict(X)\n",
    "     cm = confusion_matrix(y, y_pred)\n",
    "     return {'tn': cm[0, 0], 'fp': cm[0, 1],\n",
    "             'fn': cm[1, 0], 'tp': cm[1, 1]}\n",
    "    "
   ]
  },
  {
   "cell_type": "code",
   "execution_count": null,
   "id": "444772f2-273f-47ce-bd53-3ce3ca1b3968",
   "metadata": {},
   "outputs": [],
   "source": [
    "cv_results = cross_validate(svm, X, y, cv=5,\n",
    "                            scoring=confusion_matrix_scorer)\n",
    "# Getting the test set true positive scores\n",
    "print(cv_results['test_tp'])\n",
    "\n",
    "# Getting the test set false negative scores\n",
    "print(cv_results['test_fn'])"
   ]
  },
  {
   "cell_type": "markdown",
   "id": "c568c4a0-fdd0-4032-8aac-6638fc2a0d55",
   "metadata": {},
   "source": [
    " Ask Prof. Bogden about better ways to read out on metrics from cross validation.\n",
    "\n",
    "For each score, I am taking a straight mean across the five folds. I feel like this is fine, but it might be better to construct the sum confusion matrix (across the five folds) and then calculate the scores."
   ]
  },
  {
   "cell_type": "code",
   "execution_count": 51,
   "id": "0e139575-92a2-4c37-8552-d15795db7c4c",
   "metadata": {},
   "outputs": [],
   "source": [
    "def cv_readout(model, X, y):\n",
    "    print('Performing 5-fold cross-validation...')\n",
    "    #scores = cross_validate(model, X, y, cv=5, scoring=['precision','recall','f1','confusion_matrix'])\n",
    "    raw = cross_validate(model, X, y, cv=5, scoring=all_inclusive_scorer)\n",
    "    print('Aggregating the scores...')\n",
    "    sum_cm = np.array([[sum(raw['test_tn']), sum(raw['test_fp'])],\n",
    "                       [sum(raw['test_fn']), sum(raw['test_tp'])]])\n",
    "    \n",
    "    agg_scores = pd.DataFrame(index=['precision','recall','f1'],\n",
    "                              columns=['mean','std'])\n",
    "    agg_scores.at['precision','mean'] = np.mean(raw['test_precision'])\n",
    "    agg_scores.at['precision','std'] = np.std(raw['test_precision'])\n",
    "    agg_scores.at['recall','mean'] = np.mean(raw['test_recall'])\n",
    "    agg_scores.at['recall','std'] = np.std(raw['test_recall'])\n",
    "    agg_scores.at['f1','mean'] = np.mean(raw['test_f1'])\n",
    "    agg_scores.at['f1','std'] = np.std(raw['test_f1'])\n",
    "    \n",
    "    print(sum_cm)\n",
    "    print(agg_scores)\n",
    "    "
   ]
  },
  {
   "cell_type": "markdown",
   "id": "c43e2827-e7dc-4649-9913-c121a917d9a1",
   "metadata": {},
   "source": [
    "\n",
    "## Notes 7/15\n",
    "\n",
    "Can I compare with Google's data statistically?\n",
    "\n",
    "Note: this dataset is too large. Don't try to fit a Random Forest on the entire dataset - on new laptop, can do RF on 100,000 observations.\n",
    "\n",
    "Make a scatterplot/pairplot - Day of week and time of day and month - see whether it looks seperable (can we separate Crowded from Non-Crowded based on these variables) - done (tried at least) - hard to create a visualization that honors the categorical aspect of these features.\n",
    "\n",
    "Class imbalance - done\n",
    "\n",
    "Cluster in a compelling way - to do - after PCA\n",
    "\n",
    "Send PB my visualizations - done!\n",
    "\n",
    "Visualize in a way that says what is the appropriate agg strategy.\n",
    "\n",
    "## To do 7/21\n",
    "\n",
    "Decide on class imbalance strategy. done!\n",
    "- This week, just use LogisticRegression(class_weight='balanced')\n",
    "\n",
    "Make a scatterplot/pairplot to see if Crowded observations are separable from Non-Crowded observations. done!\n",
    "\n",
    "Neaten up my readout function. done!\n",
    "\n",
    "Try PCA in multiple ways. (and then cluster.)"
   ]
  },
  {
   "cell_type": "code",
   "execution_count": null,
   "id": "64d5d458-8abc-49db-bda3-025d7fbff18d",
   "metadata": {},
   "outputs": [],
   "source": []
  },
  {
   "cell_type": "code",
   "execution_count": null,
   "id": "50b7e991-c2e8-411d-95f9-06dcdbe35341",
   "metadata": {},
   "outputs": [],
   "source": []
  },
  {
   "cell_type": "code",
   "execution_count": 52,
   "id": "d7f3b52e-226b-429c-a562-740be67fc646",
   "metadata": {},
   "outputs": [
    {
     "name": "stdout",
     "output_type": "stream",
     "text": [
      "Performing 5-fold cross-validation...\n",
      "Starting work on a new fold...\n",
      "Starting work on a new fold...\n",
      "Starting work on a new fold...\n",
      "Starting work on a new fold...\n",
      "Starting work on a new fold...\n",
      "Aggregating the scores...\n",
      "[[509548 425353]\n",
      " [ 48338  52778]]\n",
      "               mean       std\n",
      "precision    0.1104  0.000701\n",
      "recall     0.521955  0.019457\n",
      "f1         0.182208  0.001173\n"
     ]
    }
   ],
   "source": [
    "logi01 = LogisticRegression(class_weight='balanced')\n",
    "scores = cv_readout(logi01,\n",
    "                    X_train,\n",
    "                    y_train)\n",
    "scores"
   ]
  },
  {
   "cell_type": "markdown",
   "id": "1745fc88-049d-4df8-8816-643938786f8f",
   "metadata": {},
   "source": [
    "##\n",
    "\n",
    "Recall 0.5... means that out of all the true Crowded times, we predicted about half of them  \n",
    "Precision 0.1... means that out of the times we predicted Crowded, only 1 in 10 of them turned out to be true.\n",
    "\n",
    "These results are not good enough for public transit.\n",
    "\n",
    "These results were based on very simple imput data (time of day, day of week, and month - all represented as numbers, which is unnatural). It makes sense that the model is crappy!"
   ]
  },
  {
   "cell_type": "markdown",
   "id": "ab5bcfef-5f51-4de9-8551-a82271779b39",
   "metadata": {},
   "source": [
    "## Plots to see if Crowded is seperable"
   ]
  },
  {
   "cell_type": "code",
   "execution_count": 55,
   "id": "48228033-bb7e-4d16-af09-801b72dcad4d",
   "metadata": {},
   "outputs": [],
   "source": [
    "df = df02.sample(1000)"
   ]
  },
  {
   "cell_type": "code",
   "execution_count": 61,
   "id": "f832fa8a-9a0f-48af-843d-acd66df0e10a",
   "metadata": {},
   "outputs": [
    {
     "data": {
      "text/plain": [
       "<seaborn.axisgrid.PairGrid at 0x23b11cfb610>"
      ]
     },
     "execution_count": 61,
     "metadata": {},
     "output_type": "execute_result"
    },
    {
     "data": {
      "image/png": "[encoded data removed]",
      "text/plain": [
       "<Figure size 601.25x540 with 12 Axes>"
      ]
     },
     "metadata": {
      "needs_background": "light"
     },
     "output_type": "display_data"
    }
   ],
   "source": [
    "sns.pairplot(df, vars=['Minute_od','DOW','Month'], kind='kde', hue='Crowded')"
   ]
  },
  {
   "cell_type": "markdown",
   "id": "30e64d82-acec-4d8d-9ba8-34c619421992",
   "metadata": {},
   "source": [
    "Looking at Minute_od, DOW, and Month as continuous values is fundamentally weird.\n",
    "\n",
    "Try looking at these as categorical variables."
   ]
  },
  {
   "cell_type": "markdown",
   "id": "00018c71-eab7-40ad-9849-a2e10ddffaf6",
   "metadata": {},
   "source": [
    "#### Below plot needs help... try doing a separate True plot and separaate false plot"
   ]
  },
  {
   "cell_type": "code",
   "execution_count": 69,
   "id": "3624703c-7bd9-4924-8203-ddac8f912668",
   "metadata": {},
   "outputs": [
    {
     "data": {
      "text/plain": [
       "<seaborn.axisgrid.PairGrid at 0x23b18b78d90>"
      ]
     },
     "execution_count": 69,
     "metadata": {},
     "output_type": "execute_result"
    },
    {
     "data": {
      "image/png": "[encoded data removed]",
      "text/plain": [
       "<Figure size 601.25x540 with 12 Axes>"
      ]
     },
     "metadata": {
      "needs_background": "light"
     },
     "output_type": "display_data"
    }
   ],
   "source": [
    "g = sns.PairGrid(df, vars=['Hour','DOW','Month'], hue='Crowded')\n",
    "g.map_diag(sns.stripplot)\n",
    "g.map_offdiag(sns.histplot)\n",
    "g.add_legend()"
   ]
  },
  {
   "cell_type": "code",
   "execution_count": 74,
   "id": "fcc2b5d2-73ac-48b7-9da1-4bc6ad025538",
   "metadata": {},
   "outputs": [
    {
     "data": {
      "text/plain": [
       "<seaborn.axisgrid.PairGrid at 0x23b19ad01f0>"
      ]
     },
     "execution_count": 74,
     "metadata": {},
     "output_type": "execute_result"
    },
    {
     "data": {
      "image/png": "[encoded data removed]",
      "text/plain": [
       "<Figure size 548x540 with 12 Axes>"
      ]
     },
     "metadata": {
      "needs_background": "light"
     },
     "output_type": "display_data"
    }
   ],
   "source": [
    "g = sns.PairGrid(df[df['Crowded']], vars=['Hour','DOW','Month'])\n",
    "g.map_diag(sns.stripplot)\n",
    "g.map_offdiag(sns.histplot)\n",
    "g.add_legend()"
   ]
  },
  {
   "cell_type": "code",
   "execution_count": 75,
   "id": "85b82424-0e99-4db6-b5ba-1a2d895dc7cc",
   "metadata": {},
   "outputs": [
    {
     "data": {
      "text/plain": [
       "<seaborn.axisgrid.PairGrid at 0x23b13fd9160>"
      ]
     },
     "execution_count": 75,
     "metadata": {},
     "output_type": "execute_result"
    },
    {
     "data": {
      "image/png": "[encoded data removed]",
      "text/plain": [
       "<Figure size 548x540 with 12 Axes>"
      ]
     },
     "metadata": {
      "needs_background": "light"
     },
     "output_type": "display_data"
    }
   ],
   "source": [
    "g = sns.PairGrid(df[~df['Crowded']], vars=['Hour','DOW','Month'])\n",
    "g.map_diag(sns.stripplot)\n",
    "g.map_offdiag(sns.histplot)\n",
    "g.add_legend()"
   ]
  },
  {
   "cell_type": "markdown",
   "id": "0b057d92-1f6a-4678-8afb-cbed9cf022a1",
   "metadata": {},
   "source": [
    "The above didn't really work well. I think the sample is too small, and there aren't any good visualization techniques for 2 categorical variables.\n",
    "\n",
    "Idea: make 3 different heatmaps.\n",
    "\n",
    "Idea: try every combo of Hour, DOW, and Month (2016 combos) and see which combos have the highest proportion of Crowded"
   ]
  },
  {
   "cell_type": "code",
   "execution_count": 87,
   "id": "8220f2f4-3fe3-418e-b035-ebacd2626fd4",
   "metadata": {},
   "outputs": [
    {
     "data": {
      "text/plain": [
       "Hour  DOW  Month\n",
       "17    1    3        0.333982\n",
       "16    3    10       0.336227\n",
       "      4    10       0.339029\n",
       "17    1    8        0.341241\n",
       "      2    5        0.346047\n",
       "16    3    8        0.346373\n",
       "2     2    6        0.357143\n",
       "17    2    8        0.358491\n",
       "      3    10       0.362261\n",
       "           8        0.363086\n",
       "3     0    4        0.368421\n",
       "5     6    2        0.368821\n",
       "2     1    6        0.371429\n",
       "17    2    7        0.375661\n",
       "           10       0.388048\n",
       "2     0    9        0.400000\n",
       "3     0    10       0.529412\n",
       "      3    6        0.562500\n",
       "2     1    10       0.625000\n",
       "4     6    11       1.000000\n",
       "Name: Crowded, dtype: float64"
      ]
     },
     "execution_count": 87,
     "metadata": {},
     "output_type": "execute_result"
    }
   ],
   "source": [
    "df02.groupby(['Hour','DOW','Month'])['Crowded'].mean().sort_values().tail(20)"
   ]
  },
  {
   "cell_type": "markdown",
   "id": "bbf997de-f6ad-4a45-a146-ef5143c643c0",
   "metadata": {},
   "source": [
    "Upshot: Even in these times when Crowded is *most* separable from NonCrowded, it's still not really separable. For all but 4 combos out of around 2000 combos, the chances are still that the observation more likely NonCrowded.\n",
    "\n",
    "So, we need more information than just Hour, DOW, and Month to make any kind of useful classifier.\n",
    "\n",
    "Just to completely prove this, let's do a logistic regression where we use Hour, DOW and Month as factors."
   ]
  },
  {
   "cell_type": "code",
   "execution_count": null,
   "id": "17253c5c-5600-4dd9-a822-3cdbd5b2ce65",
   "metadata": {},
   "outputs": [],
   "source": []
  },
  {
   "cell_type": "code",
   "execution_count": null,
   "id": "dc4d82f8-0ef4-40bd-b3a4-3d66366d4263",
   "metadata": {},
   "outputs": [],
   "source": [
    "from sklearn.preprocessing import OneHotEncoder\n",
    "enc = OneHotEncoder()"
   ]
  },
  {
   "cell_type": "code",
   "execution_count": 97,
   "id": "de837749-c340-4baf-ab4b-7f4b3440d09b",
   "metadata": {},
   "outputs": [],
   "source": [
    "# doesn't even take into account station\n",
    "feats02 = ['Hour','DOW','Month']"
   ]
  },
  {
   "cell_type": "code",
   "execution_count": 88,
   "id": "cfde72e4-6ca5-43c4-b231-b580549d7a33",
   "metadata": {},
   "outputs": [],
   "source": [
    "df = df02\n",
    "feats = feats01"
   ]
  },
  {
   "cell_type": "code",
   "execution_count": 89,
   "id": "16950160-246d-4e7a-8de5-ec64ada9c3a5",
   "metadata": {},
   "outputs": [],
   "source": [
    "X = df.loc[:,feats]\n",
    "\n",
    "y = df.loc[:,'Crowded'].astype(int)\n",
    "\n",
    "X, y = shuffle(X, y, random_state=19)"
   ]
  },
  {
   "cell_type": "code",
   "execution_count": 90,
   "id": "355b0ab4-5b8b-4539-92d1-3d686ed3a31b",
   "metadata": {},
   "outputs": [],
   "source": [
    "X_train, X_test, y_train, y_test = train_test_split(X,\n",
    "                                                    y,\n",
    "                                                    test_size=0.2,\n",
    "                                                    random_state=19)"
   ]
  },
  {
   "cell_type": "code",
   "execution_count": 91,
   "id": "b8f82d94-461b-4664-a20a-ecfd48892a1c",
   "metadata": {},
   "outputs": [],
   "source": [
    "from sklearn.preprocessing import OneHotEncoder"
   ]
  },
  {
   "cell_type": "code",
   "execution_count": 92,
   "id": "60fad2ed-1076-4357-a23e-142e016bad72",
   "metadata": {},
   "outputs": [],
   "source": [
    "enc = OneHotEncoder()\n",
    "X_train_b = enc.fit_transform(X_train)"
   ]
  },
  {
   "cell_type": "code",
   "execution_count": 95,
   "id": "a52de904-5c6e-4775-beea-b1459d7058d0",
   "metadata": {},
   "outputs": [
    {
     "name": "stdout",
     "output_type": "stream",
     "text": [
      "Performing 5-fold cross-validation...\n"
     ]
    },
    {
     "name": "stderr",
     "output_type": "stream",
     "text": [
      "C:\\Users\\augus\\anaconda3\\lib\\site-packages\\sklearn\\linear_model\\_sag.py:352: ConvergenceWarning: The max_iter was reached which means the coef_ did not converge\n",
      "  warnings.warn(\n"
     ]
    },
    {
     "name": "stdout",
     "output_type": "stream",
     "text": [
      "Starting work on a new fold...\n"
     ]
    },
    {
     "name": "stderr",
     "output_type": "stream",
     "text": [
      "C:\\Users\\augus\\anaconda3\\lib\\site-packages\\sklearn\\linear_model\\_sag.py:352: ConvergenceWarning: The max_iter was reached which means the coef_ did not converge\n",
      "  warnings.warn(\n"
     ]
    },
    {
     "name": "stdout",
     "output_type": "stream",
     "text": [
      "Starting work on a new fold...\n"
     ]
    },
    {
     "name": "stderr",
     "output_type": "stream",
     "text": [
      "C:\\Users\\augus\\anaconda3\\lib\\site-packages\\sklearn\\linear_model\\_sag.py:352: ConvergenceWarning: The max_iter was reached which means the coef_ did not converge\n",
      "  warnings.warn(\n"
     ]
    },
    {
     "name": "stdout",
     "output_type": "stream",
     "text": [
      "Starting work on a new fold...\n"
     ]
    },
    {
     "name": "stderr",
     "output_type": "stream",
     "text": [
      "C:\\Users\\augus\\anaconda3\\lib\\site-packages\\sklearn\\linear_model\\_sag.py:352: ConvergenceWarning: The max_iter was reached which means the coef_ did not converge\n",
      "  warnings.warn(\n"
     ]
    },
    {
     "name": "stdout",
     "output_type": "stream",
     "text": [
      "Starting work on a new fold...\n"
     ]
    },
    {
     "name": "stderr",
     "output_type": "stream",
     "text": [
      "C:\\Users\\augus\\anaconda3\\lib\\site-packages\\sklearn\\linear_model\\_sag.py:352: ConvergenceWarning: The max_iter was reached which means the coef_ did not converge\n",
      "  warnings.warn(\n"
     ]
    },
    {
     "name": "stdout",
     "output_type": "stream",
     "text": [
      "Starting work on a new fold...\n",
      "Aggregating the scores...\n",
      "[[607546 327355]\n",
      " [ 29705  71411]]\n",
      "               mean       std\n",
      "precision  0.179145   0.00231\n",
      "recall     0.706229   0.01505\n",
      "f1         0.285747  0.002199\n"
     ]
    }
   ],
   "source": [
    "logi02 = LogisticRegression(class_weight='balanced', solver='sag')\n",
    "scores = cv_readout(logi02,\n",
    "                    X_train_b,\n",
    "                    y_train)\n",
    "scores"
   ]
  },
  {
   "cell_type": "code",
   "execution_count": 96,
   "id": "ed8d3965-67d6-4709-b731-db8f643d4804",
   "metadata": {},
   "outputs": [
    {
     "name": "stdout",
     "output_type": "stream",
     "text": [
      "Performing 5-fold cross-validation...\n",
      "Starting work on a new fold...\n"
     ]
    },
    {
     "name": "stderr",
     "output_type": "stream",
     "text": [
      "C:\\Users\\augus\\anaconda3\\lib\\site-packages\\sklearn\\linear_model\\_sag.py:352: ConvergenceWarning: The max_iter was reached which means the coef_ did not converge\n",
      "  warnings.warn(\n"
     ]
    },
    {
     "name": "stdout",
     "output_type": "stream",
     "text": [
      "Starting work on a new fold...\n"
     ]
    },
    {
     "name": "stderr",
     "output_type": "stream",
     "text": [
      "C:\\Users\\augus\\anaconda3\\lib\\site-packages\\sklearn\\linear_model\\_sag.py:352: ConvergenceWarning: The max_iter was reached which means the coef_ did not converge\n",
      "  warnings.warn(\n"
     ]
    },
    {
     "name": "stdout",
     "output_type": "stream",
     "text": [
      "Starting work on a new fold...\n",
      "Starting work on a new fold...\n"
     ]
    },
    {
     "name": "stderr",
     "output_type": "stream",
     "text": [
      "C:\\Users\\augus\\anaconda3\\lib\\site-packages\\sklearn\\linear_model\\_sag.py:352: ConvergenceWarning: The max_iter was reached which means the coef_ did not converge\n",
      "  warnings.warn(\n"
     ]
    },
    {
     "name": "stdout",
     "output_type": "stream",
     "text": [
      "Starting work on a new fold...\n",
      "Aggregating the scores...\n",
      "[[601363 333538]\n",
      " [ 28834  72282]]\n",
      "               mean       std\n",
      "precision  0.178112  0.000343\n",
      "recall     0.714842  0.004356\n",
      "f1          0.28517  0.000755\n"
     ]
    }
   ],
   "source": [
    "logi03 = LogisticRegression(class_weight='balanced', solver='saga')\n",
    "scores = cv_readout(logi03,\n",
    "                    X_train_b,\n",
    "                    y_train)\n",
    "scores"
   ]
  },
  {
   "cell_type": "markdown",
   "id": "cc164ab3-b1eb-44ca-bb67-313cba60d96f",
   "metadata": {},
   "source": [
    "Oops, I accidentally used minutes of the day as separate categories instead of hours. Try again below."
   ]
  },
  {
   "cell_type": "code",
   "execution_count": null,
   "id": "196c3145-3b24-48fd-9518-a8212944e037",
   "metadata": {},
   "outputs": [],
   "source": []
  },
  {
   "cell_type": "code",
   "execution_count": 98,
   "id": "bc8cc98d-4e08-4007-bd92-87b70feb5235",
   "metadata": {},
   "outputs": [],
   "source": [
    "df = df02\n",
    "feats = feats02"
   ]
  },
  {
   "cell_type": "code",
   "execution_count": 99,
   "id": "f8b4e0a1-36ec-474b-9d37-e1f29c29572b",
   "metadata": {},
   "outputs": [],
   "source": [
    "X = df.loc[:,feats]\n",
    "\n",
    "y = df.loc[:,'Crowded'].astype(int)\n",
    "\n",
    "X, y = shuffle(X, y, random_state=19)"
   ]
  },
  {
   "cell_type": "code",
   "execution_count": 100,
   "id": "9d0ec492-ad39-43f5-b772-286997e0e752",
   "metadata": {},
   "outputs": [],
   "source": [
    "X_train, X_test, y_train, y_test = train_test_split(X,\n",
    "                                                    y,\n",
    "                                                    test_size=0.2,\n",
    "                                                    random_state=19)"
   ]
  },
  {
   "cell_type": "code",
   "execution_count": 101,
   "id": "50129782-1de5-4eb8-b162-6233da871493",
   "metadata": {},
   "outputs": [],
   "source": [
    "from sklearn.preprocessing import OneHotEncoder"
   ]
  },
  {
   "cell_type": "code",
   "execution_count": 102,
   "id": "f2823a16-1264-48bb-9e61-dec9622f3346",
   "metadata": {},
   "outputs": [],
   "source": [
    "enc = OneHotEncoder()\n",
    "X_train_b = enc.fit_transform(X_train)"
   ]
  },
  {
   "cell_type": "code",
   "execution_count": 105,
   "id": "da8431d2-4d3b-4d2f-a359-c3c7e3d72cd4",
   "metadata": {},
   "outputs": [
    {
     "data": {
      "text/plain": [
       "<1036017x43 sparse matrix of type '<class 'numpy.float64'>'\n",
       "\twith 3108051 stored elements in Compressed Sparse Row format>"
      ]
     },
     "execution_count": 105,
     "metadata": {},
     "output_type": "execute_result"
    }
   ],
   "source": [
    "X_train_b"
   ]
  },
  {
   "cell_type": "code",
   "execution_count": 106,
   "id": "47e09cec-3d2c-4eff-9c0a-75f2d782663e",
   "metadata": {},
   "outputs": [
    {
     "name": "stdout",
     "output_type": "stream",
     "text": [
      "Performing 5-fold cross-validation...\n"
     ]
    },
    {
     "name": "stderr",
     "output_type": "stream",
     "text": [
      "C:\\Users\\augus\\anaconda3\\lib\\site-packages\\sklearn\\linear_model\\_sag.py:352: ConvergenceWarning: The max_iter was reached which means the coef_ did not converge\n",
      "  warnings.warn(\n"
     ]
    },
    {
     "name": "stdout",
     "output_type": "stream",
     "text": [
      "Starting work on a new fold...\n"
     ]
    },
    {
     "name": "stderr",
     "output_type": "stream",
     "text": [
      "C:\\Users\\augus\\anaconda3\\lib\\site-packages\\sklearn\\linear_model\\_sag.py:352: ConvergenceWarning: The max_iter was reached which means the coef_ did not converge\n",
      "  warnings.warn(\n"
     ]
    },
    {
     "name": "stdout",
     "output_type": "stream",
     "text": [
      "Starting work on a new fold...\n"
     ]
    },
    {
     "name": "stderr",
     "output_type": "stream",
     "text": [
      "C:\\Users\\augus\\anaconda3\\lib\\site-packages\\sklearn\\linear_model\\_sag.py:352: ConvergenceWarning: The max_iter was reached which means the coef_ did not converge\n",
      "  warnings.warn(\n"
     ]
    },
    {
     "name": "stdout",
     "output_type": "stream",
     "text": [
      "Starting work on a new fold...\n"
     ]
    },
    {
     "name": "stderr",
     "output_type": "stream",
     "text": [
      "C:\\Users\\augus\\anaconda3\\lib\\site-packages\\sklearn\\linear_model\\_sag.py:352: ConvergenceWarning: The max_iter was reached which means the coef_ did not converge\n",
      "  warnings.warn(\n"
     ]
    },
    {
     "name": "stdout",
     "output_type": "stream",
     "text": [
      "Starting work on a new fold...\n"
     ]
    },
    {
     "name": "stderr",
     "output_type": "stream",
     "text": [
      "C:\\Users\\augus\\anaconda3\\lib\\site-packages\\sklearn\\linear_model\\_sag.py:352: ConvergenceWarning: The max_iter was reached which means the coef_ did not converge\n",
      "  warnings.warn(\n"
     ]
    },
    {
     "name": "stdout",
     "output_type": "stream",
     "text": [
      "Starting work on a new fold...\n",
      "Aggregating the scores...\n",
      "[[598832 336069]\n",
      " [ 29429  71687]]\n",
      "               mean       std\n",
      "precision   0.17581  0.001235\n",
      "recall     0.708958    0.0077\n",
      "f1         0.281747  0.001976\n"
     ]
    }
   ],
   "source": [
    "logi04 = LogisticRegression(class_weight='balanced', solver='sag')\n",
    "scores = cv_readout(logi04,\n",
    "                    X_train_b,\n",
    "                    y_train)\n",
    "scores"
   ]
  },
  {
   "cell_type": "code",
   "execution_count": 107,
   "id": "da767145-41a4-4dc7-a65f-4df7f731123e",
   "metadata": {},
   "outputs": [
    {
     "name": "stdout",
     "output_type": "stream",
     "text": [
      "Performing 5-fold cross-validation...\n"
     ]
    },
    {
     "name": "stderr",
     "output_type": "stream",
     "text": [
      "C:\\Users\\augus\\anaconda3\\lib\\site-packages\\sklearn\\linear_model\\_sag.py:352: ConvergenceWarning: The max_iter was reached which means the coef_ did not converge\n",
      "  warnings.warn(\n"
     ]
    },
    {
     "name": "stdout",
     "output_type": "stream",
     "text": [
      "Starting work on a new fold...\n"
     ]
    },
    {
     "name": "stderr",
     "output_type": "stream",
     "text": [
      "C:\\Users\\augus\\anaconda3\\lib\\site-packages\\sklearn\\linear_model\\_sag.py:352: ConvergenceWarning: The max_iter was reached which means the coef_ did not converge\n",
      "  warnings.warn(\n"
     ]
    },
    {
     "name": "stdout",
     "output_type": "stream",
     "text": [
      "Starting work on a new fold...\n"
     ]
    },
    {
     "name": "stderr",
     "output_type": "stream",
     "text": [
      "C:\\Users\\augus\\anaconda3\\lib\\site-packages\\sklearn\\linear_model\\_sag.py:352: ConvergenceWarning: The max_iter was reached which means the coef_ did not converge\n",
      "  warnings.warn(\n"
     ]
    },
    {
     "name": "stdout",
     "output_type": "stream",
     "text": [
      "Starting work on a new fold...\n",
      "Starting work on a new fold...\n",
      "Starting work on a new fold...\n",
      "Aggregating the scores...\n",
      "[[599360 335541]\n",
      " [ 29341  71775]]\n",
      "               mean       std\n",
      "precision  0.176213  0.000774\n",
      "recall     0.709828  0.005822\n",
      "f1         0.282336  0.001366\n"
     ]
    }
   ],
   "source": [
    "logi05 = LogisticRegression(class_weight='balanced', solver='saga')\n",
    "scores = cv_readout(logi05,\n",
    "                    X_train_b,\n",
    "                    y_train)\n",
    "scores"
   ]
  },
  {
   "cell_type": "markdown",
   "id": "88ba4e66-5724-4107-b641-e03fe1c0da01",
   "metadata": {},
   "source": [
    "The best model so far was one with Minute! Interesting. I think that is because Minute secretly encodes which Station it was at.\n",
    "\n",
    "I bet Hour combined with Station will be better."
   ]
  },
  {
   "cell_type": "markdown",
   "id": "3e7de862-f3b4-4159-9ce5-c6a62f38fda8",
   "metadata": {},
   "source": [
    "What happens when we add in station?"
   ]
  },
  {
   "cell_type": "markdown",
   "id": "041ec880-ccac-4a57-9100-7be7c1b063ab",
   "metadata": {},
   "source": []
  },
  {
   "cell_type": "code",
   "execution_count": 110,
   "id": "b511b193-e107-4f0d-9d44-7f2669a16907",
   "metadata": {},
   "outputs": [],
   "source": [
    "# doesn't even take into account station\n",
    "feats03 = ['Hour','DOW','Month','station name']\n",
    "\n",
    "df = df02\n",
    "feats = feats03\n",
    "\n",
    "X = df.loc[:,feats]\n",
    "y = df.loc[:,'Crowded'].astype(int)\n",
    "X, y = shuffle(X, y, random_state=19)\n",
    "\n",
    "X_train, X_test, y_train, y_test = train_test_split(X,\n",
    "                                                    y,\n",
    "                                                    test_size=0.2,\n",
    "                                                    random_state=19)"
   ]
  },
  {
   "cell_type": "code",
   "execution_count": 111,
   "id": "cd1e7db8-49a5-4221-8789-a7c9e90b210b",
   "metadata": {},
   "outputs": [],
   "source": [
    "enc = OneHotEncoder()\n",
    "X_train_b = enc.fit_transform(X_train)"
   ]
  },
  {
   "cell_type": "code",
   "execution_count": 112,
   "id": "0c1cab93-613b-41d3-bf1c-7ec2f095ad1c",
   "metadata": {},
   "outputs": [
    {
     "name": "stdout",
     "output_type": "stream",
     "text": [
      "Performing 5-fold cross-validation...\n"
     ]
    },
    {
     "name": "stderr",
     "output_type": "stream",
     "text": [
      "C:\\Users\\augus\\anaconda3\\lib\\site-packages\\sklearn\\linear_model\\_sag.py:352: ConvergenceWarning: The max_iter was reached which means the coef_ did not converge\n",
      "  warnings.warn(\n"
     ]
    },
    {
     "name": "stdout",
     "output_type": "stream",
     "text": [
      "Starting work on a new fold...\n"
     ]
    },
    {
     "name": "stderr",
     "output_type": "stream",
     "text": [
      "C:\\Users\\augus\\anaconda3\\lib\\site-packages\\sklearn\\linear_model\\_sag.py:352: ConvergenceWarning: The max_iter was reached which means the coef_ did not converge\n",
      "  warnings.warn(\n"
     ]
    },
    {
     "name": "stdout",
     "output_type": "stream",
     "text": [
      "Starting work on a new fold...\n"
     ]
    },
    {
     "name": "stderr",
     "output_type": "stream",
     "text": [
      "C:\\Users\\augus\\anaconda3\\lib\\site-packages\\sklearn\\linear_model\\_sag.py:352: ConvergenceWarning: The max_iter was reached which means the coef_ did not converge\n",
      "  warnings.warn(\n"
     ]
    },
    {
     "name": "stdout",
     "output_type": "stream",
     "text": [
      "Starting work on a new fold...\n"
     ]
    },
    {
     "name": "stderr",
     "output_type": "stream",
     "text": [
      "C:\\Users\\augus\\anaconda3\\lib\\site-packages\\sklearn\\linear_model\\_sag.py:352: ConvergenceWarning: The max_iter was reached which means the coef_ did not converge\n",
      "  warnings.warn(\n"
     ]
    },
    {
     "name": "stdout",
     "output_type": "stream",
     "text": [
      "Starting work on a new fold...\n",
      "Starting work on a new fold...\n",
      "Aggregating the scores...\n",
      "[[684412 250489]\n",
      " [ 28592  72524]]\n",
      "               mean       std\n",
      "precision     0.225  0.008726\n",
      "recall     0.717235  0.041449\n",
      "f1         0.342146    0.0101\n"
     ]
    },
    {
     "name": "stderr",
     "output_type": "stream",
     "text": [
      "C:\\Users\\augus\\anaconda3\\lib\\site-packages\\sklearn\\linear_model\\_sag.py:352: ConvergenceWarning: The max_iter was reached which means the coef_ did not converge\n",
      "  warnings.warn(\n"
     ]
    }
   ],
   "source": [
    "logi07 = LogisticRegression(class_weight='balanced', solver='sag')\n",
    "scores = cv_readout(logi07,\n",
    "                    X_train_b,\n",
    "                    y_train)\n",
    "scores"
   ]
  },
  {
   "cell_type": "code",
   "execution_count": 113,
   "id": "8b43daf6-1285-4b69-b369-b0f1237e29b9",
   "metadata": {},
   "outputs": [
    {
     "name": "stdout",
     "output_type": "stream",
     "text": [
      "Performing 5-fold cross-validation...\n"
     ]
    },
    {
     "name": "stderr",
     "output_type": "stream",
     "text": [
      "C:\\Users\\augus\\anaconda3\\lib\\site-packages\\sklearn\\linear_model\\_sag.py:352: ConvergenceWarning: The max_iter was reached which means the coef_ did not converge\n",
      "  warnings.warn(\n"
     ]
    },
    {
     "name": "stdout",
     "output_type": "stream",
     "text": [
      "Starting work on a new fold...\n"
     ]
    },
    {
     "name": "stderr",
     "output_type": "stream",
     "text": [
      "C:\\Users\\augus\\anaconda3\\lib\\site-packages\\sklearn\\linear_model\\_sag.py:352: ConvergenceWarning: The max_iter was reached which means the coef_ did not converge\n",
      "  warnings.warn(\n"
     ]
    },
    {
     "name": "stdout",
     "output_type": "stream",
     "text": [
      "Starting work on a new fold...\n"
     ]
    },
    {
     "name": "stderr",
     "output_type": "stream",
     "text": [
      "C:\\Users\\augus\\anaconda3\\lib\\site-packages\\sklearn\\linear_model\\_sag.py:352: ConvergenceWarning: The max_iter was reached which means the coef_ did not converge\n",
      "  warnings.warn(\n"
     ]
    },
    {
     "name": "stdout",
     "output_type": "stream",
     "text": [
      "Starting work on a new fold...\n"
     ]
    },
    {
     "name": "stderr",
     "output_type": "stream",
     "text": [
      "C:\\Users\\augus\\anaconda3\\lib\\site-packages\\sklearn\\linear_model\\_sag.py:352: ConvergenceWarning: The max_iter was reached which means the coef_ did not converge\n",
      "  warnings.warn(\n"
     ]
    },
    {
     "name": "stdout",
     "output_type": "stream",
     "text": [
      "Starting work on a new fold...\n"
     ]
    },
    {
     "name": "stderr",
     "output_type": "stream",
     "text": [
      "C:\\Users\\augus\\anaconda3\\lib\\site-packages\\sklearn\\linear_model\\_sag.py:352: ConvergenceWarning: The max_iter was reached which means the coef_ did not converge\n",
      "  warnings.warn(\n"
     ]
    },
    {
     "name": "stdout",
     "output_type": "stream",
     "text": [
      "Starting work on a new fold...\n",
      "Aggregating the scores...\n",
      "[[652473 282428]\n",
      " [ 20016  81100]]\n",
      "               mean       std\n",
      "precision  0.223092  0.000393\n",
      "recall     0.802049  0.002782\n",
      "f1         0.349084   0.00053\n"
     ]
    }
   ],
   "source": [
    "logi08 = LogisticRegression(class_weight='balanced', solver='saga')\n",
    "scores = cv_readout(logi08,\n",
    "                    X_train_b,\n",
    "                    y_train)\n",
    "scores"
   ]
  },
  {
   "cell_type": "code",
   "execution_count": 114,
   "id": "d75d285f-ff06-4a2e-8096-844620a63c74",
   "metadata": {},
   "outputs": [
    {
     "name": "stdout",
     "output_type": "stream",
     "text": [
      "Performing 5-fold cross-validation...\n"
     ]
    },
    {
     "name": "stderr",
     "output_type": "stream",
     "text": [
      "C:\\Users\\augus\\anaconda3\\lib\\site-packages\\sklearn\\linear_model\\_sag.py:352: ConvergenceWarning: The max_iter was reached which means the coef_ did not converge\n",
      "  warnings.warn(\n"
     ]
    },
    {
     "name": "stdout",
     "output_type": "stream",
     "text": [
      "Starting work on a new fold...\n"
     ]
    },
    {
     "name": "stderr",
     "output_type": "stream",
     "text": [
      "C:\\Users\\augus\\anaconda3\\lib\\site-packages\\sklearn\\linear_model\\_sag.py:352: ConvergenceWarning: The max_iter was reached which means the coef_ did not converge\n",
      "  warnings.warn(\n"
     ]
    },
    {
     "name": "stdout",
     "output_type": "stream",
     "text": [
      "Starting work on a new fold...\n"
     ]
    },
    {
     "name": "stderr",
     "output_type": "stream",
     "text": [
      "C:\\Users\\augus\\anaconda3\\lib\\site-packages\\sklearn\\linear_model\\_sag.py:352: ConvergenceWarning: The max_iter was reached which means the coef_ did not converge\n",
      "  warnings.warn(\n"
     ]
    },
    {
     "name": "stdout",
     "output_type": "stream",
     "text": [
      "Starting work on a new fold...\n"
     ]
    },
    {
     "name": "stderr",
     "output_type": "stream",
     "text": [
      "C:\\Users\\augus\\anaconda3\\lib\\site-packages\\sklearn\\linear_model\\_sag.py:352: ConvergenceWarning: The max_iter was reached which means the coef_ did not converge\n",
      "  warnings.warn(\n"
     ]
    },
    {
     "name": "stdout",
     "output_type": "stream",
     "text": [
      "Starting work on a new fold...\n"
     ]
    },
    {
     "name": "stderr",
     "output_type": "stream",
     "text": [
      "C:\\Users\\augus\\anaconda3\\lib\\site-packages\\sklearn\\linear_model\\_sag.py:352: ConvergenceWarning: The max_iter was reached which means the coef_ did not converge\n",
      "  warnings.warn(\n"
     ]
    },
    {
     "name": "stdout",
     "output_type": "stream",
     "text": [
      "Starting work on a new fold...\n",
      "Aggregating the scores...\n",
      "[[652473 282428]\n",
      " [ 20016  81100]]\n",
      "               mean       std\n",
      "precision  0.223092  0.000393\n",
      "recall     0.802049  0.002782\n",
      "f1         0.349084   0.00053\n"
     ]
    }
   ],
   "source": [
    "logi09 = LogisticRegression(class_weight='balanced', solver='saga', max_iter=200)\n",
    "scores = cv_readout(logi09,\n",
    "                    X_train_b,\n",
    "                    y_train)\n",
    "scores"
   ]
  },
  {
   "cell_type": "markdown",
   "id": "653c5556-021a-4cbd-af82-6043ebdb8b62",
   "metadata": {},
   "source": [
    "## Check how passwithin is calculated 7/24\n",
    "\n",
    "Result was that I compiled a CSV of routes where passwithin was calculated incorrectly."
   ]
  },
  {
   "cell_type": "code",
   "execution_count": 130,
   "id": "d8804348-3c6e-4752-9077-97d7ccf3329b",
   "metadata": {},
   "outputs": [
    {
     "name": "stdout",
     "output_type": "stream",
     "text": [
      "2553\n"
     ]
    }
   ],
   "source": [
    "df = data2019\n",
    "trips = df['routedone'].unique()\n",
    "matches = []\n",
    "mismatches = []\n",
    "\n",
    "for trip in trips:\n",
    "    tripdf = df[df['routedone']==trip]\n",
    "    tripdf = tripdf.sort_values('stop arrival time').reset_index(drop=True)\n",
    "    \n",
    "    for i in range(1,len(tripdf)):\n",
    "        calc = tripdf.at[i-1,'passwithin'] + tripdf.at[i,'passboarding'] - tripdf.at[i,'passexiting']\n",
    "        if tripdf.at[i,'passwithin'] == calc:\n",
    "            matches.append((trip, i))\n",
    "        if tripdf.at[i,'passwithin'] != calc:\n",
    "            mismatches.append((trip,i))\n",
    "    \n",
    "print(len(mismatches))"
   ]
  },
  {
   "cell_type": "code",
   "execution_count": 124,
   "id": "de00f360-e743-4689-9701-f61eaaefb748",
   "metadata": {},
   "outputs": [
    {
     "data": {
      "text/plain": [
       "1232629"
      ]
     },
     "execution_count": 124,
     "metadata": {},
     "output_type": "execute_result"
    }
   ],
   "source": [
    "len(df) - len(trips)"
   ]
  },
  {
   "cell_type": "markdown",
   "id": "d41d01a5-0cc4-40b1-91c9-c590ab0ae28f",
   "metadata": {},
   "source": [
    "We have 2553 mismatches out of a possible 1232629. That's about 0.2%. But... what is going on with those few mismatches?"
   ]
  },
  {
   "cell_type": "markdown",
   "id": "d65ae9c9-8de1-4e43-bcb5-98a626e09b36",
   "metadata": {},
   "source": [
    "Some mismatches are just one mismatch in a larger trip. Some are a mismatch for every observation in the trip."
   ]
  },
  {
   "cell_type": "code",
   "execution_count": 145,
   "id": "2eddd09c-2cc3-4d1e-b069-5aa67494ec28",
   "metadata": {},
   "outputs": [
    {
     "data": {
      "text/plain": [
       "[(31351969, 3),\n",
       " (31351969, 4),\n",
       " (31351969, 5),\n",
       " (31351969, 6),\n",
       " (31351969, 7),\n",
       " (31351969, 8),\n",
       " (31351969, 9),\n",
       " (31351969, 11),\n",
       " (31351969, 12),\n",
       " (31351969, 13)]"
      ]
     },
     "execution_count": 145,
     "metadata": {},
     "output_type": "execute_result"
    }
   ],
   "source": [
    "mismatches[180:190]"
   ]
  },
  {
   "cell_type": "code",
   "execution_count": 162,
   "id": "12ccd3d7-9506-498a-9eba-25013c8ad8c6",
   "metadata": {},
   "outputs": [
    {
     "data": {
      "text/html": [
       "<div>\n",
       "<style scoped>\n",
       "    .dataframe tbody tr th:only-of-type {\n",
       "        vertical-align: middle;\n",
       "    }\n",
       "\n",
       "    .dataframe tbody tr th {\n",
       "        vertical-align: top;\n",
       "    }\n",
       "\n",
       "    .dataframe thead th {\n",
       "        text-align: right;\n",
       "    }\n",
       "</style>\n",
       "<table border=\"1\" class=\"dataframe\">\n",
       "  <thead>\n",
       "    <tr style=\"text-align: right;\">\n",
       "      <th></th>\n",
       "      <th>railcar ID</th>\n",
       "      <th>passboarding</th>\n",
       "      <th>passexiting</th>\n",
       "      <th>passwithin</th>\n",
       "      <th>routedone</th>\n",
       "      <th>route finish time</th>\n",
       "      <th>route start time</th>\n",
       "      <th>stop arrival time</th>\n",
       "      <th>station name</th>\n",
       "      <th>next station</th>\n",
       "      <th>...</th>\n",
       "      <th>Crowded240</th>\n",
       "      <th>TOD</th>\n",
       "      <th>DOW</th>\n",
       "      <th>DOW_name</th>\n",
       "      <th>Date</th>\n",
       "      <th>Hour</th>\n",
       "      <th>Minute</th>\n",
       "      <th>Minute_od</th>\n",
       "      <th>Month</th>\n",
       "      <th>Month_name</th>\n",
       "    </tr>\n",
       "  </thead>\n",
       "  <tbody>\n",
       "    <tr>\n",
       "      <th>0</th>\n",
       "      <td>109</td>\n",
       "      <td>5</td>\n",
       "      <td>0</td>\n",
       "      <td>0</td>\n",
       "      <td>31351969</td>\n",
       "      <td>2019-01-12 16:58:08</td>\n",
       "      <td>2019-01-12 16:00:14</td>\n",
       "      <td>2019-01-12 16:00:14</td>\n",
       "      <td>Angle</td>\n",
       "      <td>SeaTac</td>\n",
       "      <td>...</td>\n",
       "      <td>False</td>\n",
       "      <td>16:00:14</td>\n",
       "      <td>5</td>\n",
       "      <td>Saturday</td>\n",
       "      <td>2019-01-12</td>\n",
       "      <td>16</td>\n",
       "      <td>0</td>\n",
       "      <td>960</td>\n",
       "      <td>1</td>\n",
       "      <td>January</td>\n",
       "    </tr>\n",
       "    <tr>\n",
       "      <th>1</th>\n",
       "      <td>109</td>\n",
       "      <td>2</td>\n",
       "      <td>0</td>\n",
       "      <td>0</td>\n",
       "      <td>31351969</td>\n",
       "      <td>2019-01-12 16:58:08</td>\n",
       "      <td>2019-01-12 16:00:14</td>\n",
       "      <td>2019-01-12 16:02:50</td>\n",
       "      <td>SeaTac</td>\n",
       "      <td>Tukwila</td>\n",
       "      <td>...</td>\n",
       "      <td>False</td>\n",
       "      <td>16:02:50</td>\n",
       "      <td>5</td>\n",
       "      <td>Saturday</td>\n",
       "      <td>2019-01-12</td>\n",
       "      <td>16</td>\n",
       "      <td>2</td>\n",
       "      <td>962</td>\n",
       "      <td>1</td>\n",
       "      <td>January</td>\n",
       "    </tr>\n",
       "    <tr>\n",
       "      <th>2</th>\n",
       "      <td>109</td>\n",
       "      <td>0</td>\n",
       "      <td>0</td>\n",
       "      <td>0</td>\n",
       "      <td>31351969</td>\n",
       "      <td>2019-01-12 16:58:08</td>\n",
       "      <td>2019-01-12 16:00:14</td>\n",
       "      <td>2019-01-12 16:05:55</td>\n",
       "      <td>Tukwila</td>\n",
       "      <td>Rainier</td>\n",
       "      <td>...</td>\n",
       "      <td>False</td>\n",
       "      <td>16:05:55</td>\n",
       "      <td>5</td>\n",
       "      <td>Saturday</td>\n",
       "      <td>2019-01-12</td>\n",
       "      <td>16</td>\n",
       "      <td>5</td>\n",
       "      <td>965</td>\n",
       "      <td>1</td>\n",
       "      <td>January</td>\n",
       "    </tr>\n",
       "    <tr>\n",
       "      <th>3</th>\n",
       "      <td>109</td>\n",
       "      <td>0</td>\n",
       "      <td>1</td>\n",
       "      <td>0</td>\n",
       "      <td>31351969</td>\n",
       "      <td>2019-01-12 16:58:08</td>\n",
       "      <td>2019-01-12 16:00:14</td>\n",
       "      <td>2019-01-12 16:14:37</td>\n",
       "      <td>Rainier</td>\n",
       "      <td>Othello</td>\n",
       "      <td>...</td>\n",
       "      <td>False</td>\n",
       "      <td>16:14:37</td>\n",
       "      <td>5</td>\n",
       "      <td>Saturday</td>\n",
       "      <td>2019-01-12</td>\n",
       "      <td>16</td>\n",
       "      <td>14</td>\n",
       "      <td>974</td>\n",
       "      <td>1</td>\n",
       "      <td>January</td>\n",
       "    </tr>\n",
       "    <tr>\n",
       "      <th>4</th>\n",
       "      <td>109</td>\n",
       "      <td>6</td>\n",
       "      <td>0</td>\n",
       "      <td>0</td>\n",
       "      <td>31351969</td>\n",
       "      <td>2019-01-12 16:58:08</td>\n",
       "      <td>2019-01-12 16:00:14</td>\n",
       "      <td>2019-01-12 16:17:36</td>\n",
       "      <td>Othello</td>\n",
       "      <td>Columbia</td>\n",
       "      <td>...</td>\n",
       "      <td>False</td>\n",
       "      <td>16:17:36</td>\n",
       "      <td>5</td>\n",
       "      <td>Saturday</td>\n",
       "      <td>2019-01-12</td>\n",
       "      <td>16</td>\n",
       "      <td>17</td>\n",
       "      <td>977</td>\n",
       "      <td>1</td>\n",
       "      <td>January</td>\n",
       "    </tr>\n",
       "    <tr>\n",
       "      <th>5</th>\n",
       "      <td>109</td>\n",
       "      <td>6</td>\n",
       "      <td>1</td>\n",
       "      <td>0</td>\n",
       "      <td>31351969</td>\n",
       "      <td>2019-01-12 16:58:08</td>\n",
       "      <td>2019-01-12 16:00:14</td>\n",
       "      <td>2019-01-12 16:21:22</td>\n",
       "      <td>Columbia</td>\n",
       "      <td>Baker</td>\n",
       "      <td>...</td>\n",
       "      <td>False</td>\n",
       "      <td>16:21:22</td>\n",
       "      <td>5</td>\n",
       "      <td>Saturday</td>\n",
       "      <td>2019-01-12</td>\n",
       "      <td>16</td>\n",
       "      <td>21</td>\n",
       "      <td>981</td>\n",
       "      <td>1</td>\n",
       "      <td>January</td>\n",
       "    </tr>\n",
       "    <tr>\n",
       "      <th>6</th>\n",
       "      <td>109</td>\n",
       "      <td>3</td>\n",
       "      <td>2</td>\n",
       "      <td>0</td>\n",
       "      <td>31351969</td>\n",
       "      <td>2019-01-12 16:58:08</td>\n",
       "      <td>2019-01-12 16:00:14</td>\n",
       "      <td>2019-01-12 16:24:18</td>\n",
       "      <td>Baker</td>\n",
       "      <td>Beacon</td>\n",
       "      <td>...</td>\n",
       "      <td>False</td>\n",
       "      <td>16:24:18</td>\n",
       "      <td>5</td>\n",
       "      <td>Saturday</td>\n",
       "      <td>2019-01-12</td>\n",
       "      <td>16</td>\n",
       "      <td>24</td>\n",
       "      <td>984</td>\n",
       "      <td>1</td>\n",
       "      <td>January</td>\n",
       "    </tr>\n",
       "    <tr>\n",
       "      <th>7</th>\n",
       "      <td>109</td>\n",
       "      <td>0</td>\n",
       "      <td>1</td>\n",
       "      <td>0</td>\n",
       "      <td>31351969</td>\n",
       "      <td>2019-01-12 16:58:08</td>\n",
       "      <td>2019-01-12 16:00:14</td>\n",
       "      <td>2019-01-12 16:26:28</td>\n",
       "      <td>Beacon</td>\n",
       "      <td>SODO</td>\n",
       "      <td>...</td>\n",
       "      <td>False</td>\n",
       "      <td>16:26:28</td>\n",
       "      <td>5</td>\n",
       "      <td>Saturday</td>\n",
       "      <td>2019-01-12</td>\n",
       "      <td>16</td>\n",
       "      <td>26</td>\n",
       "      <td>986</td>\n",
       "      <td>1</td>\n",
       "      <td>January</td>\n",
       "    </tr>\n",
       "    <tr>\n",
       "      <th>8</th>\n",
       "      <td>109</td>\n",
       "      <td>7</td>\n",
       "      <td>2</td>\n",
       "      <td>0</td>\n",
       "      <td>31351969</td>\n",
       "      <td>2019-01-12 16:58:08</td>\n",
       "      <td>2019-01-12 16:00:14</td>\n",
       "      <td>2019-01-12 16:29:21</td>\n",
       "      <td>SODO</td>\n",
       "      <td>Stadium</td>\n",
       "      <td>...</td>\n",
       "      <td>False</td>\n",
       "      <td>16:29:21</td>\n",
       "      <td>5</td>\n",
       "      <td>Saturday</td>\n",
       "      <td>2019-01-12</td>\n",
       "      <td>16</td>\n",
       "      <td>29</td>\n",
       "      <td>989</td>\n",
       "      <td>1</td>\n",
       "      <td>January</td>\n",
       "    </tr>\n",
       "    <tr>\n",
       "      <th>9</th>\n",
       "      <td>109</td>\n",
       "      <td>1</td>\n",
       "      <td>0</td>\n",
       "      <td>0</td>\n",
       "      <td>31351969</td>\n",
       "      <td>2019-01-12 16:58:08</td>\n",
       "      <td>2019-01-12 16:00:14</td>\n",
       "      <td>2019-01-12 16:31:44</td>\n",
       "      <td>Stadium</td>\n",
       "      <td>Intl District</td>\n",
       "      <td>...</td>\n",
       "      <td>False</td>\n",
       "      <td>16:31:44</td>\n",
       "      <td>5</td>\n",
       "      <td>Saturday</td>\n",
       "      <td>2019-01-12</td>\n",
       "      <td>16</td>\n",
       "      <td>31</td>\n",
       "      <td>991</td>\n",
       "      <td>1</td>\n",
       "      <td>January</td>\n",
       "    </tr>\n",
       "    <tr>\n",
       "      <th>10</th>\n",
       "      <td>109</td>\n",
       "      <td>4</td>\n",
       "      <td>4</td>\n",
       "      <td>0</td>\n",
       "      <td>31351969</td>\n",
       "      <td>2019-01-12 16:58:08</td>\n",
       "      <td>2019-01-12 16:00:14</td>\n",
       "      <td>2019-01-12 16:35:17</td>\n",
       "      <td>Intl District</td>\n",
       "      <td>Pioneer</td>\n",
       "      <td>...</td>\n",
       "      <td>False</td>\n",
       "      <td>16:35:17</td>\n",
       "      <td>5</td>\n",
       "      <td>Saturday</td>\n",
       "      <td>2019-01-12</td>\n",
       "      <td>16</td>\n",
       "      <td>35</td>\n",
       "      <td>995</td>\n",
       "      <td>1</td>\n",
       "      <td>January</td>\n",
       "    </tr>\n",
       "    <tr>\n",
       "      <th>11</th>\n",
       "      <td>109</td>\n",
       "      <td>2</td>\n",
       "      <td>1</td>\n",
       "      <td>0</td>\n",
       "      <td>31351969</td>\n",
       "      <td>2019-01-12 16:58:08</td>\n",
       "      <td>2019-01-12 16:00:14</td>\n",
       "      <td>2019-01-12 16:36:46</td>\n",
       "      <td>Pioneer</td>\n",
       "      <td>University</td>\n",
       "      <td>...</td>\n",
       "      <td>False</td>\n",
       "      <td>16:36:46</td>\n",
       "      <td>5</td>\n",
       "      <td>Saturday</td>\n",
       "      <td>2019-01-12</td>\n",
       "      <td>16</td>\n",
       "      <td>36</td>\n",
       "      <td>996</td>\n",
       "      <td>1</td>\n",
       "      <td>January</td>\n",
       "    </tr>\n",
       "    <tr>\n",
       "      <th>12</th>\n",
       "      <td>109</td>\n",
       "      <td>0</td>\n",
       "      <td>3</td>\n",
       "      <td>0</td>\n",
       "      <td>31351969</td>\n",
       "      <td>2019-01-12 16:58:08</td>\n",
       "      <td>2019-01-12 16:00:14</td>\n",
       "      <td>2019-01-12 16:38:35</td>\n",
       "      <td>University</td>\n",
       "      <td>Westlake</td>\n",
       "      <td>...</td>\n",
       "      <td>False</td>\n",
       "      <td>16:38:35</td>\n",
       "      <td>5</td>\n",
       "      <td>Saturday</td>\n",
       "      <td>2019-01-12</td>\n",
       "      <td>16</td>\n",
       "      <td>38</td>\n",
       "      <td>998</td>\n",
       "      <td>1</td>\n",
       "      <td>January</td>\n",
       "    </tr>\n",
       "    <tr>\n",
       "      <th>13</th>\n",
       "      <td>109</td>\n",
       "      <td>12</td>\n",
       "      <td>5</td>\n",
       "      <td>0</td>\n",
       "      <td>31351969</td>\n",
       "      <td>2019-01-12 16:58:08</td>\n",
       "      <td>2019-01-12 16:00:14</td>\n",
       "      <td>2019-01-12 16:41:27</td>\n",
       "      <td>Westlake</td>\n",
       "      <td>Capitol Hill</td>\n",
       "      <td>...</td>\n",
       "      <td>False</td>\n",
       "      <td>16:41:27</td>\n",
       "      <td>5</td>\n",
       "      <td>Saturday</td>\n",
       "      <td>2019-01-12</td>\n",
       "      <td>16</td>\n",
       "      <td>41</td>\n",
       "      <td>1001</td>\n",
       "      <td>1</td>\n",
       "      <td>January</td>\n",
       "    </tr>\n",
       "    <tr>\n",
       "      <th>14</th>\n",
       "      <td>109</td>\n",
       "      <td>0</td>\n",
       "      <td>17</td>\n",
       "      <td>0</td>\n",
       "      <td>31351969</td>\n",
       "      <td>2019-01-12 16:58:08</td>\n",
       "      <td>2019-01-12 16:00:14</td>\n",
       "      <td>2019-01-12 16:44:13</td>\n",
       "      <td>Capitol Hill</td>\n",
       "      <td>UW</td>\n",
       "      <td>...</td>\n",
       "      <td>False</td>\n",
       "      <td>16:44:13</td>\n",
       "      <td>5</td>\n",
       "      <td>Saturday</td>\n",
       "      <td>2019-01-12</td>\n",
       "      <td>16</td>\n",
       "      <td>44</td>\n",
       "      <td>1004</td>\n",
       "      <td>1</td>\n",
       "      <td>January</td>\n",
       "    </tr>\n",
       "    <tr>\n",
       "      <th>15</th>\n",
       "      <td>109</td>\n",
       "      <td>0</td>\n",
       "      <td>12</td>\n",
       "      <td>0</td>\n",
       "      <td>31351969</td>\n",
       "      <td>2019-01-12 16:58:08</td>\n",
       "      <td>2019-01-12 16:00:14</td>\n",
       "      <td>2019-01-12 16:58:08</td>\n",
       "      <td>UW</td>\n",
       "      <td>UW</td>\n",
       "      <td>...</td>\n",
       "      <td>False</td>\n",
       "      <td>16:58:08</td>\n",
       "      <td>5</td>\n",
       "      <td>Saturday</td>\n",
       "      <td>2019-01-12</td>\n",
       "      <td>16</td>\n",
       "      <td>58</td>\n",
       "      <td>1018</td>\n",
       "      <td>1</td>\n",
       "      <td>January</td>\n",
       "    </tr>\n",
       "  </tbody>\n",
       "</table>\n",
       "<p>16 rows × 50 columns</p>\n",
       "</div>"
      ],
      "text/plain": [
       "    railcar ID  passboarding  passexiting  passwithin  routedone  \\\n",
       "0          109             5            0           0   31351969   \n",
       "1          109             2            0           0   31351969   \n",
       "2          109             0            0           0   31351969   \n",
       "3          109             0            1           0   31351969   \n",
       "4          109             6            0           0   31351969   \n",
       "5          109             6            1           0   31351969   \n",
       "6          109             3            2           0   31351969   \n",
       "7          109             0            1           0   31351969   \n",
       "8          109             7            2           0   31351969   \n",
       "9          109             1            0           0   31351969   \n",
       "10         109             4            4           0   31351969   \n",
       "11         109             2            1           0   31351969   \n",
       "12         109             0            3           0   31351969   \n",
       "13         109            12            5           0   31351969   \n",
       "14         109             0           17           0   31351969   \n",
       "15         109             0           12           0   31351969   \n",
       "\n",
       "     route finish time    route start time   stop arrival time   station name  \\\n",
       "0  2019-01-12 16:58:08 2019-01-12 16:00:14 2019-01-12 16:00:14          Angle   \n",
       "1  2019-01-12 16:58:08 2019-01-12 16:00:14 2019-01-12 16:02:50         SeaTac   \n",
       "2  2019-01-12 16:58:08 2019-01-12 16:00:14 2019-01-12 16:05:55        Tukwila   \n",
       "3  2019-01-12 16:58:08 2019-01-12 16:00:14 2019-01-12 16:14:37        Rainier   \n",
       "4  2019-01-12 16:58:08 2019-01-12 16:00:14 2019-01-12 16:17:36        Othello   \n",
       "5  2019-01-12 16:58:08 2019-01-12 16:00:14 2019-01-12 16:21:22       Columbia   \n",
       "6  2019-01-12 16:58:08 2019-01-12 16:00:14 2019-01-12 16:24:18          Baker   \n",
       "7  2019-01-12 16:58:08 2019-01-12 16:00:14 2019-01-12 16:26:28         Beacon   \n",
       "8  2019-01-12 16:58:08 2019-01-12 16:00:14 2019-01-12 16:29:21           SODO   \n",
       "9  2019-01-12 16:58:08 2019-01-12 16:00:14 2019-01-12 16:31:44        Stadium   \n",
       "10 2019-01-12 16:58:08 2019-01-12 16:00:14 2019-01-12 16:35:17  Intl District   \n",
       "11 2019-01-12 16:58:08 2019-01-12 16:00:14 2019-01-12 16:36:46        Pioneer   \n",
       "12 2019-01-12 16:58:08 2019-01-12 16:00:14 2019-01-12 16:38:35     University   \n",
       "13 2019-01-12 16:58:08 2019-01-12 16:00:14 2019-01-12 16:41:27       Westlake   \n",
       "14 2019-01-12 16:58:08 2019-01-12 16:00:14 2019-01-12 16:44:13  Capitol Hill    \n",
       "15 2019-01-12 16:58:08 2019-01-12 16:00:14 2019-01-12 16:58:08            UW    \n",
       "\n",
       "     next station  ...  Crowded240       TOD  DOW  DOW_name        Date  Hour  \\\n",
       "0          SeaTac  ...       False  16:00:14    5  Saturday  2019-01-12    16   \n",
       "1         Tukwila  ...       False  16:02:50    5  Saturday  2019-01-12    16   \n",
       "2         Rainier  ...       False  16:05:55    5  Saturday  2019-01-12    16   \n",
       "3         Othello  ...       False  16:14:37    5  Saturday  2019-01-12    16   \n",
       "4        Columbia  ...       False  16:17:36    5  Saturday  2019-01-12    16   \n",
       "5           Baker  ...       False  16:21:22    5  Saturday  2019-01-12    16   \n",
       "6          Beacon  ...       False  16:24:18    5  Saturday  2019-01-12    16   \n",
       "7            SODO  ...       False  16:26:28    5  Saturday  2019-01-12    16   \n",
       "8         Stadium  ...       False  16:29:21    5  Saturday  2019-01-12    16   \n",
       "9   Intl District  ...       False  16:31:44    5  Saturday  2019-01-12    16   \n",
       "10        Pioneer  ...       False  16:35:17    5  Saturday  2019-01-12    16   \n",
       "11     University  ...       False  16:36:46    5  Saturday  2019-01-12    16   \n",
       "12       Westlake  ...       False  16:38:35    5  Saturday  2019-01-12    16   \n",
       "13  Capitol Hill   ...       False  16:41:27    5  Saturday  2019-01-12    16   \n",
       "14            UW   ...       False  16:44:13    5  Saturday  2019-01-12    16   \n",
       "15            UW   ...       False  16:58:08    5  Saturday  2019-01-12    16   \n",
       "\n",
       "    Minute  Minute_od  Month  Month_name  \n",
       "0        0        960      1     January  \n",
       "1        2        962      1     January  \n",
       "2        5        965      1     January  \n",
       "3       14        974      1     January  \n",
       "4       17        977      1     January  \n",
       "5       21        981      1     January  \n",
       "6       24        984      1     January  \n",
       "7       26        986      1     January  \n",
       "8       29        989      1     January  \n",
       "9       31        991      1     January  \n",
       "10      35        995      1     January  \n",
       "11      36        996      1     January  \n",
       "12      38        998      1     January  \n",
       "13      41       1001      1     January  \n",
       "14      44       1004      1     January  \n",
       "15      58       1018      1     January  \n",
       "\n",
       "[16 rows x 50 columns]"
      ]
     },
     "execution_count": 162,
     "metadata": {},
     "output_type": "execute_result"
    }
   ],
   "source": [
    "tripdf = df[df['routedone']==31351969]\n",
    "tripdf = tripdf.sort_values('stop arrival time').reset_index(drop=True)\n",
    "\n",
    "tripdf"
   ]
  },
  {
   "cell_type": "markdown",
   "id": "cc9cdbcd-dabe-442d-8b12-3eab8f1fd0bb",
   "metadata": {},
   "source": [
    "Looking at the 0.2% of observations where the calculation did not hold true, there were various causes. For some of these the counter was reset but the routedone didn't increment. In some cases that made sense because there was a couple-hours gap in service, so I assume there was maintenance being done. In other cases such a reset didn't make sense, because there was no gap in service and the equation shows that, say, -20 people are within, because it ignores how many were within at the previous stop. Finally, in some routes, passwithin​ stayed at 0 the whole time even though there were reasonable values for passboarding​ and passexiting​.\n",
    "\n",
    "I'm removing all the routedone​s that have any of those errors. This way, I know that my entire dataset accords with the equation (passwithin​ equals previous stop's passwithin​ plus the current stop's passboarding​ minus the current stop's passexiting). \n"
   ]
  },
  {
   "cell_type": "code",
   "execution_count": 167,
   "id": "a6a4a85d-31a8-4ea4-9dcb-ffcc28ba39c5",
   "metadata": {},
   "outputs": [
    {
     "data": {
      "text/plain": [
       "[(31251428, 4),\n",
       " (31251428, 5),\n",
       " (31251428, 6),\n",
       " (31251428, 7),\n",
       " (31251428, 8),\n",
       " (31251428, 9),\n",
       " (31251428, 11),\n",
       " (31251428, 12),\n",
       " (31251428, 13),\n",
       " (31251428, 14)]"
      ]
     },
     "execution_count": 167,
     "metadata": {},
     "output_type": "execute_result"
    }
   ],
   "source": [
    "mismatches[50:60]"
   ]
  },
  {
   "cell_type": "code",
   "execution_count": 171,
   "id": "acac1e05-48b7-47f5-9ae7-16a8035fd4c5",
   "metadata": {},
   "outputs": [],
   "source": [
    "routes_against_calc = [p[0] for p in mismatches]\n",
    "routes_against_calc = np.unique(routes_against_calc)"
   ]
  },
  {
   "cell_type": "code",
   "execution_count": 159,
   "id": "355dea86-87da-4eeb-bbbd-aecb7d942ccc",
   "metadata": {},
   "outputs": [],
   "source": [
    "pd.DataFrame(routes_against_calc).to_csv('routes_against_calc.csv', index=False)"
   ]
  },
  {
   "cell_type": "code",
   "execution_count": null,
   "id": "677c6559-0f9c-4f60-9735-945fe24d57bf",
   "metadata": {},
   "outputs": [],
   "source": []
  },
  {
   "cell_type": "code",
   "execution_count": 170,
   "id": "d4701595-f725-4e1b-9b3e-06433c946f19",
   "metadata": {},
   "outputs": [
    {
     "data": {
      "text/plain": [
       "1"
      ]
     },
     "execution_count": 170,
     "metadata": {},
     "output_type": "execute_result"
    }
   ],
   "source": [
    "sum([p == 31351969 for p in routes_against_calc])"
   ]
  },
  {
   "cell_type": "code",
   "execution_count": 164,
   "id": "7809e500-d9c0-4133-a954-755b7ef86944",
   "metadata": {},
   "outputs": [
    {
     "data": {
      "text/plain": [
       "1504"
      ]
     },
     "execution_count": 164,
     "metadata": {},
     "output_type": "execute_result"
    }
   ],
   "source": [
    "len(routes_against_calc)"
   ]
  },
  {
   "cell_type": "code",
   "execution_count": null,
   "id": "5757cc07-d2bb-4d1d-9454-f8abc7eff4c5",
   "metadata": {},
   "outputs": [],
   "source": []
  },
  {
   "cell_type": "markdown",
   "id": "c3fc3cf8-410a-4b05-9ba7-3baf6530917e",
   "metadata": {},
   "source": [
    "## 7/26 Create list of routes with abnormal stadir"
   ]
  },
  {
   "cell_type": "code",
   "execution_count": 175,
   "id": "17a8139d-ec62-4e16-a3ef-ac18dac8a7b2",
   "metadata": {},
   "outputs": [],
   "source": [
    "df = data2019\n",
    "\n",
    "# Create a station ID\n",
    "# Use a dictionary\n",
    "names = ['Zero','Angle','SeaTac','Tukwila','Rainier','Othello',\n",
    "         'Columbia','Baker','Beacon','SODO','Stadium','Intl District',\n",
    "         'Pioneer','University','Westlake','Capitol Hill ','UW ']\n",
    "\n",
    "for idx, name in enumerate(names):\n",
    "    df.loc[df['station name']==name, 'sta_ID'] = idx\n",
    "    df.loc[df['next station']==name, 'nxsta_ID'] = idx\n",
    "    \n",
    "df['sta_ID'] = df['sta_ID'].astype('int32')\n",
    "df['nxsta_ID'] = df['nxsta_ID'].astype('int32')\n",
    "df['stadir_ID'] = df['sta_ID'] * 100 + df['nxsta_ID']"
   ]
  },
  {
   "cell_type": "code",
   "execution_count": 188,
   "id": "29ac8a24-bee9-42d0-a559-653ec92aa7aa",
   "metadata": {},
   "outputs": [
    {
     "data": {
      "text/plain": [
       "232"
      ]
     },
     "execution_count": 188,
     "metadata": {},
     "output_type": "execute_result"
    }
   ],
   "source": [
    "# How many stadir_ID are there?\n",
    "\n",
    "len(df.groupby('stadir_ID').count().iloc[:,0])"
   ]
  },
  {
   "cell_type": "code",
   "execution_count": 189,
   "id": "78858cf5-91b8-4fa3-b798-a774288e0ae4",
   "metadata": {},
   "outputs": [],
   "source": [
    "# W are the normal stadir?\n",
    "counts = df.groupby('stadir_ID').count().iloc[:,0]\n",
    "normal_stadir = list(counts[counts > 10000].index)"
   ]
  },
  {
   "cell_type": "code",
   "execution_count": 190,
   "id": "4410e572-5d75-4f8d-b4b4-053b56651529",
   "metadata": {},
   "outputs": [
    {
     "data": {
      "text/plain": [
       "8306"
      ]
     },
     "execution_count": 190,
     "metadata": {},
     "output_type": "execute_result"
    }
   ],
   "source": [
    "# Create df with only abnormal stops\n",
    "abnormal_stops = df[~df['stadir_ID'].isin(normal_stadir)]\n",
    "\n",
    "# Create list of abnormal routes\n",
    "# abnormal routes are routes in which there is at least one abnormal stop\n",
    "abnormal_routes = abnormal_stops['routedone'].unique()\n",
    "\n",
    "len(abnormal_routes)"
   ]
  },
  {
   "cell_type": "code",
   "execution_count": 191,
   "id": "19833910-9e9e-4e9b-bc22-93fa06047f02",
   "metadata": {},
   "outputs": [],
   "source": [
    "pd.DataFrame(abnormal_routes).to_csv('abnormal_stadir_routes.csv', index=False)"
   ]
  },
  {
   "cell_type": "code",
   "execution_count": null,
   "id": "31967e89-9972-4524-a522-5d3d69fc60e8",
   "metadata": {},
   "outputs": [],
   "source": []
  },
  {
   "cell_type": "code",
   "execution_count": null,
   "id": "db4966f1-37e9-42a2-bec1-22b430b1c4e1",
   "metadata": {},
   "outputs": [],
   "source": []
  },
  {
   "cell_type": "code",
   "execution_count": null,
   "id": "82435143-e03d-48f4-9dc5-b5f619478ce9",
   "metadata": {},
   "outputs": [],
   "source": []
  },
  {
   "cell_type": "code",
   "execution_count": null,
   "id": "24e58b5f-acdf-45da-985e-a361bfce3ef8",
   "metadata": {},
   "outputs": [],
   "source": []
  },
  {
   "cell_type": "code",
   "execution_count": null,
   "id": "8ad8367b-a861-45f5-ab0d-498008ca5d95",
   "metadata": {},
   "outputs": [],
   "source": []
  },
  {
   "cell_type": "code",
   "execution_count": 160,
   "id": "11b40de3-d449-4ea2-a724-10dac87753f9",
   "metadata": {},
   "outputs": [],
   "source": [
    "foo = pd.read_csv('routes_against_calc.csv')"
   ]
  },
  {
   "cell_type": "code",
   "execution_count": 161,
   "id": "fca67ae1-fc27-493a-90aa-d788ba3a99f5",
   "metadata": {},
   "outputs": [
    {
     "data": {
      "text/html": [
       "<div>\n",
       "<style scoped>\n",
       "    .dataframe tbody tr th:only-of-type {\n",
       "        vertical-align: middle;\n",
       "    }\n",
       "\n",
       "    .dataframe tbody tr th {\n",
       "        vertical-align: top;\n",
       "    }\n",
       "\n",
       "    .dataframe thead th {\n",
       "        text-align: right;\n",
       "    }\n",
       "</style>\n",
       "<table border=\"1\" class=\"dataframe\">\n",
       "  <thead>\n",
       "    <tr style=\"text-align: right;\">\n",
       "      <th></th>\n",
       "      <th>0</th>\n",
       "    </tr>\n",
       "  </thead>\n",
       "  <tbody>\n",
       "    <tr>\n",
       "      <th>0</th>\n",
       "      <td>31198589</td>\n",
       "    </tr>\n",
       "    <tr>\n",
       "      <th>1</th>\n",
       "      <td>31198638</td>\n",
       "    </tr>\n",
       "    <tr>\n",
       "      <th>2</th>\n",
       "      <td>31198663</td>\n",
       "    </tr>\n",
       "    <tr>\n",
       "      <th>3</th>\n",
       "      <td>31198725</td>\n",
       "    </tr>\n",
       "    <tr>\n",
       "      <th>4</th>\n",
       "      <td>31198746</td>\n",
       "    </tr>\n",
       "    <tr>\n",
       "      <th>...</th>\n",
       "      <td>...</td>\n",
       "    </tr>\n",
       "    <tr>\n",
       "      <th>1499</th>\n",
       "      <td>36371158</td>\n",
       "    </tr>\n",
       "    <tr>\n",
       "      <th>1500</th>\n",
       "      <td>36371429</td>\n",
       "    </tr>\n",
       "    <tr>\n",
       "      <th>1501</th>\n",
       "      <td>36380509</td>\n",
       "    </tr>\n",
       "    <tr>\n",
       "      <th>1502</th>\n",
       "      <td>36407734</td>\n",
       "    </tr>\n",
       "    <tr>\n",
       "      <th>1503</th>\n",
       "      <td>36408661</td>\n",
       "    </tr>\n",
       "  </tbody>\n",
       "</table>\n",
       "<p>1504 rows × 1 columns</p>\n",
       "</div>"
      ],
      "text/plain": [
       "             0\n",
       "0     31198589\n",
       "1     31198638\n",
       "2     31198663\n",
       "3     31198725\n",
       "4     31198746\n",
       "...        ...\n",
       "1499  36371158\n",
       "1500  36371429\n",
       "1501  36380509\n",
       "1502  36407734\n",
       "1503  36408661\n",
       "\n",
       "[1504 rows x 1 columns]"
      ]
     },
     "execution_count": 161,
     "metadata": {},
     "output_type": "execute_result"
    }
   ],
   "source": [
    "foo"
   ]
  },
  {
   "cell_type": "code",
   "execution_count": 174,
   "id": "2a6d8692-fd8b-4d12-8a26-b940953bbd84",
   "metadata": {},
   "outputs": [
    {
     "data": {
      "text/plain": [
       "1"
      ]
     },
     "execution_count": 174,
     "metadata": {},
     "output_type": "execute_result"
    }
   ],
   "source": [
    "sum([p == 31351969 for p in foo.iloc[:,0]])"
   ]
  },
  {
   "cell_type": "code",
   "execution_count": null,
   "id": "bd73082d-b2bd-4bd9-837a-9998bf175435",
   "metadata": {},
   "outputs": [],
   "source": []
  },
  {
   "cell_type": "code",
   "execution_count": null,
   "id": "e8c8524a-d137-4d5a-8985-2511bb1e9c9f",
   "metadata": {},
   "outputs": [],
   "source": []
  },
  {
   "cell_type": "code",
   "execution_count": null,
   "id": "fbd93967-8194-4d32-b0bf-7dfc7d041096",
   "metadata": {},
   "outputs": [],
   "source": []
  },
  {
   "cell_type": "code",
   "execution_count": null,
   "id": "7cb7e831-0b38-48f1-a988-98211931c94a",
   "metadata": {},
   "outputs": [],
   "source": []
  },
  {
   "cell_type": "code",
   "execution_count": null,
   "id": "7eccd0c1-c80c-4b08-9830-7256e670c1e3",
   "metadata": {},
   "outputs": [],
   "source": []
  },
  {
   "cell_type": "code",
   "execution_count": null,
   "id": "41323b14-4a99-43fb-a403-df3fcea1acce",
   "metadata": {},
   "outputs": [],
   "source": []
  },
  {
   "cell_type": "markdown",
   "id": "a1fb6d94-fefd-42ce-b2f6-b717e4097518",
   "metadata": {},
   "source": [
    "*Is there a \"soft classification\" technique? I.e. something where we want to classify over 74 versus under 74, but we penalize farther away errors more?\n",
    "\n",
    "** that might be a regression problem with an interesting error function"
   ]
  },
  {
   "cell_type": "markdown",
   "id": "4e181ba4-6f51-47ea-948b-4a5842dbfb43",
   "metadata": {},
   "source": [
    "### Word bank"
   ]
  },
  {
   "cell_type": "code",
   "execution_count": 102,
   "id": "c433412c-804c-4c36-ae74-07570e5a9b17",
   "metadata": {},
   "outputs": [],
   "source": [
    "# supervised machine learning\n",
    "from sklearn.utils import shuffle\n",
    "from sklearn.metrics import mean_squared_error, make_scorer\n",
    "from sklearn.model_selection import train_test_split, cross_val_score, cross_validate\n",
    "import statsmodels.api as sm\n",
    "import warnings \n",
    "#warnings.filterwarnings(\"ignore\")\n",
    "from sklearn.linear_model import LinearRegression\n",
    "from sklearn.ensemble import RandomForestRegressor\n",
    "from sklearn.ensemble import ExtraTreesRegressor\n",
    "from sklearn.svm import SVR"
   ]
  }
 ],
 "metadata": {
  "kernelspec": {
   "display_name": "Python 3 (ipykernel)",
   "language": "python",
   "name": "python3"
  },
  "language_info": {
   "codemirror_mode": {
    "name": "ipython",
    "version": 3
   },
   "file_extension": ".py",
   "mimetype": "text/x-python",
   "name": "python",
   "nbconvert_exporter": "python",
   "pygments_lexer": "ipython3",
   "version": "3.9.12"
  }
 },
 "nbformat": 4,
 "nbformat_minor": 5
}
