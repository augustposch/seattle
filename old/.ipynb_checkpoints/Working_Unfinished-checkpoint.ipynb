{
 "cells": [
  {
   "cell_type": "code",
   "execution_count": null,
   "id": "4013eeb3-20a4-4f96-a236-39cbe6f95f7f",
   "metadata": {},
   "outputs": [],
   "source": []
  },
  {
   "cell_type": "markdown",
   "id": "89ec673d-6613-48af-8dbe-8bf7491d74e2",
   "metadata": {},
   "source": [
    "### SVM is not working and I don't know why"
   ]
  },
  {
   "cell_type": "code",
   "execution_count": null,
   "id": "13848823-50c0-4cd3-9d31-ef4b3f2f17c3",
   "metadata": {},
   "outputs": [],
   "source": [
    "std = np.std(X_train4)\n",
    "svr01 = SVR(C=std, epsilon=0.2*std)\n",
    "svr01.fit(X_train4.astype(float), y_train2.astype(float))"
   ]
  },
  {
   "cell_type": "code",
   "execution_count": null,
   "id": "875239b4-e792-42c1-9d2a-ee5e7898f5b8",
   "metadata": {},
   "outputs": [],
   "source": [
    "std = np.std(X_train4)\n",
    "svr01 = SVR(C=std, epsilon=0.2*std)\n",
    "\n",
    "scores = pmh.cv_readout_r_to_c(svr01,\n",
    "                    X_train4,\n",
    "                    y_train2)\n",
    "scores"
   ]
  },
  {
   "cell_type": "code",
   "execution_count": null,
   "id": "6bce0e26-2914-419a-b8ed-bb9df1fd5235",
   "metadata": {},
   "outputs": [],
   "source": []
  },
  {
   "cell_type": "markdown",
   "id": "b6e325ac-97ba-4b59-9522-f41e2ab5921d",
   "metadata": {},
   "source": [
    "Describe this well!!"
   ]
  },
  {
   "cell_type": "markdown",
   "id": "60457feb-6776-4c94-bfc4-c9852e6ed8a8",
   "metadata": {},
   "source": [
    "### Classic readout function\n",
    "\n",
    "- does 5-fold CV and prints confusion matrix, as well as precision, recall, f1, and the standard error of each score."
   ]
  },
  {
   "cell_type": "markdown",
   "id": "75b36f71-c47e-472e-b4f8-e62e60bf452a",
   "metadata": {
    "tags": []
   },
   "source": [
    "### Create datasets"
   ]
  },
  {
   "cell_type": "code",
   "execution_count": null,
   "id": "eb80d7af-f817-4c8e-abc2-8e470cdc0397",
   "metadata": {},
   "outputs": [],
   "source": [
    "feats03 = ['Hour','DOW','Month','station name','next station']"
   ]
  },
  {
   "cell_type": "code",
   "execution_count": null,
   "id": "4d10f053-157f-4045-b1b5-2dd1c9946c67",
   "metadata": {},
   "outputs": [],
   "source": [
    "feats = feats03"
   ]
  },
  {
   "cell_type": "markdown",
   "id": "6932da14-d4dc-47cd-8d64-d045cf41cb50",
   "metadata": {},
   "source": [
    "What proportion of the dataset is the clear_obs versus the borderline observations?"
   ]
  },
  {
   "cell_type": "markdown",
   "id": "0eccd937-e942-4e9a-8fb4-fec245149265",
   "metadata": {
    "tags": []
   },
   "source": [
    "### Predictive models using traditional dataset"
   ]
  },
  {
   "cell_type": "code",
   "execution_count": null,
   "id": "1909f033-3d19-4e7f-b22b-d8454bf8b626",
   "metadata": {},
   "outputs": [],
   "source": [
    "logi08 = LogisticRegression(class_weight='balanced', solver='saga', max_iter=500)\n",
    "\n",
    "X_train, y_train = pmh.create_train_datasets(df05_train, feats=feats03, onehot=True, remove_borderline=False,\n",
    "                                         sample_size=100000, problem='classification')\n",
    "\n",
    "scores = pmh.cv_readout(logi08,\n",
    "                    X_train,\n",
    "                    y_train)\n",
    "scores"
   ]
  },
  {
   "cell_type": "markdown",
   "id": "8f7bc403-c6b0-413e-aeac-f899ec4b3d40",
   "metadata": {},
   "source": [
    "Random Forest actually works better in some ways:"
   ]
  },
  {
   "cell_type": "code",
   "execution_count": null,
   "id": "7b698277-edfd-476b-b9c1-490361c4efa0",
   "metadata": {},
   "outputs": [],
   "source": [
    "forest01 = RandomForestClassifier()\n",
    "\n",
    "X_train, y_train = create_train_datasets(feats=feats03, onehot=True, remove_borderline=False,\n",
    "                                         sample_size=100000, problem='classification')\n",
    "\n",
    "scores = cv_readout(forest01,\n",
    "                    X_train,\n",
    "                    y_train)\n",
    "scores"
   ]
  },
  {
   "cell_type": "markdown",
   "id": "1cf90699-52b5-473a-863c-40be09a67d23",
   "metadata": {},
   "source": [
    "Finally, here's Random Forest with `class_weight='balanced'`. It has better recall but worse precision than the first RF:"
   ]
  },
  {
   "cell_type": "code",
   "execution_count": null,
   "id": "fd12778c-bcbb-404e-bc02-efec443ba4db",
   "metadata": {},
   "outputs": [],
   "source": [
    "forest02 = RandomForestClassifier(class_weight='balanced')\n",
    "\n",
    "X_train, y_train = create_train_datasets(feats=feats03, onehot=True, remove_borderline=False,\n",
    "                                         sample_size=100000, problem='classification')\n",
    "\n",
    "scores = cv_readout(forest02,\n",
    "                    X_train,\n",
    "                    y_train)\n",
    "scores"
   ]
  },
  {
   "cell_type": "markdown",
   "id": "4c6fc05f-4222-4278-a67a-4168bc8d7760",
   "metadata": {
    "tags": []
   },
   "source": [
    "Linear Regression almost never guesses values >74, so it gets dismal recall:"
   ]
  },
  {
   "cell_type": "code",
   "execution_count": null,
   "id": "4ec1beff-af54-41ac-a26f-80084b708348",
   "metadata": {},
   "outputs": [],
   "source": [
    "linreg01 = LinearRegression()\n",
    "\n",
    "X_train, y_train = create_train_datasets(feats=feats03, onehot=True, remove_borderline=False,\n",
    "                                         sample_size=100000, problem='regression')\n",
    "\n",
    "scores = cv_readout_r_to_c(linreg01,\n",
    "                    X_train,\n",
    "                    y_train)\n",
    "scores"
   ]
  },
  {
   "cell_type": "markdown",
   "id": "3623eebd-5803-4970-a9b5-ab42f5c72056",
   "metadata": {},
   "source": [
    "TODO: Linear Regression scored with RMSE and plotted - this exercise will teach us something about our problem."
   ]
  },
  {
   "cell_type": "markdown",
   "id": "918a40e4-3981-4e69-b238-6fdf05303362",
   "metadata": {
    "tags": []
   },
   "source": [
    "### Predictive models on clearly separable dataset\n",
    "\n",
    "Go back to Models_Aug02.ipynb and re-paste if I want this."
   ]
  },
  {
   "cell_type": "markdown",
   "id": "1ef214a1-5bf8-49f3-a03c-557a3d1af99e",
   "metadata": {
    "tags": []
   },
   "source": [
    "### Explaining why Linear Regression may perform poorly\n",
    "\n",
    "- What types of conditions harbor Crowded observations, and what types of conditions harbor NonCrowded observations?\n",
    "- This analysis shows that, in order to successfully warn people of Crowded situations, some class imbalance approach is required."
   ]
  },
  {
   "cell_type": "code",
   "execution_count": null,
   "id": "37bfed9a-5ba2-4e06-829d-5ebf88825252",
   "metadata": {},
   "outputs": [],
   "source": [
    "# WHat are the conditions in which we see the most Crowded observations?\n",
    "crowded_conditions = df04_train.groupby(['Hour','DOW','Month','stadir_ID'])['Crowded'].mean().sort_values().tail(3100)\n",
    "crowded_conditions"
   ]
  },
  {
   "cell_type": "markdown",
   "id": "e4121a59-b224-4cb6-9976-3f585e88ee98",
   "metadata": {},
   "source": [
    "There are 58000 conditions. Only about 3000 conditions have a greater than 50% chance of being Crowded. "
   ]
  },
  {
   "cell_type": "code",
   "execution_count": null,
   "id": "4d7db870-3545-4183-8a9c-6c7d3dc2ad4b",
   "metadata": {},
   "outputs": [],
   "source": [
    "obscount = df04_train.groupby(['Hour','DOW','Month','stadir_ID'])['Crowded'].count()\n",
    "\n",
    "obscount_cwd_conditions = df04_train.groupby(['Hour','DOW','Month','stadir_ID'])['Crowded'].count()[crowded_conditions.index]\n",
    "\n",
    "print('There are',\n",
    "      sum(obscount_cwd_conditions), 'crowded observations that happen in crowded-majority conditions.' )"
   ]
  },
  {
   "cell_type": "code",
   "execution_count": null,
   "id": "ee144f43-11f6-4666-8652-cc6093d19910",
   "metadata": {},
   "outputs": [],
   "source": [
    "print('Recall that there are', df04_train['Crowded'].sum(), 'crowded observations.')"
   ]
  },
  {
   "cell_type": "code",
   "execution_count": null,
   "id": "c47da296-e358-4a10-9dab-30cded52187f",
   "metadata": {},
   "outputs": [],
   "source": [
    "proportion = sum(obscount_cwd_conditions)/df04_train['Crowded'].sum()\n",
    "print('Therefore, only', proportion, 'of Crowded observations are ~easy to classify as Crowded.')"
   ]
  },
  {
   "cell_type": "code",
   "execution_count": null,
   "id": "97c7fe5c-5eb6-4acd-a07b-ee2f71a4a6a8",
   "metadata": {},
   "outputs": [],
   "source": [
    "print('To get the rest of them, we need to address the class imbalance somehow.')"
   ]
  },
  {
   "cell_type": "code",
   "execution_count": null,
   "id": "cfc172a0-6de5-4249-801b-6fe7deb5cf49",
   "metadata": {},
   "outputs": [],
   "source": []
  }
 ],
 "metadata": {
  "kernelspec": {
   "display_name": "Python 3 (ipykernel)",
   "language": "python",
   "name": "python3"
  },
  "language_info": {
   "codemirror_mode": {
    "name": "ipython",
    "version": 3
   },
   "file_extension": ".py",
   "mimetype": "text/x-python",
   "name": "python",
   "nbconvert_exporter": "python",
   "pygments_lexer": "ipython3",
   "version": "3.9.12"
  }
 },
 "nbformat": 4,
 "nbformat_minor": 5
}
