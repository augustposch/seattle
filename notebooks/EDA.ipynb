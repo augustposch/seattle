{
 "cells": [
  {
   "cell_type": "markdown",
   "id": "05544e55-fdb3-4e52-aed4-0e364e462e6d",
   "metadata": {},
   "source": [
    "# EDA\n",
    "\n",
    "8/14: The top few visuals are the polished ones. Some older ones are below. New ones are in progress in the Working notebook. This notebook also needs more work. "
   ]
  },
  {
   "cell_type": "code",
   "execution_count": 1,
   "id": "c245509b-527b-4243-b318-099399866dc7",
   "metadata": {},
   "outputs": [],
   "source": [
    "%matplotlib inline\n",
    "import numpy as np\n",
    "import pandas as pd\n",
    "import matplotlib as mpl\n",
    "import matplotlib.pyplot as plt\n",
    "import seaborn as sns"
   ]
  },
  {
   "cell_type": "code",
   "execution_count": null,
   "id": "f6214887-6230-4913-aa50-5c092c8cf82a",
   "metadata": {},
   "outputs": [],
   "source": [
    "# Import \n",
    "import sys\n",
    "sys.path.append('../src/')\n",
    "import aposch_functions as aposch"
   ]
  },
  {
   "cell_type": "code",
   "execution_count": null,
   "id": "cbc961e6-3613-4b93-b426-bb2083626df1",
   "metadata": {},
   "outputs": [],
   "source": [
    "## Get df04_train dataset"
   ]
  },
  {
   "cell_type": "code",
   "execution_count": 2,
   "id": "f7984959-4844-48b0-9e4d-baaa094aa851",
   "metadata": {},
   "outputs": [
    {
     "ename": "NameError",
     "evalue": "name 'aposch' is not defined",
     "output_type": "error",
     "traceback": [
      "\u001b[1;31m---------------------------------------------------------------------------\u001b[0m",
      "\u001b[1;31mNameError\u001b[0m                                 Traceback (most recent call last)",
      "Input \u001b[1;32mIn [2]\u001b[0m, in \u001b[0;36m<cell line: 5>\u001b[1;34m()\u001b[0m\n\u001b[0;32m      2\u001b[0m data2019 \u001b[38;5;241m=\u001b[39m pd\u001b[38;5;241m.\u001b[39mread_csv(\u001b[38;5;124m'\u001b[39m\u001b[38;5;124m2019_RAW_APC_Data.csv.gz\u001b[39m\u001b[38;5;124m'\u001b[39m)\n\u001b[0;32m      4\u001b[0m \u001b[38;5;66;03m# get df04\u001b[39;00m\n\u001b[1;32m----> 5\u001b[0m df04 \u001b[38;5;241m=\u001b[39m \u001b[43maposch\u001b[49m\u001b[38;5;241m.\u001b[39mclean_data(data2019)\n\u001b[0;32m      7\u001b[0m \u001b[38;5;66;03m# split into test/train sets\u001b[39;00m\n\u001b[0;32m      8\u001b[0m df04_train, df04_test \u001b[38;5;241m=\u001b[39m train_test_split(df04,\n\u001b[0;32m      9\u001b[0m                                          test_size\u001b[38;5;241m=\u001b[39m\u001b[38;5;241m0.2\u001b[39m,\n\u001b[0;32m     10\u001b[0m                                          random_state\u001b[38;5;241m=\u001b[39m\u001b[38;5;241m19\u001b[39m)\n",
      "\u001b[1;31mNameError\u001b[0m: name 'aposch' is not defined"
     ]
    }
   ],
   "source": [
    "# read in data\n",
    "data2019 = pd.read_csv('2019_RAW_APC_Data.csv.gz')\n",
    "\n",
    "# get df04\n",
    "df04 = aposch.clean_data(data2019)\n",
    "\n",
    "# split into test/train sets\n",
    "df04_train, df04_test = train_test_split(df04,\n",
    "                                         test_size=0.2,\n",
    "                                         random_state=19)"
   ]
  },
  {
   "cell_type": "code",
   "execution_count": null,
   "id": "a1e30692-38b5-4fc3-a5ed-7edb8324997f",
   "metadata": {},
   "outputs": [],
   "source": [
    "df = df05_train\n",
    "\n",
    "sns.set_theme(style='whitegrid')\n",
    "ax = sns.kdeplot(x=df['Hour'], hue=df['DOW'],\n",
    "                palette='gist_rainbow', bw_method=0.15, cut=0)\n",
    "ax.set_title('Observations by hour-of-day and day-of-week')\n",
    "\n",
    "ax.legend_.set_title('Day of Week')\n",
    "new_labels = ['Monday','Tuesday','Wednesday','Thursday','Friday','Saturday','Sunday']\n",
    "texts = ax.legend_.texts\n",
    "for t, label in zip(texts, new_labels):\n",
    "    t.set_text(label)\n",
    "sns.move_legend(ax, \"upper left\", bbox_to_anchor = (1,1))"
   ]
  },
  {
   "cell_type": "code",
   "execution_count": null,
   "id": "76b8cb48-3155-432a-8b36-50499341d6cb",
   "metadata": {},
   "outputs": [],
   "source": [
    "df = df05_train\n",
    "variables = ['passwithin','Removed01','Removed02A']\n",
    "agg_df = df.groupby(['DOW','Hour'])[variables].agg(['mean','median','count'])\n",
    "\n",
    "agg_df2 = df.groupby(['DOW','Hour'])['WOY'].nunique() # How many different weeks did this combo have any trains running?\n",
    "agg_df = pd.concat([agg_df,agg_df2], axis=1).reset_index()\n",
    "\n",
    "filt = agg_df['WOY'] > 13 # Only DOW-hour combos that occured more than 13 weeks of the year"
   ]
  },
  {
   "cell_type": "code",
   "execution_count": null,
   "id": "dc6b607e-28d5-43d9-98e1-51eccfb5a2e0",
   "metadata": {},
   "outputs": [],
   "source": [
    "agg_df.columns"
   ]
  },
  {
   "cell_type": "code",
   "execution_count": null,
   "id": "b0a2389e-40ef-4ca1-bd2f-9f391d43d261",
   "metadata": {},
   "outputs": [],
   "source": [
    "sns.set_theme(style='whitegrid')\n",
    "ax = sns.lineplot(data=agg_df[filt], x='Hour', y=('passwithin','mean'), hue='DOW',\n",
    "                palette='gist_rainbow')\n",
    "ax.set_title('Mean passengers by hour-of-day and day-of-week')\n",
    "ax.set_ylabel('Mean passengers')\n",
    "\n",
    "ax.legend_.set_title('Day of Week')\n",
    "new_labels = ['Monday','Tuesday','Wednesday','Thursday','Friday','Saturday','Sunday']\n",
    "texts = ax.legend_.texts\n",
    "for t, label in zip(texts, new_labels):\n",
    "    t.set_text(label)\n",
    "sns.move_legend(ax, \"upper left\", bbox_to_anchor = (1,1))"
   ]
  },
  {
   "cell_type": "code",
   "execution_count": null,
   "id": "b2f7e524-97f6-4c2d-b63b-7ee9d03add6e",
   "metadata": {},
   "outputs": [],
   "source": [
    "sns.set_theme(style='whitegrid')\n",
    "ax = sns.lineplot(data=agg_df[filt], x='Hour', y=('passwithin','median'), hue='DOW',\n",
    "                palette='gist_rainbow')\n",
    "ax.set_title('Median passengers by hour-of-day and day-of-week')\n",
    "ax.set_ylabel('Median passengers')\n",
    "\n",
    "ax.legend_.set_title('Day of Week')\n",
    "new_labels = ['Monday','Tuesday','Wednesday','Thursday','Friday','Saturday','Sunday']\n",
    "texts = ax.legend_.texts\n",
    "for t, label in zip(texts, new_labels):\n",
    "    t.set_text(label)\n",
    "sns.move_legend(ax, \"upper left\", bbox_to_anchor = (1,1))"
   ]
  },
  {
   "cell_type": "markdown",
   "id": "6e670c5a-312f-4d96-afa7-f6515c4277f7",
   "metadata": {},
   "source": [
    "Median passengers looks a bit different.\n",
    "- AM rush hour median is less than AM rush hour average\n",
    "- Median: AM to PM climb\n",
    "- Median: Saturday around 12 noon something\n",
    "\n",
    "Let's revisit this another time.\n",
    "\n",
    "For now, keep working with mean."
   ]
  },
  {
   "cell_type": "code",
   "execution_count": null,
   "id": "819ad059-f9cf-42bc-a000-1750a928e5d6",
   "metadata": {},
   "outputs": [],
   "source": [
    "sns.set_theme(style='whitegrid')\n",
    "ax = sns.lineplot(data=agg_df[filt], x='Hour', y=('Removed01','mean'), hue='DOW',\n",
    "                palette='gist_rainbow')\n",
    "ax.set_title('Mean season-removed passengers by hour-of-day and day-of-week')\n",
    "ax.set_ylabel('Mean passengers')\n",
    "\n",
    "ax.legend_.set_title('Day of Week')\n",
    "new_labels = ['Monday','Tuesday','Wednesday','Thursday','Friday','Saturday','Sunday']\n",
    "texts = ax.legend_.texts\n",
    "for t, label in zip(texts, new_labels):\n",
    "    t.set_text(label)\n",
    "sns.move_legend(ax, \"upper left\", bbox_to_anchor = (1,1))"
   ]
  },
  {
   "cell_type": "code",
   "execution_count": null,
   "id": "f0a970b1-f592-4735-9f0b-705342f4222b",
   "metadata": {},
   "outputs": [],
   "source": [
    "sns.set_theme(style='whitegrid')\n",
    "ax = sns.lineplot(data=agg_df[filt], x='Hour', y=('Removed02A','mean'), hue='DOW',\n",
    "                palette='gist_rainbow')\n",
    "ax.set_title('Mean trend-removed passengers by hour-of-day and day-of-week')\n",
    "ax.set_ylabel('Mean passengers')\n",
    "\n",
    "ax.legend_.set_title('Day of Week')\n",
    "new_labels = ['Monday','Tuesday','Wednesday','Thursday','Friday','Saturday','Sunday']\n",
    "texts = ax.legend_.texts\n",
    "for t, label in zip(texts, new_labels):\n",
    "    t.set_text(label)\n",
    "sns.move_legend(ax, \"upper left\", bbox_to_anchor = (1,1))"
   ]
  },
  {
   "cell_type": "markdown",
   "id": "81d9eaff-8a6f-48bb-943f-14aef65953f6",
   "metadata": {},
   "source": [
    "This plot just moved the lines up or down from where they were, but retains their shape."
   ]
  },
  {
   "cell_type": "code",
   "execution_count": null,
   "id": "c75fe5e4-1818-4435-be87-2abf56607f56",
   "metadata": {
    "scrolled": true
   },
   "outputs": [],
   "source": [
    "df = df04_train\n",
    "\n",
    "ofinterest = ['AllObservations','Crowded','Supercrowded','Capacity','UnderNeg5','NegAFew']\n",
    "\n",
    "for col in ofinterest:\n",
    "    plt.subplots(figsize=(6, 2))\n",
    "    plt.text(0.5, 0.5, col+' distribution by TOD and DOW', fontsize=28)\n",
    "    plt.axis('off')\n",
    "    b = sns.displot(x=df.loc[df[col],'Hour'], col=df.loc[df[col],'DOW'],\n",
    "                binwidth=1, binrange=[0,24], hue=df.loc[df[col],'DOW'], palette='gist_rainbow', col_wrap=4)\n",
    "    c = sns.displot(x=df.loc[df[col],'Hour'], hue=df.loc[df[col],'DOW'],\n",
    "                kind='kde', palette='gist_rainbow').fig.suptitle(col)"
   ]
  },
  {
   "cell_type": "code",
   "execution_count": null,
   "id": "44346802-e66f-4763-aa30-b4d4c750a732",
   "metadata": {},
   "outputs": [],
   "source": [
    "df = df04_train\n",
    "\n",
    "ofinterest = ['AllObservations','Crowded','Supercrowded','Capacity','UnderNeg5','NegAFew']\n",
    "\n",
    "for col in ofinterest:\n",
    "    plt.subplots(figsize=(6, 2))\n",
    "    plt.text(0.5, 0.5, col+' distribution by DOW and Season', fontsize=28)\n",
    "    plt.axis('off')\n",
    "    b = sns.displot(x=df.loc[df[col],'DOW'], col=df.loc[df[col],'Season'],\n",
    "                    binwidth=1, binrange=[0,7], hue=df.loc[df[col],'Season'],\n",
    "                    discrete=True,\n",
    "                    palette = 'copper',\n",
    "                    col_wrap=4)\n",
    "    c = sns.displot(x=df.loc[df[col],'DOW'], hue=df.loc[df[col],'Season'],\n",
    "                    kind='kde', bw_adjust = 3,\n",
    "                    palette='copper').fig.suptitle(col)"
   ]
  }
 ],
 "metadata": {
  "kernelspec": {
   "display_name": "Python 3 (ipykernel)",
   "language": "python",
   "name": "python3"
  },
  "language_info": {
   "codemirror_mode": {
    "name": "ipython",
    "version": 3
   },
   "file_extension": ".py",
   "mimetype": "text/x-python",
   "name": "python",
   "nbconvert_exporter": "python",
   "pygments_lexer": "ipython3",
   "version": "3.9.12"
  }
 },
 "nbformat": 4,
 "nbformat_minor": 5
}
