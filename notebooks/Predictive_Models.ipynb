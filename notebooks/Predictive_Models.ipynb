{
 "cells": [
  {
   "cell_type": "markdown",
   "id": "10c50912-2412-47f1-afd3-d5e8f6eb646e",
   "metadata": {},
   "source": [
    "# Predictive models\n",
    "\n",
    "This notebook includes many different approaches to predictive models."
   ]
  },
  {
   "cell_type": "code",
   "execution_count": 1,
   "id": "a11daa74-3604-4ea8-a43b-6a4989897579",
   "metadata": {},
   "outputs": [],
   "source": [
    "%matplotlib inline\n",
    "import numpy as np\n",
    "import pandas as pd\n",
    "import matplotlib as mpl\n",
    "import matplotlib.pyplot as plt\n",
    "import seaborn as sns\n",
    "\n",
    "from sklearn.model_selection import train_test_split"
   ]
  },
  {
   "cell_type": "code",
   "execution_count": 2,
   "id": "3e5f5cca-055c-45cd-bcb2-30953bce6aef",
   "metadata": {},
   "outputs": [],
   "source": [
    "import sys\n",
    "sys.path.append('../src/')\n",
    "import aposch_functions as aposch\n",
    "import predictive_model_helpers as pmh"
   ]
  },
  {
   "cell_type": "code",
   "execution_count": 27,
   "id": "6f16ed29-2b6d-4ef4-a46a-851ca5286f73",
   "metadata": {},
   "outputs": [],
   "source": [
    "from sklearn.utils import shuffle\n",
    "from sklearn.metrics import precision_score, recall_score, f1_score\n",
    "from sklearn.model_selection import train_test_split, cross_val_score, cross_validate\n",
    "\n",
    "from sklearn.linear_model import LogisticRegression\n",
    "from sklearn.ensemble import RandomForestClassifier\n",
    "from sklearn.ensemble import ExtraTreesClassifier\n",
    "from sklearn.svm import SVC\n",
    "from sklearn.svm import LinearSVC\n",
    "from sklearn.naive_bayes import CategoricalNB\n",
    "from sklearn.naive_bayes import GaussianNB\n",
    "from sklearn.neighbors import KNeighborsClassifier\n",
    "\n",
    "\n",
    "from sklearn.linear_model import LinearRegression\n",
    "from sklearn.ensemble import RandomForestRegressor\n",
    "from sklearn.ensemble import ExtraTreesRegressor\n",
    "from sklearn.svm import SVR\n"
   ]
  },
  {
   "cell_type": "markdown",
   "id": "dd680980-de91-417d-b9ca-255eeefb38f1",
   "metadata": {},
   "source": [
    "#### Get datasets"
   ]
  },
  {
   "cell_type": "code",
   "execution_count": 4,
   "id": "f7984959-4844-48b0-9e4d-baaa094aa851",
   "metadata": {},
   "outputs": [],
   "source": [
    "# read in data\n",
    "data2019 = pd.read_csv('../data/2019_RAW_APC_Data.csv.gz')\n",
    "\n",
    "# get df04\n",
    "df04 = aposch.clean_data(data2019)\n",
    "\n",
    "# split into test/train sets\n",
    "df04_train, df04_test = train_test_split(df04,\n",
    "                                         test_size=0.2,\n",
    "                                         random_state=19)\n",
    "\n",
    "# get cycle-related features\n",
    "df05_train = aposch.do_cycles_processing(df04_train)"
   ]
  },
  {
   "cell_type": "code",
   "execution_count": 5,
   "id": "d2ccd7bc-8a20-4d17-8a2a-7574ad59c228",
   "metadata": {},
   "outputs": [],
   "source": [
    "df = df05_train"
   ]
  },
  {
   "cell_type": "markdown",
   "id": "0a599710-ad37-4e6e-813a-2d2aeae96b16",
   "metadata": {},
   "source": [
    "### Create datasets with X in the format for \"predict next\""
   ]
  },
  {
   "cell_type": "markdown",
   "id": "1106d6ab-0519-4efe-b65c-620eec56f9c9",
   "metadata": {},
   "source": [
    "Need to think about this.\n",
    "\n",
    "Goal: use previous passenger counts to predict the current passenger count.\n",
    "\n",
    "Q: Should I train one model using all stadirs at once? Or, should I train a different model for each stadir?\n",
    "\n",
    "Q: What is the time granularity?\n",
    "- Q: What is the best time granularity that I even have?\n",
    "  - For a given stadir, look at what kind of granularity/resolution do we have?\n",
    "  - For a given stadir, how many observations do we have *per hour*?"
   ]
  },
  {
   "cell_type": "code",
   "execution_count": 6,
   "id": "f6b52725-8354-4d65-aee6-a4a92631e6a9",
   "metadata": {},
   "outputs": [
    {
     "data": {
      "text/plain": [
       "5.0"
      ]
     },
     "execution_count": 6,
     "metadata": {},
     "output_type": "execute_result"
    }
   ],
   "source": [
    "# For a given stadir, how many observations do we have *per hour*?\n",
    "# Ans: we have an average of 5 per hour\n",
    "agg = df04.groupby(['stadir_ID','DOY','Hour'])['passwithin'].count()\n",
    "agg.median()"
   ]
  },
  {
   "cell_type": "markdown",
   "id": "c1616b53-25e3-461e-ac3b-23ea87a38109",
   "metadata": {},
   "source": [
    "For a first trial, focus only on Pioneer Square going Southbound. Use only the observations of passwithin of other trains that passed through in the short time before the train of interest arrives."
   ]
  },
  {
   "cell_type": "markdown",
   "id": "61ad7999-a3ee-419b-aa8f-8c4d3e2f38be",
   "metadata": {},
   "source": [
    "Gather info about Pioneer.\n",
    "\n",
    "Note that Pioneer is sta_ID 12, so Pioneer Southbound is stadir_ID 1211."
   ]
  },
  {
   "cell_type": "code",
   "execution_count": 7,
   "id": "8efe2194-7b15-4a8b-9636-eb635be9d8c3",
   "metadata": {},
   "outputs": [],
   "source": [
    "pioneer = df.loc[df['stadir_ID']==1211,\n",
    "       ['railcar ID','DOY','stop arrival time','passwithin']].sort_values('stop arrival time')"
   ]
  },
  {
   "cell_type": "code",
   "execution_count": 8,
   "id": "e0a767c8-046a-4fb8-94ac-591831c2af17",
   "metadata": {},
   "outputs": [],
   "source": [
    "pioneer_ts = pioneer.set_index('stop arrival time', drop=True)['passwithin']"
   ]
  },
  {
   "cell_type": "code",
   "execution_count": 9,
   "id": "ae736da6-39a2-494a-a787-303f87c9a663",
   "metadata": {},
   "outputs": [],
   "source": [
    "def get_features_8x15min(pioneer, pioneer_ts, obs):\n",
    "    '''\n",
    "    Expects a dataframe of all passwithin observations, a Series of all the timestamps, and a row you're working with\n",
    "    '''\n",
    "    timestamp = pioneer.at[obs,'stop arrival time']\n",
    "    idx_start = timestamp - pd.DateOffset(minutes=150)\n",
    "    idx_end = timestamp - pd.DateOffset(minutes=30)\n",
    "    period_idx = pd.period_range(idx_start, freq='15min', periods=8)\n",
    "\n",
    "    # get FMP masks\n",
    "    FMP_masks = []  # FMP is a 15-minute period\n",
    "    for i in range(8):\n",
    "        boolean_membership = (pioneer_ts.index >= period_idx[i].start_time) & (pioneer_ts.index < period_idx[i].end_time)\n",
    "        FMP_masks.append(boolean_membership)\n",
    "    \n",
    "    # calculate mean for each FMP and add it to the pioneer dataframe\n",
    "    for i, FMP_mask in enumerate(FMP_masks):\n",
    "        meanpass = pioneer.loc[FMP_mask,'passwithin'].mean()\n",
    "        pioneer.at[obs,'FMP_'+str(i)] = meanpass\n",
    "        \n",
    "    return pioneer"
   ]
  },
  {
   "cell_type": "code",
   "execution_count": 10,
   "id": "7d5919d4-006a-4b07-9414-9b77972fb0b4",
   "metadata": {},
   "outputs": [],
   "source": [
    "pioneer = get_features_8x15min(pioneer, pioneer_ts, 1318946)"
   ]
  },
  {
   "cell_type": "code",
   "execution_count": 11,
   "id": "7b542927-c0b2-45b8-abe4-9663062d2315",
   "metadata": {},
   "outputs": [
    {
     "name": "stdout",
     "output_type": "stream",
     "text": [
      "did 1000 rows so far\n",
      "did 2000 rows so far\n",
      "did 3000 rows so far\n",
      "did 4000 rows so far\n",
      "did 5000 rows so far\n",
      "did 6000 rows so far\n",
      "did 7000 rows so far\n",
      "did 8000 rows so far\n",
      "did 9000 rows so far\n",
      "did 10000 rows so far\n",
      "did 11000 rows so far\n",
      "did 12000 rows so far\n",
      "did 13000 rows so far\n",
      "did 14000 rows so far\n",
      "did 15000 rows so far\n",
      "did 16000 rows so far\n",
      "did 17000 rows so far\n",
      "did 18000 rows so far\n",
      "did 19000 rows so far\n",
      "did 20000 rows so far\n",
      "did 21000 rows so far\n",
      "did 22000 rows so far\n",
      "did 23000 rows so far\n",
      "did 24000 rows so far\n",
      "did 25000 rows so far\n",
      "did 26000 rows so far\n",
      "did 27000 rows so far\n",
      "did 28000 rows so far\n",
      "did 29000 rows so far\n"
     ]
    }
   ],
   "source": [
    "counter = 0\n",
    "for obs in pioneer.index:\n",
    "    pioneer = get_features_8x15min(pioneer, pioneer_ts, obs)\n",
    "    counter += 1\n",
    "    if counter % 1000 == 0:\n",
    "        print('did',counter,'rows so far')"
   ]
  },
  {
   "cell_type": "code",
   "execution_count": 12,
   "id": "b27eae72-2736-4987-b762-ae51713ab0ea",
   "metadata": {},
   "outputs": [],
   "source": [
    "X, y = pioneer.loc[:,'FMP_0':'FMP_7'], pioneer.loc[:,'passwithin']\n",
    "tridx = X.index.intersection(df04_train.index)\n",
    "X_train, y_train = X.loc[tridx,:], y[tridx]"
   ]
  },
  {
   "cell_type": "code",
   "execution_count": 13,
   "id": "cf629ebd-bf4d-4b4d-b06d-fc332f84f30d",
   "metadata": {},
   "outputs": [
    {
     "data": {
      "text/plain": [
       "FMP_0    0.614893\n",
       "FMP_1    0.592215\n",
       "FMP_2    0.329781\n",
       "FMP_3    0.622891\n",
       "FMP_4    0.513809\n",
       "FMP_5    0.616732\n",
       "FMP_6    0.472980\n",
       "FMP_7    0.570330\n",
       "dtype: float64"
      ]
     },
     "execution_count": 13,
     "metadata": {},
     "output_type": "execute_result"
    }
   ],
   "source": [
    "X.isna().sum(axis=0) / X.count(axis=0)"
   ]
  },
  {
   "cell_type": "markdown",
   "id": "3a536c2c-d29b-44ca-8824-7136f66bbd9c",
   "metadata": {},
   "source": [
    "Need to get rid of rows that have a lot of NaNs."
   ]
  },
  {
   "cell_type": "code",
   "execution_count": 14,
   "id": "327f1711-a194-42e0-8412-dc271dd99612",
   "metadata": {},
   "outputs": [
    {
     "name": "stdout",
     "output_type": "stream",
     "text": [
      "25801\n",
      "29819\n",
      "0.8652536973070861\n",
      "Before linear interpolation, X_train2 had this many NaNs:\n",
      "FMP_0    7843\n",
      "FMP_1    7768\n",
      "FMP_2    4434\n",
      "FMP_3    8080\n",
      "FMP_4    7001\n",
      "FMP_5    8350\n",
      "FMP_6    6976\n",
      "FMP_7    8086\n",
      "dtype: int64\n",
      "After linear interpolation, X_train3 had this many NaNs:\n",
      "FMP_0    7843\n",
      "FMP_1    2303\n",
      "FMP_2     353\n",
      "FMP_3      80\n",
      "FMP_4       0\n",
      "FMP_5       0\n",
      "FMP_6       0\n",
      "FMP_7       0\n",
      "dtype: int64\n",
      "Note that all the remaining NaNs were in the earliest four Fifteen-Minute Periods.\n",
      "All the observations that had remaining NaNs are shown in a visual below. We see that some are in the 7am and 8am hours\n",
      "as I expected, but there are plenty more throughout the day. I don't know why this is.\n",
      "\n",
      "Theory: To get to a low-observation-density time of day, you have to go back in time about two hours before the\n",
      "target observation...\n",
      "\n",
      "I still don't fully understand this. I don't understand why we _never_ see two NaNs in a\n",
      "row in the 60-30 minutes-before window.\n",
      "Note that this many observations got NaNs filled with zeros: 7843\n"
     ]
    }
   ],
   "source": [
    "filt = X_train.isna().sum(axis=1) <= 4 # rows that have at most 4 NaNs (i.e. at least 4 real datapoints)\n",
    "\n",
    "X_train2 = X_train.loc[filt,:]\n",
    "y_train2 = y_train[filt]\n",
    "\n",
    "print(len(y_train2))\n",
    "\n",
    "print(len(y_train))\n",
    "\n",
    "print(len(y_train2)/len(y_train))\n",
    "\n",
    "print('Before linear interpolation, X_train2 had this many NaNs:')\n",
    "print(X_train2.isna().sum())\n",
    "X_train3 = X_train2.interpolate(axis=1, method='linear')\n",
    "\n",
    "print('After linear interpolation, X_train3 had this many NaNs:')\n",
    "print(X_train3.isna().sum())\n",
    "\n",
    "print('''Note that all the remaining NaNs were in the earliest four Fifteen-Minute Periods.\n",
    "All the observations that had remaining NaNs are shown in a visual below. We see that some are in the 7am and 8am hours\n",
    "as I expected, but there are plenty more throughout the day. I don't know why this is.\n",
    "\n",
    "Theory: To get to a low-observation-density time of day, you have to go back in time about two hours before the\n",
    "target observation...\n",
    "\n",
    "I still don't fully understand this. I don't understand why we _never_ see two NaNs in a\n",
    "row in the 60-30 minutes-before window.''')\n",
    "obs_w_early_na = X_train3.isna().sum(axis=1) > 0\n",
    "print('Note that this many observations got NaNs filled with zeros:', sum(obs_w_early_na))\n",
    "\n",
    "X_train4 = X_train3.fillna(0)"
   ]
  },
  {
   "cell_type": "code",
   "execution_count": 15,
   "id": "c836d764-ae92-4e7c-ae98-1691dae22638",
   "metadata": {},
   "outputs": [],
   "source": [
    "early_na = pioneer.index.isin(X_train3.loc[obs_w_early_na].index)"
   ]
  },
  {
   "cell_type": "code",
   "execution_count": 39,
   "id": "d3f73529-8089-4bd5-a970-e41c17740915",
   "metadata": {},
   "outputs": [
    {
     "data": {
      "image/png": "[encoded data removed]",
      "text/plain": [
       "<Figure size 432x288 with 1 Axes>"
      ]
     },
     "metadata": {
      "needs_background": "light"
     },
     "output_type": "display_data"
    }
   ],
   "source": [
    "# look into the observations that were first-pass filtered out:\n",
    "# DO a KDE using stop arrival time\n",
    "sns.histplot(x=pioneer.loc[~filt,'stop arrival time'].dt.hour, discrete=True)\n",
    "plt.title('Pioneer Southbound: These observations removed due to too many NaN features. Most are in the 5am and 6am hours.')\n",
    "plt.xlabel('Hour of day')\n",
    "plt.savefig('../images/PM_removed_obs.png', bbox_inches='tight')"
   ]
  },
  {
   "cell_type": "code",
   "execution_count": 17,
   "id": "29092a9c-2a8c-4e61-bf9f-2aa18ab1d77f",
   "metadata": {},
   "outputs": [
    {
     "data": {
      "text/plain": [
       "Text(0.5, 1.0, 'Hour of targets with two NaN features in a row, did not get interpolated. Those NaNs got filled as 0.')"
      ]
     },
     "execution_count": 17,
     "metadata": {},
     "output_type": "execute_result"
    },
    {
     "data": {
      "image/png": "[encoded data removed]",
      "text/plain": [
       "<Figure size 432x288 with 1 Axes>"
      ]
     },
     "metadata": {
      "needs_background": "light"
     },
     "output_type": "display_data"
    }
   ],
   "source": [
    "# look into the observations that were first-pass filtered out:\n",
    "# DO a KDE using stop arrival time\n",
    "sns.histplot(x=pioneer.loc[early_na,'stop arrival time'].dt.hour,discrete=True)\n",
    "plt.xlabel('Hour of day')\n",
    "plt.title('Hour of targets with two NaN features in a row, did not get interpolated. Those NaNs got filled as 0.')"
   ]
  },
  {
   "cell_type": "code",
   "execution_count": 18,
   "id": "ff6d04e1-48de-46e1-bf9b-c85e1a1ccc7d",
   "metadata": {},
   "outputs": [
    {
     "data": {
      "text/plain": [
       "Text(0.5, 0, 'Hour of day')"
      ]
     },
     "execution_count": 18,
     "metadata": {},
     "output_type": "execute_result"
    },
    {
     "data": {
      "image/png": "[encoded data removed]",
      "text/plain": [
       "<Figure size 432x288 with 1 Axes>"
      ]
     },
     "metadata": {
      "needs_background": "light"
     },
     "output_type": "display_data"
    }
   ],
   "source": [
    "# look into the observations that were first-pass filtered out:\n",
    "# DO a KDE using stop arrival time\n",
    "sns.histplot(x=pioneer.loc[X_train4.index,'stop arrival time'].dt.hour,\n",
    "             discrete=True\n",
    "             #hue=pioneer.loc[early_na,:]\n",
    "            )\n",
    "plt.title('Pioneer Southbound: Hour of all targets in our train dataset.')\n",
    "plt.xlabel('Hour of day')"
   ]
  },
  {
   "cell_type": "markdown",
   "id": "fc9e7560-46d0-4749-ac96-ffb94d69d3eb",
   "metadata": {},
   "source": [
    "We see that this covers 87% of observations. Great. \n",
    "\n",
    "Once we removed the really bad rows, we used linear interpolation to fill in NaNs in the rows that were still salvageable.\n",
    "\n",
    "Upshot: starting with around 30000 observations, we removed 4000 due to too many NaN features - vast majority were 5am or 6am observations - understandable why so many NaN features. Out of the 26000 that we're using in our training set, 18000 were able to get all their NaNs filled by interpolation, and 8000 had some set of consecutive FMPs that were NaNs filled as 0s.\n"
   ]
  },
  {
   "cell_type": "markdown",
   "id": "93be3bf1-35de-4032-8e60-00e45df5a573",
   "metadata": {},
   "source": [
    "Picking up a thread again - the observations with 5 or more NaN features. How crowded were they?"
   ]
  },
  {
   "cell_type": "markdown",
   "id": "d2ceb67d-a875-4304-a44e-602df6216898",
   "metadata": {},
   "source": [
    "pioneer.loc[~filt,'passwithin']"
   ]
  },
  {
   "cell_type": "code",
   "execution_count": 21,
   "id": "15688500-69d0-47b8-9a27-92ae77c0162b",
   "metadata": {},
   "outputs": [
    {
     "data": {
      "text/plain": [
       "28.112742658038826"
      ]
     },
     "execution_count": 21,
     "metadata": {},
     "output_type": "execute_result"
    }
   ],
   "source": [
    "pioneer.loc[~filt,'passwithin'].mean()"
   ]
  },
  {
   "cell_type": "code",
   "execution_count": 22,
   "id": "b3cf44a8-0e63-46fb-9d00-70e9b033789f",
   "metadata": {},
   "outputs": [
    {
     "data": {
      "text/plain": [
       "226"
      ]
     },
     "execution_count": 22,
     "metadata": {},
     "output_type": "execute_result"
    }
   ],
   "source": [
    "pioneer.loc[~filt,'passwithin'].gt(74).sum()"
   ]
  },
  {
   "cell_type": "markdown",
   "id": "4657cbc3-28f5-4187-9614-60be9ee91a35",
   "metadata": {},
   "source": [
    "So, out of the ones we removed due to having too many NaNs, about 5% of them were Crowded (>74)."
   ]
  },
  {
   "cell_type": "markdown",
   "id": "e8a032e3-b04f-4197-8adf-f967a44de30b",
   "metadata": {},
   "source": [
    "## Running the predictive models"
   ]
  },
  {
   "cell_type": "code",
   "execution_count": 24,
   "id": "95937ad3-79d8-4a33-9de0-3770be98a3c0",
   "metadata": {},
   "outputs": [
    {
     "name": "stdout",
     "output_type": "stream",
     "text": [
      "Performing 5-fold cross-validation...\n",
      "Starting work on a new fold...\n",
      "Starting work on a new fold...\n",
      "Starting work on a new fold...\n",
      "Starting work on a new fold...\n",
      "Starting work on a new fold...\n",
      "Aggregating the scores...\n",
      "[[18454  1532]\n",
      " [ 1890  3925]]\n",
      "                mean       std\n",
      "precision   0.717337  0.020632\n",
      "recall      0.675077  0.008186\n",
      "f1          0.695451  0.012377\n",
      "rmse       25.715303  1.205023\n"
     ]
    }
   ],
   "source": [
    "forest01 = RandomForestRegressor(n_estimators=500,random_state=19)\n",
    "\n",
    "scores = pmh.cv_readout_r_to_c(forest01,\n",
    "                    X_train4,\n",
    "                    y_train2)\n",
    "scores"
   ]
  },
  {
   "cell_type": "code",
   "execution_count": 20,
   "id": "e025bea8-16fd-4bc4-9302-1de6a22856a3",
   "metadata": {},
   "outputs": [
    {
     "name": "stdout",
     "output_type": "stream",
     "text": [
      "Performing 5-fold cross-validation...\n",
      "Starting work on a new fold...\n",
      "Starting work on a new fold...\n",
      "Starting work on a new fold...\n",
      "Starting work on a new fold...\n",
      "Starting work on a new fold...\n",
      "Aggregating the scores...\n",
      "[[18461  1525]\n",
      " [ 2284  3531]]\n",
      "               mean       std\n",
      "precision  0.696588  0.017394\n",
      "recall      0.60648  0.014969\n",
      "f1         0.648282  0.012994\n",
      "rmse       27.28128  1.608785\n"
     ]
    }
   ],
   "source": [
    "linreg01 = LinearRegression()\n",
    "\n",
    "scores = pmh.cv_readout_r_to_c(linreg01,\n",
    "                    X_train4,\n",
    "                    y_train2)\n",
    "scores"
   ]
  },
  {
   "cell_type": "code",
   "execution_count": 25,
   "id": "23e0e6ec-6eda-468f-9bdb-125784ab375b",
   "metadata": {},
   "outputs": [
    {
     "name": "stdout",
     "output_type": "stream",
     "text": [
      "Performing 5-fold cross-validation...\n",
      "Starting work on a new fold...\n",
      "Starting work on a new fold...\n",
      "Starting work on a new fold...\n",
      "Starting work on a new fold...\n",
      "Starting work on a new fold...\n",
      "Aggregating the scores...\n",
      "[[18428  1558]\n",
      " [ 1875  3940]]\n",
      "                mean       std\n",
      "precision   0.714869   0.01935\n",
      "recall       0.67775  0.008592\n",
      "f1          0.695681  0.011157\n",
      "rmse       25.559767  1.158628\n"
     ]
    }
   ],
   "source": [
    "extrees01 = ExtraTreesRegressor(n_estimators=500,random_state=19)\n",
    "\n",
    "scores = pmh.cv_readout_r_to_c(extrees01,\n",
    "                    X_train4,\n",
    "                    y_train2)\n",
    "scores"
   ]
  },
  {
   "cell_type": "code",
   "execution_count": 36,
   "id": "7e1c60a0-14da-4e9b-8954-ec8cef640e3b",
   "metadata": {},
   "outputs": [
    {
     "name": "stdout",
     "output_type": "stream",
     "text": [
      "Performing 5-fold cross-validation...\n",
      "Starting work on a new fold...\n",
      "Starting work on a new fold...\n",
      "Starting work on a new fold...\n",
      "Starting work on a new fold...\n",
      "Starting work on a new fold...\n",
      "Aggregating the scores...\n",
      "[[18071  1915]\n",
      " [ 2069  3746]]\n",
      "                mean       std\n",
      "precision   0.659957   0.02067\n",
      "recall      0.644481  0.007732\n",
      "f1          0.651951  0.011213\n",
      "rmse       27.872832  1.412147\n"
     ]
    }
   ],
   "source": [
    "forest02 = RandomForestRegressor(n_estimators=500,random_state=19)\n",
    "\n",
    "scores = pmh.cv_readout_r_to_c(forest02,\n",
    "                    X_train4.loc[:,'FMP_4':'FMP_7'],\n",
    "                    y_train2)\n",
    "scores"
   ]
  },
  {
   "cell_type": "code",
   "execution_count": 37,
   "id": "2844ee84-266a-4f3d-9930-4d7142bec7a4",
   "metadata": {},
   "outputs": [
    {
     "name": "stdout",
     "output_type": "stream",
     "text": [
      "Performing 5-fold cross-validation...\n",
      "Starting work on a new fold...\n",
      "Starting work on a new fold...\n",
      "Starting work on a new fold...\n",
      "Starting work on a new fold...\n",
      "Starting work on a new fold...\n",
      "Aggregating the scores...\n",
      "[[18429  1557]\n",
      " [ 2313  3502]]\n",
      "                mean       std\n",
      "precision   0.690429  0.016188\n",
      "recall      0.601815  0.015215\n",
      "f1          0.642962  0.012916\n",
      "rmse       27.446768  1.610666\n"
     ]
    }
   ],
   "source": [
    "linreg02 = LinearRegression()\n",
    "\n",
    "scores = pmh.cv_readout_r_to_c(linreg02,\n",
    "                    X_train4.loc[:,'FMP_4':'FMP_7'],\n",
    "                    y_train2)\n",
    "scores"
   ]
  },
  {
   "cell_type": "code",
   "execution_count": 38,
   "id": "0c0b235c-4230-42a7-b5e5-754d07080fdc",
   "metadata": {},
   "outputs": [
    {
     "name": "stdout",
     "output_type": "stream",
     "text": [
      "Performing 5-fold cross-validation...\n",
      "Starting work on a new fold...\n",
      "Starting work on a new fold...\n",
      "Starting work on a new fold...\n",
      "Starting work on a new fold...\n",
      "Starting work on a new fold...\n",
      "Aggregating the scores...\n",
      "[[17973  2013]\n",
      " [ 2037  3778]]\n",
      "                mean       std\n",
      "precision      0.651  0.018999\n",
      "recall      0.649494  0.009038\n",
      "f1          0.650157  0.012786\n",
      "rmse       28.176415  1.419083\n"
     ]
    }
   ],
   "source": [
    "extrees01 = ExtraTreesRegressor(n_estimators=500,random_state=19)\n",
    "\n",
    "scores = pmh.cv_readout_r_to_c(extrees01,\n",
    "                    X_train4.loc[:,'FMP_4':'FMP_7'],\n",
    "                    y_train2)\n",
    "scores"
   ]
  },
  {
   "cell_type": "markdown",
   "id": "9bc9d4c6-1983-48f1-8e97-6793beb9b81a",
   "metadata": {},
   "source": [
    "### SVM is not working and I don't know why"
   ]
  },
  {
   "cell_type": "code",
   "execution_count": 35,
   "id": "24ebd2a8-906c-458b-9066-6cad3fe95bac",
   "metadata": {},
   "outputs": [
    {
     "ename": "TypeError",
     "evalue": "cannot convert the series to <class 'float'>",
     "output_type": "error",
     "traceback": [
      "\u001b[1;31m---------------------------------------------------------------------------\u001b[0m",
      "\u001b[1;31mTypeError\u001b[0m                                 Traceback (most recent call last)",
      "Input \u001b[1;32mIn [35]\u001b[0m, in \u001b[0;36m<cell line: 3>\u001b[1;34m()\u001b[0m\n\u001b[0;32m      1\u001b[0m std \u001b[38;5;241m=\u001b[39m np\u001b[38;5;241m.\u001b[39mstd(X_train4)\n\u001b[0;32m      2\u001b[0m svr01 \u001b[38;5;241m=\u001b[39m SVR(C\u001b[38;5;241m=\u001b[39mstd, epsilon\u001b[38;5;241m=\u001b[39m\u001b[38;5;241m0.2\u001b[39m\u001b[38;5;241m*\u001b[39mstd)\n\u001b[1;32m----> 3\u001b[0m \u001b[43msvr01\u001b[49m\u001b[38;5;241;43m.\u001b[39;49m\u001b[43mfit\u001b[49m\u001b[43m(\u001b[49m\u001b[43mX_train4\u001b[49m\u001b[38;5;241;43m.\u001b[39;49m\u001b[43mastype\u001b[49m\u001b[43m(\u001b[49m\u001b[38;5;28;43mfloat\u001b[39;49m\u001b[43m)\u001b[49m\u001b[43m,\u001b[49m\u001b[43m \u001b[49m\u001b[43my_train2\u001b[49m\u001b[38;5;241;43m.\u001b[39;49m\u001b[43mastype\u001b[49m\u001b[43m(\u001b[49m\u001b[38;5;28;43mfloat\u001b[39;49m\u001b[43m)\u001b[49m\u001b[43m)\u001b[49m\n",
      "File \u001b[1;32m~\\anaconda3\\lib\\site-packages\\sklearn\\svm\\_base.py:255\u001b[0m, in \u001b[0;36mBaseLibSVM.fit\u001b[1;34m(self, X, y, sample_weight)\u001b[0m\n\u001b[0;32m    252\u001b[0m     \u001b[38;5;28mprint\u001b[39m(\u001b[38;5;124m\"\u001b[39m\u001b[38;5;124m[LibSVM]\u001b[39m\u001b[38;5;124m\"\u001b[39m, end\u001b[38;5;241m=\u001b[39m\u001b[38;5;124m\"\u001b[39m\u001b[38;5;124m\"\u001b[39m)\n\u001b[0;32m    254\u001b[0m seed \u001b[38;5;241m=\u001b[39m rnd\u001b[38;5;241m.\u001b[39mrandint(np\u001b[38;5;241m.\u001b[39miinfo(\u001b[38;5;124m\"\u001b[39m\u001b[38;5;124mi\u001b[39m\u001b[38;5;124m\"\u001b[39m)\u001b[38;5;241m.\u001b[39mmax)\n\u001b[1;32m--> 255\u001b[0m \u001b[43mfit\u001b[49m\u001b[43m(\u001b[49m\u001b[43mX\u001b[49m\u001b[43m,\u001b[49m\u001b[43m \u001b[49m\u001b[43my\u001b[49m\u001b[43m,\u001b[49m\u001b[43m \u001b[49m\u001b[43msample_weight\u001b[49m\u001b[43m,\u001b[49m\u001b[43m \u001b[49m\u001b[43msolver_type\u001b[49m\u001b[43m,\u001b[49m\u001b[43m \u001b[49m\u001b[43mkernel\u001b[49m\u001b[43m,\u001b[49m\u001b[43m \u001b[49m\u001b[43mrandom_seed\u001b[49m\u001b[38;5;241;43m=\u001b[39;49m\u001b[43mseed\u001b[49m\u001b[43m)\u001b[49m\n\u001b[0;32m    256\u001b[0m \u001b[38;5;66;03m# see comment on the other call to np.iinfo in this file\u001b[39;00m\n\u001b[0;32m    258\u001b[0m \u001b[38;5;28mself\u001b[39m\u001b[38;5;241m.\u001b[39mshape_fit_ \u001b[38;5;241m=\u001b[39m X\u001b[38;5;241m.\u001b[39mshape \u001b[38;5;28;01mif\u001b[39;00m \u001b[38;5;28mhasattr\u001b[39m(X, \u001b[38;5;124m\"\u001b[39m\u001b[38;5;124mshape\u001b[39m\u001b[38;5;124m\"\u001b[39m) \u001b[38;5;28;01melse\u001b[39;00m (n_samples,)\n",
      "File \u001b[1;32m~\\anaconda3\\lib\\site-packages\\sklearn\\svm\\_base.py:315\u001b[0m, in \u001b[0;36mBaseLibSVM._dense_fit\u001b[1;34m(self, X, y, sample_weight, solver_type, kernel, random_seed)\u001b[0m\n\u001b[0;32m    302\u001b[0m libsvm\u001b[38;5;241m.\u001b[39mset_verbosity_wrap(\u001b[38;5;28mself\u001b[39m\u001b[38;5;241m.\u001b[39mverbose)\n\u001b[0;32m    304\u001b[0m \u001b[38;5;66;03m# we don't pass **self.get_params() to allow subclasses to\u001b[39;00m\n\u001b[0;32m    305\u001b[0m \u001b[38;5;66;03m# add other parameters to __init__\u001b[39;00m\n\u001b[0;32m    306\u001b[0m (\n\u001b[0;32m    307\u001b[0m     \u001b[38;5;28mself\u001b[39m\u001b[38;5;241m.\u001b[39msupport_,\n\u001b[0;32m    308\u001b[0m     \u001b[38;5;28mself\u001b[39m\u001b[38;5;241m.\u001b[39msupport_vectors_,\n\u001b[0;32m    309\u001b[0m     \u001b[38;5;28mself\u001b[39m\u001b[38;5;241m.\u001b[39m_n_support,\n\u001b[0;32m    310\u001b[0m     \u001b[38;5;28mself\u001b[39m\u001b[38;5;241m.\u001b[39mdual_coef_,\n\u001b[0;32m    311\u001b[0m     \u001b[38;5;28mself\u001b[39m\u001b[38;5;241m.\u001b[39mintercept_,\n\u001b[0;32m    312\u001b[0m     \u001b[38;5;28mself\u001b[39m\u001b[38;5;241m.\u001b[39m_probA,\n\u001b[0;32m    313\u001b[0m     \u001b[38;5;28mself\u001b[39m\u001b[38;5;241m.\u001b[39m_probB,\n\u001b[0;32m    314\u001b[0m     \u001b[38;5;28mself\u001b[39m\u001b[38;5;241m.\u001b[39mfit_status_,\n\u001b[1;32m--> 315\u001b[0m ) \u001b[38;5;241m=\u001b[39m \u001b[43mlibsvm\u001b[49m\u001b[38;5;241;43m.\u001b[39;49m\u001b[43mfit\u001b[49m\u001b[43m(\u001b[49m\n\u001b[0;32m    316\u001b[0m \u001b[43m    \u001b[49m\u001b[43mX\u001b[49m\u001b[43m,\u001b[49m\n\u001b[0;32m    317\u001b[0m \u001b[43m    \u001b[49m\u001b[43my\u001b[49m\u001b[43m,\u001b[49m\n\u001b[0;32m    318\u001b[0m \u001b[43m    \u001b[49m\u001b[43msvm_type\u001b[49m\u001b[38;5;241;43m=\u001b[39;49m\u001b[43msolver_type\u001b[49m\u001b[43m,\u001b[49m\n\u001b[0;32m    319\u001b[0m \u001b[43m    \u001b[49m\u001b[43msample_weight\u001b[49m\u001b[38;5;241;43m=\u001b[39;49m\u001b[43msample_weight\u001b[49m\u001b[43m,\u001b[49m\n\u001b[0;32m    320\u001b[0m \u001b[43m    \u001b[49m\u001b[43mclass_weight\u001b[49m\u001b[38;5;241;43m=\u001b[39;49m\u001b[38;5;28;43mself\u001b[39;49m\u001b[38;5;241;43m.\u001b[39;49m\u001b[43mclass_weight_\u001b[49m\u001b[43m,\u001b[49m\n\u001b[0;32m    321\u001b[0m \u001b[43m    \u001b[49m\u001b[43mkernel\u001b[49m\u001b[38;5;241;43m=\u001b[39;49m\u001b[43mkernel\u001b[49m\u001b[43m,\u001b[49m\n\u001b[0;32m    322\u001b[0m \u001b[43m    \u001b[49m\u001b[43mC\u001b[49m\u001b[38;5;241;43m=\u001b[39;49m\u001b[38;5;28;43mself\u001b[39;49m\u001b[38;5;241;43m.\u001b[39;49m\u001b[43mC\u001b[49m\u001b[43m,\u001b[49m\n\u001b[0;32m    323\u001b[0m \u001b[43m    \u001b[49m\u001b[43mnu\u001b[49m\u001b[38;5;241;43m=\u001b[39;49m\u001b[38;5;28;43mself\u001b[39;49m\u001b[38;5;241;43m.\u001b[39;49m\u001b[43mnu\u001b[49m\u001b[43m,\u001b[49m\n\u001b[0;32m    324\u001b[0m \u001b[43m    \u001b[49m\u001b[43mprobability\u001b[49m\u001b[38;5;241;43m=\u001b[39;49m\u001b[38;5;28;43mself\u001b[39;49m\u001b[38;5;241;43m.\u001b[39;49m\u001b[43mprobability\u001b[49m\u001b[43m,\u001b[49m\n\u001b[0;32m    325\u001b[0m \u001b[43m    \u001b[49m\u001b[43mdegree\u001b[49m\u001b[38;5;241;43m=\u001b[39;49m\u001b[38;5;28;43mself\u001b[39;49m\u001b[38;5;241;43m.\u001b[39;49m\u001b[43mdegree\u001b[49m\u001b[43m,\u001b[49m\n\u001b[0;32m    326\u001b[0m \u001b[43m    \u001b[49m\u001b[43mshrinking\u001b[49m\u001b[38;5;241;43m=\u001b[39;49m\u001b[38;5;28;43mself\u001b[39;49m\u001b[38;5;241;43m.\u001b[39;49m\u001b[43mshrinking\u001b[49m\u001b[43m,\u001b[49m\n\u001b[0;32m    327\u001b[0m \u001b[43m    \u001b[49m\u001b[43mtol\u001b[49m\u001b[38;5;241;43m=\u001b[39;49m\u001b[38;5;28;43mself\u001b[39;49m\u001b[38;5;241;43m.\u001b[39;49m\u001b[43mtol\u001b[49m\u001b[43m,\u001b[49m\n\u001b[0;32m    328\u001b[0m \u001b[43m    \u001b[49m\u001b[43mcache_size\u001b[49m\u001b[38;5;241;43m=\u001b[39;49m\u001b[38;5;28;43mself\u001b[39;49m\u001b[38;5;241;43m.\u001b[39;49m\u001b[43mcache_size\u001b[49m\u001b[43m,\u001b[49m\n\u001b[0;32m    329\u001b[0m \u001b[43m    \u001b[49m\u001b[43mcoef0\u001b[49m\u001b[38;5;241;43m=\u001b[39;49m\u001b[38;5;28;43mself\u001b[39;49m\u001b[38;5;241;43m.\u001b[39;49m\u001b[43mcoef0\u001b[49m\u001b[43m,\u001b[49m\n\u001b[0;32m    330\u001b[0m \u001b[43m    \u001b[49m\u001b[43mgamma\u001b[49m\u001b[38;5;241;43m=\u001b[39;49m\u001b[38;5;28;43mself\u001b[39;49m\u001b[38;5;241;43m.\u001b[39;49m\u001b[43m_gamma\u001b[49m\u001b[43m,\u001b[49m\n\u001b[0;32m    331\u001b[0m \u001b[43m    \u001b[49m\u001b[43mepsilon\u001b[49m\u001b[38;5;241;43m=\u001b[39;49m\u001b[38;5;28;43mself\u001b[39;49m\u001b[38;5;241;43m.\u001b[39;49m\u001b[43mepsilon\u001b[49m\u001b[43m,\u001b[49m\n\u001b[0;32m    332\u001b[0m \u001b[43m    \u001b[49m\u001b[43mmax_iter\u001b[49m\u001b[38;5;241;43m=\u001b[39;49m\u001b[38;5;28;43mself\u001b[39;49m\u001b[38;5;241;43m.\u001b[39;49m\u001b[43mmax_iter\u001b[49m\u001b[43m,\u001b[49m\n\u001b[0;32m    333\u001b[0m \u001b[43m    \u001b[49m\u001b[43mrandom_seed\u001b[49m\u001b[38;5;241;43m=\u001b[39;49m\u001b[43mrandom_seed\u001b[49m\u001b[43m,\u001b[49m\n\u001b[0;32m    334\u001b[0m \u001b[43m\u001b[49m\u001b[43m)\u001b[49m\n\u001b[0;32m    336\u001b[0m \u001b[38;5;28mself\u001b[39m\u001b[38;5;241m.\u001b[39m_warn_from_fit_status()\n",
      "File \u001b[1;32msklearn\\svm\\_libsvm.pyx:58\u001b[0m, in \u001b[0;36msklearn.svm._libsvm.fit\u001b[1;34m()\u001b[0m\n",
      "File \u001b[1;32m~\\anaconda3\\lib\\site-packages\\pandas\\core\\series.py:191\u001b[0m, in \u001b[0;36m_coerce_method.<locals>.wrapper\u001b[1;34m(self)\u001b[0m\n\u001b[0;32m    189\u001b[0m \u001b[38;5;28;01mif\u001b[39;00m \u001b[38;5;28mlen\u001b[39m(\u001b[38;5;28mself\u001b[39m) \u001b[38;5;241m==\u001b[39m \u001b[38;5;241m1\u001b[39m:\n\u001b[0;32m    190\u001b[0m     \u001b[38;5;28;01mreturn\u001b[39;00m converter(\u001b[38;5;28mself\u001b[39m\u001b[38;5;241m.\u001b[39miloc[\u001b[38;5;241m0\u001b[39m])\n\u001b[1;32m--> 191\u001b[0m \u001b[38;5;28;01mraise\u001b[39;00m \u001b[38;5;167;01mTypeError\u001b[39;00m(\u001b[38;5;124mf\u001b[39m\u001b[38;5;124m\"\u001b[39m\u001b[38;5;124mcannot convert the series to \u001b[39m\u001b[38;5;132;01m{\u001b[39;00mconverter\u001b[38;5;132;01m}\u001b[39;00m\u001b[38;5;124m\"\u001b[39m)\n",
      "\u001b[1;31mTypeError\u001b[0m: cannot convert the series to <class 'float'>"
     ]
    }
   ],
   "source": [
    "std = np.std(X_train4)\n",
    "svr01 = SVR(C=std, epsilon=0.2*std)\n",
    "svr01.fit(X_train4.astype(float), y_train2.astype(float))"
   ]
  },
  {
   "cell_type": "code",
   "execution_count": 28,
   "id": "3467c9fc-d629-47e3-bcc9-cbae3a585157",
   "metadata": {},
   "outputs": [
    {
     "name": "stdout",
     "output_type": "stream",
     "text": [
      "Performing 5-fold cross-validation...\n"
     ]
    },
    {
     "name": "stderr",
     "output_type": "stream",
     "text": [
      "C:\\Users\\augus\\anaconda3\\lib\\site-packages\\sklearn\\model_selection\\_validation.py:372: FitFailedWarning: \n",
      "5 fits failed out of a total of 5.\n",
      "The score on these train-test partitions for these parameters will be set to nan.\n",
      "If these failures are not expected, you can try to debug them by setting error_score='raise'.\n",
      "\n",
      "Below are more details about the failures:\n",
      "--------------------------------------------------------------------------------\n",
      "5 fits failed with the following error:\n",
      "Traceback (most recent call last):\n",
      "  File \"C:\\Users\\augus\\anaconda3\\lib\\site-packages\\sklearn\\model_selection\\_validation.py\", line 680, in _fit_and_score\n",
      "    estimator.fit(X_train, y_train, **fit_params)\n",
      "  File \"C:\\Users\\augus\\anaconda3\\lib\\site-packages\\sklearn\\svm\\_base.py\", line 255, in fit\n",
      "    fit(X, y, sample_weight, solver_type, kernel, random_seed=seed)\n",
      "  File \"C:\\Users\\augus\\anaconda3\\lib\\site-packages\\sklearn\\svm\\_base.py\", line 315, in _dense_fit\n",
      "    ) = libsvm.fit(\n",
      "  File \"sklearn\\svm\\_libsvm.pyx\", line 58, in sklearn.svm._libsvm.fit\n",
      "  File \"C:\\Users\\augus\\anaconda3\\lib\\site-packages\\pandas\\core\\series.py\", line 191, in wrapper\n",
      "    raise TypeError(f\"cannot convert the series to {converter}\")\n",
      "TypeError: cannot convert the series to <class 'float'>\n",
      "\n",
      "  warnings.warn(some_fits_failed_message, FitFailedWarning)\n"
     ]
    },
    {
     "ename": "NotFittedError",
     "evalue": "All estimators failed to fit",
     "output_type": "error",
     "traceback": [
      "\u001b[1;31m---------------------------------------------------------------------------\u001b[0m",
      "\u001b[1;31mNotFittedError\u001b[0m                            Traceback (most recent call last)",
      "Input \u001b[1;32mIn [28]\u001b[0m, in \u001b[0;36m<cell line: 4>\u001b[1;34m()\u001b[0m\n\u001b[0;32m      1\u001b[0m std \u001b[38;5;241m=\u001b[39m np\u001b[38;5;241m.\u001b[39mstd(X_train4)\n\u001b[0;32m      2\u001b[0m svr01 \u001b[38;5;241m=\u001b[39m SVR(C\u001b[38;5;241m=\u001b[39mstd, epsilon\u001b[38;5;241m=\u001b[39m\u001b[38;5;241m0.2\u001b[39m\u001b[38;5;241m*\u001b[39mstd)\n\u001b[1;32m----> 4\u001b[0m scores \u001b[38;5;241m=\u001b[39m \u001b[43mpmh\u001b[49m\u001b[38;5;241;43m.\u001b[39;49m\u001b[43mcv_readout_r_to_c\u001b[49m\u001b[43m(\u001b[49m\u001b[43msvr01\u001b[49m\u001b[43m,\u001b[49m\n\u001b[0;32m      5\u001b[0m \u001b[43m                    \u001b[49m\u001b[43mX_train4\u001b[49m\u001b[43m,\u001b[49m\n\u001b[0;32m      6\u001b[0m \u001b[43m                    \u001b[49m\u001b[43my_train2\u001b[49m\u001b[43m)\u001b[49m\n\u001b[0;32m      7\u001b[0m scores\n",
      "File \u001b[1;32m~\\Desktop\\Projects\\seattle\\notebooks\\../src\\predictive_model_helpers.py:178\u001b[0m, in \u001b[0;36mcv_readout_r_to_c\u001b[1;34m(model, X, y)\u001b[0m\n\u001b[0;32m    176\u001b[0m \u001b[38;5;28mprint\u001b[39m(\u001b[38;5;124m'\u001b[39m\u001b[38;5;124mPerforming 5-fold cross-validation...\u001b[39m\u001b[38;5;124m'\u001b[39m)\n\u001b[0;32m    177\u001b[0m \u001b[38;5;66;03m#scores = cross_validate(model, X, y, cv=5, scoring=['precision','recall','f1','confusion_matrix'])\u001b[39;00m\n\u001b[1;32m--> 178\u001b[0m raw \u001b[38;5;241m=\u001b[39m \u001b[43mcross_validate\u001b[49m\u001b[43m(\u001b[49m\u001b[43mmodel\u001b[49m\u001b[43m,\u001b[49m\u001b[43m \u001b[49m\u001b[43mX\u001b[49m\u001b[43m,\u001b[49m\u001b[43m \u001b[49m\u001b[43my\u001b[49m\u001b[43m,\u001b[49m\u001b[43m \u001b[49m\u001b[43mcv\u001b[49m\u001b[38;5;241;43m=\u001b[39;49m\u001b[38;5;241;43m5\u001b[39;49m\u001b[43m,\u001b[49m\u001b[43m \u001b[49m\u001b[43mscoring\u001b[49m\u001b[38;5;241;43m=\u001b[39;49m\u001b[43mall_inclusive_scorer_r_to_c\u001b[49m\u001b[43m)\u001b[49m\n\u001b[0;32m    179\u001b[0m \u001b[38;5;28mprint\u001b[39m(\u001b[38;5;124m'\u001b[39m\u001b[38;5;124mAggregating the scores...\u001b[39m\u001b[38;5;124m'\u001b[39m)\n\u001b[0;32m    180\u001b[0m sum_cm \u001b[38;5;241m=\u001b[39m np\u001b[38;5;241m.\u001b[39marray([[\u001b[38;5;28msum\u001b[39m(raw[\u001b[38;5;124m'\u001b[39m\u001b[38;5;124mtest_tn\u001b[39m\u001b[38;5;124m'\u001b[39m]), \u001b[38;5;28msum\u001b[39m(raw[\u001b[38;5;124m'\u001b[39m\u001b[38;5;124mtest_fp\u001b[39m\u001b[38;5;124m'\u001b[39m])],\n\u001b[0;32m    181\u001b[0m                    [\u001b[38;5;28msum\u001b[39m(raw[\u001b[38;5;124m'\u001b[39m\u001b[38;5;124mtest_fn\u001b[39m\u001b[38;5;124m'\u001b[39m]), \u001b[38;5;28msum\u001b[39m(raw[\u001b[38;5;124m'\u001b[39m\u001b[38;5;124mtest_tp\u001b[39m\u001b[38;5;124m'\u001b[39m])]])\n",
      "File \u001b[1;32m~\\anaconda3\\lib\\site-packages\\sklearn\\model_selection\\_validation.py:292\u001b[0m, in \u001b[0;36mcross_validate\u001b[1;34m(estimator, X, y, groups, scoring, cv, n_jobs, verbose, fit_params, pre_dispatch, return_train_score, return_estimator, error_score)\u001b[0m\n\u001b[0;32m    288\u001b[0m \u001b[38;5;66;03m# For callabe scoring, the return type is only know after calling. If the\u001b[39;00m\n\u001b[0;32m    289\u001b[0m \u001b[38;5;66;03m# return type is a dictionary, the error scores can now be inserted with\u001b[39;00m\n\u001b[0;32m    290\u001b[0m \u001b[38;5;66;03m# the correct key.\u001b[39;00m\n\u001b[0;32m    291\u001b[0m \u001b[38;5;28;01mif\u001b[39;00m callable(scoring):\n\u001b[1;32m--> 292\u001b[0m     \u001b[43m_insert_error_scores\u001b[49m\u001b[43m(\u001b[49m\u001b[43mresults\u001b[49m\u001b[43m,\u001b[49m\u001b[43m \u001b[49m\u001b[43merror_score\u001b[49m\u001b[43m)\u001b[49m\n\u001b[0;32m    294\u001b[0m results \u001b[38;5;241m=\u001b[39m _aggregate_score_dicts(results)\n\u001b[0;32m    296\u001b[0m ret \u001b[38;5;241m=\u001b[39m {}\n",
      "File \u001b[1;32m~\\anaconda3\\lib\\site-packages\\sklearn\\model_selection\\_validation.py:331\u001b[0m, in \u001b[0;36m_insert_error_scores\u001b[1;34m(results, error_score)\u001b[0m\n\u001b[0;32m    328\u001b[0m         successful_score \u001b[38;5;241m=\u001b[39m result[\u001b[38;5;124m\"\u001b[39m\u001b[38;5;124mtest_scores\u001b[39m\u001b[38;5;124m\"\u001b[39m]\n\u001b[0;32m    330\u001b[0m \u001b[38;5;28;01mif\u001b[39;00m successful_score \u001b[38;5;129;01mis\u001b[39;00m \u001b[38;5;28;01mNone\u001b[39;00m:\n\u001b[1;32m--> 331\u001b[0m     \u001b[38;5;28;01mraise\u001b[39;00m NotFittedError(\u001b[38;5;124m\"\u001b[39m\u001b[38;5;124mAll estimators failed to fit\u001b[39m\u001b[38;5;124m\"\u001b[39m)\n\u001b[0;32m    333\u001b[0m \u001b[38;5;28;01mif\u001b[39;00m \u001b[38;5;28misinstance\u001b[39m(successful_score, \u001b[38;5;28mdict\u001b[39m):\n\u001b[0;32m    334\u001b[0m     formatted_error \u001b[38;5;241m=\u001b[39m {name: error_score \u001b[38;5;28;01mfor\u001b[39;00m name \u001b[38;5;129;01min\u001b[39;00m successful_score}\n",
      "\u001b[1;31mNotFittedError\u001b[0m: All estimators failed to fit"
     ]
    }
   ],
   "source": [
    "std = np.std(X_train4)\n",
    "svr01 = SVR(C=std, epsilon=0.2*std)\n",
    "\n",
    "scores = pmh.cv_readout_r_to_c(svr01,\n",
    "                    X_train4,\n",
    "                    y_train2)\n",
    "scores"
   ]
  },
  {
   "cell_type": "code",
   "execution_count": null,
   "id": "55830b01-7b80-4996-80e1-2024cab67566",
   "metadata": {},
   "outputs": [],
   "source": []
  },
  {
   "cell_type": "markdown",
   "id": "21d66ed2-ec0a-4941-8279-68d22ae43d35",
   "metadata": {},
   "source": [
    "Describe this well!!"
   ]
  },
  {
   "cell_type": "markdown",
   "id": "32d3383a-0eca-4393-a24f-f775566ee852",
   "metadata": {},
   "source": [
    "### Classic readout function\n",
    "\n",
    "- does 5-fold CV and prints confusion matrix, as well as precision, recall, f1, and the standard error of each score."
   ]
  },
  {
   "cell_type": "markdown",
   "id": "76987fe7-15b1-4ec2-964b-2ab578be8226",
   "metadata": {
    "tags": []
   },
   "source": [
    "### Create datasets"
   ]
  },
  {
   "cell_type": "code",
   "execution_count": null,
   "id": "cce56f44-d2e5-487b-b870-f84ad28ff61a",
   "metadata": {},
   "outputs": [],
   "source": [
    "feats03 = ['Hour','DOW','Month','station name','next station']"
   ]
  },
  {
   "cell_type": "code",
   "execution_count": null,
   "id": "dc4be65f-dd27-4668-993b-d83bbbdb9e0e",
   "metadata": {},
   "outputs": [],
   "source": [
    "feats = feats03"
   ]
  },
  {
   "cell_type": "markdown",
   "id": "675457b7-8d17-4983-9a9d-8f7c35c5b702",
   "metadata": {},
   "source": [
    "What proportion of the dataset is the clear_obs versus the borderline observations?"
   ]
  },
  {
   "cell_type": "markdown",
   "id": "23abd159-3cc5-4b0c-bdea-7a4a8ef047fd",
   "metadata": {
    "tags": []
   },
   "source": [
    "### Predictive models using traditional dataset"
   ]
  },
  {
   "cell_type": "code",
   "execution_count": null,
   "id": "9037eb13-2777-4cde-a4ed-7b70b2dbed38",
   "metadata": {},
   "outputs": [],
   "source": [
    "logi08 = LogisticRegression(class_weight='balanced', solver='saga', max_iter=500)\n",
    "\n",
    "X_train, y_train = pmh.create_train_datasets(df05_train, feats=feats03, onehot=True, remove_borderline=False,\n",
    "                                         sample_size=100000, problem='classification')\n",
    "\n",
    "scores = pmh.cv_readout(logi08,\n",
    "                    X_train,\n",
    "                    y_train)\n",
    "scores"
   ]
  },
  {
   "cell_type": "markdown",
   "id": "4b7b3555-138f-4909-a3dd-c335bcabc241",
   "metadata": {},
   "source": [
    "Random Forest actually works better in some ways:"
   ]
  },
  {
   "cell_type": "code",
   "execution_count": null,
   "id": "b3114fc6-c279-4a41-8fa1-571fd0989bdc",
   "metadata": {},
   "outputs": [],
   "source": [
    "forest01 = RandomForestClassifier()\n",
    "\n",
    "X_train, y_train = create_train_datasets(feats=feats03, onehot=True, remove_borderline=False,\n",
    "                                         sample_size=100000, problem='classification')\n",
    "\n",
    "scores = cv_readout(forest01,\n",
    "                    X_train,\n",
    "                    y_train)\n",
    "scores"
   ]
  },
  {
   "cell_type": "markdown",
   "id": "da8a788c-8767-4064-ae87-774a112fd2ba",
   "metadata": {},
   "source": [
    "Finally, here's Random Forest with `class_weight='balanced'`. It has better recall but worse precision than the first RF:"
   ]
  },
  {
   "cell_type": "code",
   "execution_count": null,
   "id": "c22c126b-8fab-4d4d-9657-3120d392d387",
   "metadata": {},
   "outputs": [],
   "source": [
    "forest02 = RandomForestClassifier(class_weight='balanced')\n",
    "\n",
    "X_train, y_train = create_train_datasets(feats=feats03, onehot=True, remove_borderline=False,\n",
    "                                         sample_size=100000, problem='classification')\n",
    "\n",
    "scores = cv_readout(forest02,\n",
    "                    X_train,\n",
    "                    y_train)\n",
    "scores"
   ]
  },
  {
   "cell_type": "markdown",
   "id": "74d23057-8f8d-4a32-b747-c302f18c8b52",
   "metadata": {
    "tags": []
   },
   "source": [
    "Linear Regression almost never guesses values >74, so it gets dismal recall:"
   ]
  },
  {
   "cell_type": "code",
   "execution_count": null,
   "id": "c37e9ffe-61bb-4953-97ff-a2cc34d6b5a6",
   "metadata": {},
   "outputs": [],
   "source": [
    "linreg01 = LinearRegression()\n",
    "\n",
    "X_train, y_train = create_train_datasets(feats=feats03, onehot=True, remove_borderline=False,\n",
    "                                         sample_size=100000, problem='regression')\n",
    "\n",
    "scores = cv_readout_r_to_c(linreg01,\n",
    "                    X_train,\n",
    "                    y_train)\n",
    "scores"
   ]
  },
  {
   "cell_type": "markdown",
   "id": "44aa8363-aa35-4c4f-98b0-cef814b2ef53",
   "metadata": {},
   "source": [
    "TODO: Linear Regression scored with RMSE and plotted - this exercise will teach us something about our problem."
   ]
  },
  {
   "cell_type": "markdown",
   "id": "9d69c49b-5e1a-409f-a0b9-730bab1971d2",
   "metadata": {
    "tags": []
   },
   "source": [
    "### Predictive models on clearly separable dataset\n",
    "\n",
    "Go back to Models_Aug02.ipynb and re-paste if I want this."
   ]
  },
  {
   "cell_type": "markdown",
   "id": "5be902a2-59a3-4867-b603-3d4300c93a53",
   "metadata": {
    "tags": []
   },
   "source": [
    "### Explaining why Linear Regression may perform poorly\n",
    "\n",
    "- What types of conditions harbor Crowded observations, and what types of conditions harbor NonCrowded observations?\n",
    "- This analysis shows that, in order to successfully warn people of Crowded situations, some class imbalance approach is required."
   ]
  },
  {
   "cell_type": "code",
   "execution_count": null,
   "id": "a6ce9fc6-2cc5-4a8c-bf3a-fa24b6c89db4",
   "metadata": {},
   "outputs": [],
   "source": [
    "# WHat are the conditions in which we see the most Crowded observations?\n",
    "crowded_conditions = df04_train.groupby(['Hour','DOW','Month','stadir_ID'])['Crowded'].mean().sort_values().tail(3100)\n",
    "crowded_conditions"
   ]
  },
  {
   "cell_type": "markdown",
   "id": "f37ff410-a489-44e0-aae9-3c8c447f8cd2",
   "metadata": {},
   "source": [
    "There are 58000 conditions. Only about 3000 conditions have a greater than 50% chance of being Crowded. "
   ]
  },
  {
   "cell_type": "code",
   "execution_count": null,
   "id": "22076754-344e-4fab-acc7-6f8697834d87",
   "metadata": {},
   "outputs": [],
   "source": [
    "obscount = df04_train.groupby(['Hour','DOW','Month','stadir_ID'])['Crowded'].count()\n",
    "\n",
    "obscount_cwd_conditions = df04_train.groupby(['Hour','DOW','Month','stadir_ID'])['Crowded'].count()[crowded_conditions.index]\n",
    "\n",
    "print('There are',\n",
    "      sum(obscount_cwd_conditions), 'crowded observations that happen in crowded-majority conditions.' )"
   ]
  },
  {
   "cell_type": "code",
   "execution_count": null,
   "id": "156e76fe-0043-4c37-8f08-52d40c09ae37",
   "metadata": {},
   "outputs": [],
   "source": [
    "print('Recall that there are', df04_train['Crowded'].sum(), 'crowded observations.')"
   ]
  },
  {
   "cell_type": "code",
   "execution_count": null,
   "id": "53e1a086-0461-4a01-b307-f337707c89e2",
   "metadata": {},
   "outputs": [],
   "source": [
    "proportion = sum(obscount_cwd_conditions)/df04_train['Crowded'].sum()\n",
    "print('Therefore, only', proportion, 'of Crowded observations are ~easy to classify as Crowded.')"
   ]
  },
  {
   "cell_type": "code",
   "execution_count": null,
   "id": "d87fac59-96a7-423c-a6cc-c64da594e28c",
   "metadata": {},
   "outputs": [],
   "source": [
    "print('To get the rest of them, we need to address the class imbalance somehow.')"
   ]
  },
  {
   "cell_type": "code",
   "execution_count": null,
   "id": "270ce073-81e7-4d47-993b-7df3d8f5cf0c",
   "metadata": {},
   "outputs": [],
   "source": []
  }
 ],
 "metadata": {
  "kernelspec": {
   "display_name": "Python 3 (ipykernel)",
   "language": "python",
   "name": "python3"
  },
  "language_info": {
   "codemirror_mode": {
    "name": "ipython",
    "version": 3
   },
   "file_extension": ".py",
   "mimetype": "text/x-python",
   "name": "python",
   "nbconvert_exporter": "python",
   "pygments_lexer": "ipython3",
   "version": "3.9.12"
  }
 },
 "nbformat": 4,
 "nbformat_minor": 5
}
