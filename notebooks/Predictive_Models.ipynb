{
 "cells": [
  {
   "cell_type": "markdown",
   "id": "10c50912-2412-47f1-afd3-d5e8f6eb646e",
   "metadata": {},
   "source": [
    "# Predictive models\n",
    "\n",
    "This notebook includes many different approaches to predictive models."
   ]
  },
  {
   "cell_type": "code",
   "execution_count": 1,
   "id": "a11daa74-3604-4ea8-a43b-6a4989897579",
   "metadata": {},
   "outputs": [],
   "source": [
    "%matplotlib inline\n",
    "import numpy as np\n",
    "import pandas as pd\n",
    "import matplotlib as mpl\n",
    "import matplotlib.pyplot as plt\n",
    "import seaborn as sns\n",
    "\n",
    "from sklearn.model_selection import train_test_split"
   ]
  },
  {
   "cell_type": "code",
   "execution_count": 2,
   "id": "3e5f5cca-055c-45cd-bcb2-30953bce6aef",
   "metadata": {},
   "outputs": [],
   "source": [
    "import sys\n",
    "sys.path.append('../src/')\n",
    "import aposch_functions as aposch\n",
    "import predictive_model_helpers as pmh"
   ]
  },
  {
   "cell_type": "code",
   "execution_count": 41,
   "id": "6f16ed29-2b6d-4ef4-a46a-851ca5286f73",
   "metadata": {},
   "outputs": [],
   "source": [
    "from sklearn.utils import shuffle\n",
    "from sklearn.metrics import precision_score, recall_score, f1_score\n",
    "from sklearn.model_selection import train_test_split, cross_val_score, cross_validate\n",
    "\n",
    "from sklearn.linear_model import LogisticRegression\n",
    "from sklearn.ensemble import RandomForestClassifier\n",
    "from sklearn.ensemble import ExtraTreesClassifier\n",
    "from sklearn.svm import SVC\n",
    "from sklearn.svm import LinearSVC\n",
    "from sklearn.naive_bayes import CategoricalNB\n",
    "from sklearn.naive_bayes import GaussianNB\n",
    "from sklearn.neighbors import KNeighborsClassifier\n",
    "\n",
    "\n",
    "from sklearn.linear_model import LinearRegression\n",
    "from sklearn.ensemble import RandomForestRegressor\n",
    "from sklearn.ensemble import ExtraTreesRegressor\n",
    "from sklearn.svm import SVR\n",
    "from sklearn.dummy import DummyRegressor\n",
    "from sklearn.neighbors import KNeighborsRegressor\n",
    "\n",
    "from predictive_model_helpers import PersistenceRegressor"
   ]
  },
  {
   "cell_type": "markdown",
   "id": "dd680980-de91-417d-b9ca-255eeefb38f1",
   "metadata": {},
   "source": [
    "#### Get datasets"
   ]
  },
  {
   "cell_type": "code",
   "execution_count": 4,
   "id": "f7984959-4844-48b0-9e4d-baaa094aa851",
   "metadata": {},
   "outputs": [],
   "source": [
    "# read in data\n",
    "data2019 = pd.read_csv('../data/2019_RAW_APC_Data.csv.gz')\n",
    "\n",
    "# get df04\n",
    "df04 = aposch.clean_data(data2019)\n",
    "\n",
    "# split into test/train sets\n",
    "df04_train, df04_test = train_test_split(df04,\n",
    "                                         test_size=0.2,\n",
    "                                         random_state=19)\n",
    "\n",
    "# get cycle-related features\n",
    "df05_train = aposch.do_cycles_processing(df04_train)"
   ]
  },
  {
   "cell_type": "markdown",
   "id": "0a599710-ad37-4e6e-813a-2d2aeae96b16",
   "metadata": {},
   "source": [
    "### Create datasets with X in the format for \"predict next\""
   ]
  },
  {
   "cell_type": "markdown",
   "id": "1106d6ab-0519-4efe-b65c-620eec56f9c9",
   "metadata": {},
   "source": [
    "Need to think about this.\n",
    "\n",
    "Goal: use previous passenger counts to predict the current passenger count.\n",
    "\n",
    "Q: Should I train one model using all stadirs at once? Or, should I train a different model for each stadir?\n",
    "\n",
    "Q: What is the time granularity?\n",
    "- Q: What is the best time granularity that I even have?\n",
    "  - For a given stadir, look at what kind of granularity/resolution do we have?\n",
    "  - For a given stadir, how many observations do we have *per hour*?"
   ]
  },
  {
   "cell_type": "code",
   "execution_count": 5,
   "id": "f6b52725-8354-4d65-aee6-a4a92631e6a9",
   "metadata": {},
   "outputs": [
    {
     "data": {
      "text/plain": [
       "5.0"
      ]
     },
     "execution_count": 5,
     "metadata": {},
     "output_type": "execute_result"
    }
   ],
   "source": [
    "# For a given stadir, how many observations do we have *per hour*?\n",
    "# Ans: we have an average of 5 per hour\n",
    "agg = df04.groupby(['stadir_ID','DOY','Hour'])['passwithin'].count()\n",
    "agg.median()"
   ]
  },
  {
   "cell_type": "markdown",
   "id": "c1616b53-25e3-461e-ac3b-23ea87a38109",
   "metadata": {},
   "source": [
    "For a first trial, focus only on Pioneer Square going Southbound. Use only the observations of passwithin of other trains that passed through in the short time before the train of interest arrives."
   ]
  },
  {
   "cell_type": "markdown",
   "id": "61ad7999-a3ee-419b-aa8f-8c4d3e2f38be",
   "metadata": {},
   "source": [
    "Pioneer Southbound is stadir_ID 1211."
   ]
  },
  {
   "cell_type": "code",
   "execution_count": 6,
   "id": "8efe2194-7b15-4a8b-9636-eb635be9d8c3",
   "metadata": {},
   "outputs": [],
   "source": [
    "pioneer = df04.loc[df04['stadir_ID']==1211,\n",
    "       ['railcar ID','DOY','stop arrival time','passwithin']].sort_values('stop arrival time')"
   ]
  },
  {
   "cell_type": "code",
   "execution_count": 7,
   "id": "e0a767c8-046a-4fb8-94ac-591831c2af17",
   "metadata": {},
   "outputs": [],
   "source": [
    "pioneer_ts = pioneer.set_index('stop arrival time', drop=True)['passwithin']"
   ]
  },
  {
   "cell_type": "markdown",
   "id": "89872f6a-828f-485b-b0bd-db9f988ce35a",
   "metadata": {},
   "source": [
    "Get all the features we need:"
   ]
  },
  {
   "cell_type": "code",
   "execution_count": 8,
   "id": "110bab49-b983-45e7-8a25-08a003603ff0",
   "metadata": {},
   "outputs": [
    {
     "name": "stdout",
     "output_type": "stream",
     "text": [
      "did 3000 rows so far\n",
      "did 6000 rows so far\n",
      "did 9000 rows so far\n",
      "did 12000 rows so far\n",
      "did 15000 rows so far\n",
      "did 18000 rows so far\n",
      "did 21000 rows so far\n",
      "did 24000 rows so far\n",
      "did 27000 rows so far\n",
      "did 30000 rows so far\n",
      "did 33000 rows so far\n",
      "did 36000 rows so far\n"
     ]
    }
   ],
   "source": [
    "pioneer = pmh.get_features_10x15min(pioneer, pioneer_ts)"
   ]
  },
  {
   "cell_type": "code",
   "execution_count": 9,
   "id": "1b72944a-7f95-4001-84b7-ce4f0ee34a47",
   "metadata": {},
   "outputs": [
    {
     "data": {
      "text/plain": [
       "(37259, 14)"
      ]
     },
     "execution_count": 9,
     "metadata": {},
     "output_type": "execute_result"
    }
   ],
   "source": [
    "pioneer.shape"
   ]
  },
  {
   "cell_type": "code",
   "execution_count": 10,
   "id": "b17dd28a-1a99-4c23-99a1-20246c02d314",
   "metadata": {},
   "outputs": [],
   "source": [
    "X, y = pioneer.loc[:,'FMP_0':'FMP_9'], pioneer.loc[:,'passwithin']\n",
    "tridx = X.index.intersection(df04_train.index)\n",
    "X_train, y_train = X.loc[tridx,:], y[tridx]"
   ]
  },
  {
   "cell_type": "code",
   "execution_count": 11,
   "id": "0dc8acf5-eba0-4bfb-adc5-b0e3c3fcad41",
   "metadata": {},
   "outputs": [
    {
     "data": {
      "text/plain": [
       "FMP_0    0.445156\n",
       "FMP_1    0.419986\n",
       "FMP_2    0.222087\n",
       "FMP_3    0.435081\n",
       "FMP_4    0.357885\n",
       "FMP_5    0.425636\n",
       "FMP_6    0.324764\n",
       "FMP_7    0.392287\n",
       "FMP_8    0.306417\n",
       "FMP_9    0.505840\n",
       "dtype: float64"
      ]
     },
     "execution_count": 11,
     "metadata": {},
     "output_type": "execute_result"
    }
   ],
   "source": [
    "X.isna().sum(axis=0) / X.count(axis=0)"
   ]
  },
  {
   "cell_type": "code",
   "execution_count": 12,
   "id": "1ae949e8-8304-4420-a7f5-a13ca887aed4",
   "metadata": {},
   "outputs": [
    {
     "data": {
      "text/plain": [
       "(29819, 10)"
      ]
     },
     "execution_count": 12,
     "metadata": {},
     "output_type": "execute_result"
    }
   ],
   "source": [
    "X_train.shape"
   ]
  },
  {
   "cell_type": "markdown",
   "id": "3a536c2c-d29b-44ca-8824-7136f66bbd9c",
   "metadata": {},
   "source": [
    "Need to get rid of rows that have a lot of NaNs."
   ]
  },
  {
   "cell_type": "markdown",
   "id": "2166d803-2644-4198-8cb1-8338f374ba9b",
   "metadata": {},
   "source": [
    "Note: we shouldn't be allowed to linearly interpolate using the FMP_8 or FMP_9 - that info wouldn't be available to use in an app situation."
   ]
  },
  {
   "cell_type": "code",
   "execution_count": 14,
   "id": "3cd3054c-f76d-4967-83b2-ff41df520423",
   "metadata": {},
   "outputs": [
    {
     "name": "stdout",
     "output_type": "stream",
     "text": [
      "Before linear interpolation, X_train had this many NaNs:\n",
      "FMP_0     9163\n",
      "FMP_1     8844\n",
      "FMP_2     5481\n",
      "FMP_3     9118\n",
      "FMP_4     7850\n",
      "FMP_5     8917\n",
      "FMP_6     7290\n",
      "FMP_7     8382\n",
      "FMP_8     6970\n",
      "FMP_9    10037\n",
      "dtype: int64\n",
      "After linear interpolation, X_train2 had this many NaNs:\n",
      "FMP_0    9163\n",
      "FMP_1    4041\n",
      "FMP_2    2346\n",
      "FMP_3    2057\n",
      "FMP_4    1813\n",
      "FMP_5    1849\n",
      "FMP_6    2623\n",
      "FMP_7    8382\n",
      "dtype: int64\n",
      "After slight extrapolation, X_train3 had this many NaNs:\n",
      "FMP_0    2310\n",
      "FMP_1    1932\n",
      "FMP_2    1602\n",
      "FMP_3    1321\n",
      "FMP_4    1006\n",
      "FMP_5     850\n",
      "FMP_6     936\n",
      "FMP_7    1265\n",
      "dtype: int64\n",
      "Note that this many observations still have NaNs in X_train3: 2821\n",
      "X_train4 has 26998 observations. This is our primary training set.\n"
     ]
    }
   ],
   "source": [
    "print('Before linear interpolation, X_train had this many NaNs:')\n",
    "print(X_train.isna().sum())\n",
    "# interpolate for any NaN chains up to 4 NaNs wide.\n",
    "X_train2 = X_train.loc[:,'FMP_0':'FMP_7'].interpolate(axis=1, method='linear',\n",
    "                                limit=4, limit_direction='both', limit_area='inside')\n",
    "# extrapolate 2 NaNs with nearest obs\n",
    "X_train3 = X_train2.interpolate(axis=1, method='linear',\n",
    "                                limit=2, limit_direction='both', limit_area='outside')\n",
    "\n",
    "\n",
    "print('After linear interpolation, X_train2 had this many NaNs:')\n",
    "print(X_train2.isna().sum())\n",
    "\n",
    "print('After slight extrapolation, X_train3 had this many NaNs:')\n",
    "print(X_train3.isna().sum())\n",
    "\n",
    "# remove observations that still have NaNs\n",
    "obs_w_na = X_train3.isna().sum(axis=1) > 0\n",
    "print('Note that this many observations still have NaNs in X_train3:', sum(obs_w_na))\n",
    "X_train4 = X_train3.loc[~obs_w_na,:]\n",
    "print('X_train4 has', len(X_train4), 'observations. This is our primary training set.')\n",
    "\n",
    "# add back FMP 8 and 9 features\n",
    "X_train6 = X_train3.copy()\n",
    "X_train6['FMP_8'] = X_train['FMP_8']\n",
    "X_train6['FMP_9'] = X_train['FMP_9']\n",
    "\n",
    "\n",
    "# X_train7 (specifically its last column) is used for the \"most recent obs\" prediction\n",
    "X_train7 = X_train6.fillna(axis=1, method='ffill')\n",
    "\n",
    "# use this X_train8 for the dummy clasifier (has the correct number of rows)\n",
    "X_train8 = X_train7.loc[~obs_w_na,:]\n",
    "\n",
    "# a couple more special-case inputs for our persistence regressor\n",
    "X_train9 = np.array(X_train8.loc[:,'FMP_9']).reshape(-1,1)\n",
    "X_train10 = np.array(X_train8.loc[:,'FMP_7']).reshape(-1,1)\n",
    "\n",
    "# these are our thrown out targets\n",
    "y_train_out = y_train[obs_w_na]\n",
    "\n",
    "# these are our targets we will use\n",
    "y_train2 = y_train[~obs_w_na]\n",
    "\n"
   ]
  },
  {
   "cell_type": "code",
   "execution_count": 15,
   "id": "d3f73529-8089-4bd5-a970-e41c17740915",
   "metadata": {},
   "outputs": [
    {
     "data": {
      "image/png": "[encoded data removed]",
      "text/plain": [
       "<Figure size 432x288 with 1 Axes>"
      ]
     },
     "metadata": {
      "needs_background": "light"
     },
     "output_type": "display_data"
    }
   ],
   "source": [
    "# look into the observations that were thrown out:\n",
    "# Do a hist using stop arrival time\n",
    "arrival_times = pioneer.loc[tridx,'stop arrival time']\n",
    "\n",
    "sns.histplot(x=arrival_times[obs_w_na].dt.hour, discrete=True)\n",
    "plt.title('Pioneer Southbound: With too many NaNs to fill reasonably, I removed these observations. Most are in the 5am and 6am hours.')\n",
    "plt.xlabel('Hour of day')\n",
    "plt.savefig('../images/PM_removed_obs.png', bbox_inches='tight')"
   ]
  },
  {
   "cell_type": "code",
   "execution_count": 16,
   "id": "2a7eb3a4-fc48-4bd3-a095-438fee09d519",
   "metadata": {},
   "outputs": [
    {
     "data": {
      "image/png": "[encoded data removed]",
      "text/plain": [
       "<Figure size 432x288 with 1 Axes>"
      ]
     },
     "metadata": {
      "needs_background": "light"
     },
     "output_type": "display_data"
    }
   ],
   "source": [
    "# look into the observations that were kept in:\n",
    "# Do a hist using stop arrival time\n",
    "arrival_times = pioneer.loc[tridx,'stop arrival time']\n",
    "\n",
    "sns.histplot(x=arrival_times.dt.hour, discrete=True, hue=~obs_w_na, multiple='stack',\n",
    "             hue_order=[0,1])\n",
    "plt.title('Pioneer Southbound: Hour of day for training observations kept versus removed')\n",
    "plt.xlabel('Hour of day')\n",
    "new_l=['Kept','Removed']\n",
    "plt.legend(labels=new_l)\n",
    "plt.savefig('../images/PM_kept_thrown_obs.png', bbox_inches='tight')"
   ]
  },
  {
   "cell_type": "markdown",
   "id": "916857c2-fb04-4d86-b925-b20e3684b499",
   "metadata": {},
   "source": [
    "Note that we kept 26998/29819 = 91% of observations. Great."
   ]
  },
  {
   "cell_type": "code",
   "execution_count": 17,
   "id": "2054c26a-b07a-4b1a-9fdb-147db0f67c0b",
   "metadata": {},
   "outputs": [
    {
     "name": "stdout",
     "output_type": "stream",
     "text": [
      "Check on the ones we threw out:\n",
      "They had mean 23.588089330024815 and 109 or 0.038638780574264446 were Crowded >74.\n"
     ]
    }
   ],
   "source": [
    "print('Check on the ones we threw out:')\n",
    "print('They had mean', y_train_out.mean(), 'and',\n",
    "      sum(y_train_out > 74), 'or', sum(y_train_out > 74)/len(y_train_out) ,'were Crowded >74.')"
   ]
  },
  {
   "cell_type": "markdown",
   "id": "e8a032e3-b04f-4197-8adf-f967a44de30b",
   "metadata": {
    "tags": []
   },
   "source": [
    "## Running the predictive models"
   ]
  },
  {
   "cell_type": "markdown",
   "id": "b65b5aff-d1e5-4b61-a468-504c5f6e25bd",
   "metadata": {},
   "source": [
    "Recall: use X_train4 for most models, X_train9 and X_train10 for persistence, and y_train2."
   ]
  },
  {
   "cell_type": "code",
   "execution_count": 175,
   "id": "e1699685-697e-46c8-8289-ccfa155d5476",
   "metadata": {},
   "outputs": [],
   "source": [
    "scores_dict = {}\n",
    "cm_dict = {}\n",
    "models_dict = {}"
   ]
  },
  {
   "cell_type": "code",
   "execution_count": 176,
   "id": "b040a8b2-92a1-4859-9413-c2fc5a95e358",
   "metadata": {},
   "outputs": [],
   "source": [
    "def run_print_save(name,\n",
    "                 estimator,\n",
    "                 X, y):\n",
    "    print('---', name, '---')\n",
    "    models_dict[name] = estimator\n",
    "\n",
    "    cm, sc = pmh.cv_readout_r_to_c(models_dict[name],\n",
    "                                            X,\n",
    "                                            y)\n",
    "\n",
    "    cm_dict[name] = cm\n",
    "    scores_dict[name] = sc"
   ]
  },
  {
   "cell_type": "code",
   "execution_count": 177,
   "id": "ffd3100f-1b9c-44a1-8038-2f5d9bb19315",
   "metadata": {},
   "outputs": [
    {
     "name": "stdout",
     "output_type": "stream",
     "text": [
      "--- pers_00m ---\n",
      "Performing 5-fold cross-validation...\n",
      "Starting work on a new fold...\n",
      "Starting work on a new fold...\n",
      "Starting work on a new fold...\n",
      "Starting work on a new fold...\n",
      "Starting work on a new fold...\n",
      "Aggregating the scores...\n",
      "[[19190  1876]\n",
      " [ 1788  4144]]\n",
      "                mean       std\n",
      "precision   0.687307  0.012336\n",
      "recall      0.698915  0.015981\n",
      "f1          0.692958  0.011469\n",
      "rmse       27.384139  1.931778\n"
     ]
    }
   ],
   "source": [
    "run_print_save('pers_00m',\n",
    "             PersistenceRegressor(),\n",
    "             X_train9,\n",
    "             y_train2)"
   ]
  },
  {
   "cell_type": "code",
   "execution_count": 178,
   "id": "13b26989-bde7-4681-bc48-4f6c03a322b6",
   "metadata": {},
   "outputs": [
    {
     "name": "stdout",
     "output_type": "stream",
     "text": [
      "--- pers_30m ---\n",
      "Performing 5-fold cross-validation...\n",
      "Starting work on a new fold...\n",
      "Starting work on a new fold...\n",
      "Starting work on a new fold...\n",
      "Starting work on a new fold...\n",
      "Starting work on a new fold...\n",
      "Aggregating the scores...\n",
      "[[18990  2076]\n",
      " [ 2021  3911]]\n",
      "               mean       std\n",
      "precision   0.65123  0.022355\n",
      "recall     0.658555  0.012232\n",
      "f1         0.654802  0.016768\n",
      "rmse       29.50211  1.799824\n"
     ]
    }
   ],
   "source": [
    "run_print_save('pers_30m',\n",
    "             PersistenceRegressor(),\n",
    "             X_train10,\n",
    "             y_train2)"
   ]
  },
  {
   "cell_type": "code",
   "execution_count": 179,
   "id": "258f4372-e144-444b-9114-5c6525e5f3de",
   "metadata": {},
   "outputs": [
    {
     "name": "stdout",
     "output_type": "stream",
     "text": [
      "--- linreg_8f ---\n",
      "Performing 5-fold cross-validation...\n",
      "Starting work on a new fold...\n",
      "Starting work on a new fold...\n",
      "Starting work on a new fold...\n",
      "Starting work on a new fold...\n",
      "Starting work on a new fold...\n",
      "Aggregating the scores...\n",
      "[[19561  1505]\n",
      " [ 2279  3653]]\n",
      "                mean       std\n",
      "precision   0.706195  0.016539\n",
      "recall      0.615102  0.017651\n",
      "f1          0.657339  0.013765\n",
      "rmse       26.769431   1.55269\n"
     ]
    }
   ],
   "source": [
    "run_print_save('linreg_8f',\n",
    "             LinearRegression(),\n",
    "             X_train4,\n",
    "             y_train2)"
   ]
  },
  {
   "cell_type": "code",
   "execution_count": 180,
   "id": "e1c3a28e-8482-44dd-83f4-0ab70b69fa57",
   "metadata": {},
   "outputs": [
    {
     "name": "stdout",
     "output_type": "stream",
     "text": [
      "--- forest_8f ---\n",
      "Performing 5-fold cross-validation...\n",
      "Starting work on a new fold...\n",
      "Starting work on a new fold...\n",
      "Starting work on a new fold...\n",
      "Starting work on a new fold...\n",
      "Starting work on a new fold...\n",
      "Aggregating the scores...\n",
      "[[19514  1552]\n",
      " [ 1879  4053]]\n",
      "                mean       std\n",
      "precision   0.721964  0.013196\n",
      "recall      0.684662   0.01364\n",
      "f1           0.70259  0.004466\n",
      "rmse       25.177766  1.285401\n"
     ]
    }
   ],
   "source": [
    "run_print_save('forest_8f',\n",
    "             RandomForestRegressor(n_estimators=200, random_state=19),\n",
    "             X_train4,\n",
    "             y_train2)"
   ]
  },
  {
   "cell_type": "code",
   "execution_count": 181,
   "id": "445f94a7-e646-41f6-aba8-aab535fb6720",
   "metadata": {},
   "outputs": [
    {
     "name": "stdout",
     "output_type": "stream",
     "text": [
      "--- extrees_8f ---\n",
      "Performing 5-fold cross-validation...\n",
      "Starting work on a new fold...\n",
      "Starting work on a new fold...\n",
      "Starting work on a new fold...\n",
      "Starting work on a new fold...\n",
      "Starting work on a new fold...\n",
      "Aggregating the scores...\n",
      "[[19509  1557]\n",
      " [ 1826  4106]]\n",
      "                mean       std\n",
      "precision   0.724015  0.015064\n",
      "recall      0.693396  0.013634\n",
      "f1          0.708186  0.008481\n",
      "rmse       25.001882  1.248797\n"
     ]
    }
   ],
   "source": [
    "run_print_save('extrees_8f',\n",
    "             ExtraTreesRegressor(n_estimators=200, random_state=19),\n",
    "             X_train4,\n",
    "             y_train2)"
   ]
  },
  {
   "cell_type": "code",
   "execution_count": 182,
   "id": "7d9ca4be-9c98-4c46-bf88-018c6d3e8d2f",
   "metadata": {},
   "outputs": [
    {
     "name": "stdout",
     "output_type": "stream",
     "text": [
      "--- knn_8f ---\n",
      "Performing 5-fold cross-validation...\n",
      "Starting work on a new fold...\n",
      "Starting work on a new fold...\n",
      "Starting work on a new fold...\n",
      "Starting work on a new fold...\n",
      "Starting work on a new fold...\n",
      "Aggregating the scores...\n",
      "[[19624  1442]\n",
      " [ 1917  4015]]\n",
      "                mean       std\n",
      "precision   0.734272  0.014174\n",
      "recall       0.67791  0.014394\n",
      "f1          0.704811  0.009864\n",
      "rmse       24.796732  1.361973\n"
     ]
    }
   ],
   "source": [
    "run_print_save('knn_8f',\n",
    "             KNeighborsRegressor(n_neighbors=225),\n",
    "             X_train4,\n",
    "             y_train2)"
   ]
  },
  {
   "cell_type": "code",
   "execution_count": 183,
   "id": "c545c5fd-8ccf-448c-92be-3e51f62817d5",
   "metadata": {},
   "outputs": [
    {
     "name": "stdout",
     "output_type": "stream",
     "text": [
      "--- linreg_4f ---\n",
      "Performing 5-fold cross-validation...\n",
      "Starting work on a new fold...\n",
      "Starting work on a new fold...\n",
      "Starting work on a new fold...\n",
      "Starting work on a new fold...\n",
      "Starting work on a new fold...\n",
      "Aggregating the scores...\n",
      "[[19488  1578]\n",
      " [ 2321  3611]]\n",
      "                mean       std\n",
      "precision   0.694006  0.014614\n",
      "recall      0.607897  0.015724\n",
      "f1          0.648002  0.012957\n",
      "rmse       26.979719   1.56325\n"
     ]
    }
   ],
   "source": [
    "run_print_save('linreg_4f',\n",
    "             LinearRegression(),\n",
    "             X_train4.loc[:,'FMP_4':'FMP_7'],\n",
    "             y_train2)"
   ]
  },
  {
   "cell_type": "code",
   "execution_count": 184,
   "id": "ccac6b06-9a30-4173-852e-a82671d52f24",
   "metadata": {},
   "outputs": [
    {
     "name": "stdout",
     "output_type": "stream",
     "text": [
      "--- forest_4f ---\n",
      "Performing 5-fold cross-validation...\n",
      "Starting work on a new fold...\n",
      "Starting work on a new fold...\n",
      "Starting work on a new fold...\n",
      "Starting work on a new fold...\n",
      "Starting work on a new fold...\n",
      "Aggregating the scores...\n",
      "[[19231  1835]\n",
      " [ 2051  3881]]\n",
      "                mean       std\n",
      "precision   0.677811  0.014899\n",
      "recall      0.654564  0.007692\n",
      "f1          0.665891  0.008618\n",
      "rmse       27.263197  1.607631\n"
     ]
    }
   ],
   "source": [
    "run_print_save('forest_4f',\n",
    "             RandomForestRegressor(n_estimators=200, random_state=19),\n",
    "             X_train4.loc[:,'FMP_4':'FMP_7'],\n",
    "             y_train2)"
   ]
  },
  {
   "cell_type": "code",
   "execution_count": 185,
   "id": "d17fb231-0387-4297-bdea-cbb1a6b131c0",
   "metadata": {},
   "outputs": [
    {
     "name": "stdout",
     "output_type": "stream",
     "text": [
      "--- extrees_4f ---\n",
      "Performing 5-fold cross-validation...\n",
      "Starting work on a new fold...\n",
      "Starting work on a new fold...\n",
      "Starting work on a new fold...\n",
      "Starting work on a new fold...\n",
      "Starting work on a new fold...\n",
      "Aggregating the scores...\n",
      "[[19195  1871]\n",
      " [ 2051  3881]]\n",
      "               mean       std\n",
      "precision  0.673116  0.017058\n",
      "recall     0.654908  0.008983\n",
      "f1         0.663733  0.008916\n",
      "rmse       27.43838  1.489756\n"
     ]
    }
   ],
   "source": [
    "run_print_save('extrees_4f',\n",
    "             ExtraTreesRegressor(n_estimators=200, random_state=19),\n",
    "             X_train4.loc[:,'FMP_4':'FMP_7'],\n",
    "             y_train2)"
   ]
  },
  {
   "cell_type": "code",
   "execution_count": 186,
   "id": "e7f53413-adef-44ce-8478-4a3dfeff333d",
   "metadata": {},
   "outputs": [
    {
     "name": "stdout",
     "output_type": "stream",
     "text": [
      "--- knn_4f ---\n",
      "Performing 5-fold cross-validation...\n",
      "Starting work on a new fold...\n",
      "Starting work on a new fold...\n",
      "Starting work on a new fold...\n",
      "Starting work on a new fold...\n",
      "Starting work on a new fold...\n",
      "Aggregating the scores...\n",
      "[[19336  1730]\n",
      " [ 2014  3918]]\n",
      "                mean       std\n",
      "precision   0.692034  0.014478\n",
      "recall      0.660653  0.009005\n",
      "f1          0.675898  0.009304\n",
      "rmse       26.124959  1.534276\n"
     ]
    }
   ],
   "source": [
    "run_print_save('knn_4f',\n",
    "             KNeighborsRegressor(n_neighbors=225),\n",
    "             X_train4.loc[:,'FMP_4':'FMP_7'],\n",
    "             y_train2)"
   ]
  },
  {
   "cell_type": "markdown",
   "id": "f8f5950e-23bb-4c5f-afb2-5076cf9f16c1",
   "metadata": {},
   "source": [
    "### Plots"
   ]
  },
  {
   "cell_type": "markdown",
   "id": "9107b98e-d4e2-4cfc-a511-d0e688a7d326",
   "metadata": {},
   "source": [
    "Create datasets for plot and write to .csv:"
   ]
  },
  {
   "cell_type": "code",
   "execution_count": 191,
   "id": "a6f024d0-854e-497f-b6a7-c1c8cbe7e0a6",
   "metadata": {},
   "outputs": [],
   "source": [
    "for statistic in ['precision','recall','f1','rmse']:\n",
    "\n",
    "    stats = pd.DataFrame(index=scores_dict.keys())\n",
    "\n",
    "    for model_name in scores_dict.keys():\n",
    "\n",
    "        row = scores_dict[model_name].loc[statistic]\n",
    "        stats.loc[model_name,'mean'] = row['mean']\n",
    "        stats.loc[model_name,'std'] = row['std']\n",
    "\n",
    "    stats = stats.reset_index()\n",
    "    stats.to_csv('../data/'+statistic+'.csv', index=False)"
   ]
  },
  {
   "cell_type": "markdown",
   "id": "44b283e4-1af2-4402-bd2b-407734751446",
   "metadata": {},
   "source": [
    "Create plots:"
   ]
  },
  {
   "cell_type": "code",
   "execution_count": 192,
   "id": "0ed7170a-6b5b-45be-aa63-0dbfc9d83552",
   "metadata": {},
   "outputs": [],
   "source": [
    "for statistic in ['precision','recall','f1','rmse']:\n",
    "\n",
    "    df = pd.read_csv('../data/'+statistic+'.csv')\n",
    "\n",
    "    sns.set_theme(style='whitegrid')\n",
    "    sns.barplot(data=df,x='index',y='mean',\n",
    "                linewidth=0,\n",
    "                color=(0.8,0.85,1))\n",
    "    plt.errorbar(x=df['index'],y=df['mean'], linewidth=3,\n",
    "                yerr=df['std'], fmt='none', color=(0,0,0))\n",
    "    plt.xticks(rotation=45)\n",
    "    plt.title(statistic.capitalize()+' from 5-fold cross-validation. (Errorbar radius is one standard error.)')\n",
    "    plt.xlabel('Model name')\n",
    "    plt.ylabel(statistic.capitalize()+' (mean of 5 folds)')\n",
    "\n",
    "    plt.savefig('../images/'+statistic+'.png', bbox_inches='tight')\n",
    "    plt.close()"
   ]
  },
  {
   "cell_type": "code",
   "execution_count": null,
   "id": "547a436b-e50a-44d1-b7a9-dc700d78d390",
   "metadata": {},
   "outputs": [],
   "source": []
  },
  {
   "cell_type": "code",
   "execution_count": null,
   "id": "527f00c1-773b-46a3-841e-4091c9196e88",
   "metadata": {},
   "outputs": [],
   "source": []
  },
  {
   "cell_type": "code",
   "execution_count": null,
   "id": "09a08a02-6576-4bdf-8714-18ac0cd6f6e0",
   "metadata": {},
   "outputs": [],
   "source": [
    "run_print_save('knn01',\n",
    "             KNeighborsRegressor(n_neighbors=225),\n",
    "             X_train4,\n",
    "             y_train2)"
   ]
  },
  {
   "cell_type": "code",
   "execution_count": null,
   "id": "533df99c-915d-4ae8-bae7-a467300d5e27",
   "metadata": {},
   "outputs": [],
   "source": []
  },
  {
   "cell_type": "code",
   "execution_count": null,
   "id": "8bdec306-5129-46f4-b70f-a78761cc8538",
   "metadata": {},
   "outputs": [],
   "source": []
  },
  {
   "cell_type": "code",
   "execution_count": null,
   "id": "65b28913-2157-4ac7-8b25-68a669dda084",
   "metadata": {},
   "outputs": [],
   "source": []
  },
  {
   "cell_type": "code",
   "execution_count": null,
   "id": "2d0d972b-0f15-419d-9fd5-021d9cd77921",
   "metadata": {},
   "outputs": [],
   "source": []
  },
  {
   "cell_type": "code",
   "execution_count": null,
   "id": "eae791c8-36bc-447d-9d29-3419b88ecf88",
   "metadata": {},
   "outputs": [],
   "source": []
  }
 ],
 "metadata": {
  "kernelspec": {
   "display_name": "Python 3 (ipykernel)",
   "language": "python",
   "name": "python3"
  },
  "language_info": {
   "codemirror_mode": {
    "name": "ipython",
    "version": 3
   },
   "file_extension": ".py",
   "mimetype": "text/x-python",
   "name": "python",
   "nbconvert_exporter": "python",
   "pygments_lexer": "ipython3",
   "version": "3.9.12"
  }
 },
 "nbformat": 4,
 "nbformat_minor": 5
}
